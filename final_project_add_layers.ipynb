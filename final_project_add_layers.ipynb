{
 "cells": [
  {
   "cell_type": "markdown",
   "metadata": {},
   "source": [
    "## Final Project \n",
    "### Blindness Detection\n",
    "#### Group: Gareth Sun zs389, Zimu Li zl898, Arman Syed as3778\n"
   ]
  },
  {
   "cell_type": "markdown",
   "metadata": {},
   "source": [
    "### 1. Data Preprocess"
   ]
  },
  {
   "cell_type": "code",
   "execution_count": 1,
   "metadata": {},
   "outputs": [],
   "source": [
    "# Import the Library we need\n",
    "import numpy as np\n",
    "import pandas as pd\n",
    "from tensorflow.keras.preprocessing.image import ImageDataGenerator\n",
    "import tensorflow as tf\n",
    "import matplotlib.pyplot as plt\n",
    "\n"
   ]
  },
  {
   "cell_type": "code",
   "execution_count": 2,
   "metadata": {},
   "outputs": [
    {
     "data": {
      "text/html": [
       "<div>\n",
       "<style scoped>\n",
       "    .dataframe tbody tr th:only-of-type {\n",
       "        vertical-align: middle;\n",
       "    }\n",
       "\n",
       "    .dataframe tbody tr th {\n",
       "        vertical-align: top;\n",
       "    }\n",
       "\n",
       "    .dataframe thead th {\n",
       "        text-align: right;\n",
       "    }\n",
       "</style>\n",
       "<table border=\"1\" class=\"dataframe\">\n",
       "  <thead>\n",
       "    <tr style=\"text-align: right;\">\n",
       "      <th></th>\n",
       "      <th>id_code</th>\n",
       "      <th>diagnosis</th>\n",
       "      <th>pic_id</th>\n",
       "    </tr>\n",
       "  </thead>\n",
       "  <tbody>\n",
       "    <tr>\n",
       "      <th>0</th>\n",
       "      <td>000c1434d8d7</td>\n",
       "      <td>2</td>\n",
       "      <td>000c1434d8d7.png</td>\n",
       "    </tr>\n",
       "    <tr>\n",
       "      <th>1</th>\n",
       "      <td>001639a390f0</td>\n",
       "      <td>4</td>\n",
       "      <td>001639a390f0.png</td>\n",
       "    </tr>\n",
       "    <tr>\n",
       "      <th>2</th>\n",
       "      <td>0024cdab0c1e</td>\n",
       "      <td>1</td>\n",
       "      <td>0024cdab0c1e.png</td>\n",
       "    </tr>\n",
       "    <tr>\n",
       "      <th>3</th>\n",
       "      <td>002c21358ce6</td>\n",
       "      <td>0</td>\n",
       "      <td>002c21358ce6.png</td>\n",
       "    </tr>\n",
       "    <tr>\n",
       "      <th>4</th>\n",
       "      <td>005b95c28852</td>\n",
       "      <td>0</td>\n",
       "      <td>005b95c28852.png</td>\n",
       "    </tr>\n",
       "  </tbody>\n",
       "</table>\n",
       "</div>"
      ],
      "text/plain": [
       "        id_code diagnosis            pic_id\n",
       "0  000c1434d8d7         2  000c1434d8d7.png\n",
       "1  001639a390f0         4  001639a390f0.png\n",
       "2  0024cdab0c1e         1  0024cdab0c1e.png\n",
       "3  002c21358ce6         0  002c21358ce6.png\n",
       "4  005b95c28852         0  005b95c28852.png"
      ]
     },
     "execution_count": 2,
     "metadata": {},
     "output_type": "execute_result"
    }
   ],
   "source": [
    "# Load training Data\n",
    "train_df = pd.read_csv('train.csv')\n",
    "train_df['diagnosis'] = train_df['diagnosis'].astype(str)\n",
    "train_df['pic_id'] = train_df['id_code'].astype(str)+'.png'\n",
    "train_df.head()"
   ]
  },
  {
   "cell_type": "code",
   "execution_count": 3,
   "metadata": {},
   "outputs": [
    {
     "name": "stdout",
     "output_type": "stream",
     "text": [
      "Found 2930 validated image filenames belonging to 5 classes.\n",
      "Found 732 validated image filenames belonging to 5 classes.\n",
      "5\n",
      "3662\n"
     ]
    }
   ],
   "source": [
    "# Data Load\n",
    "preprocessor = ImageDataGenerator(\n",
    "    # Normalization\n",
    "    rescale= 1/255,\n",
    "    # # Use Data Augmentation to prevent overfitting\n",
    "    # shear_range= 0.2,\n",
    "    # zoom_range= 0.2,\n",
    "    # horizontal_flip= True, \n",
    "    # Split validation and training dataset\n",
    "    validation_split= 0.2\n",
    "    )\n",
    "\n",
    "# Set the batch and image size\n",
    "image_size = 64\n",
    "batch_size = 32\n",
    "\n",
    "train_pic = preprocessor.flow_from_dataframe(\n",
    "    # Load Training Dataset\n",
    "    dataframe= train_df,\n",
    "    directory= 'train_images',\n",
    "    x_col= 'pic_id',\n",
    "    y_col= 'diagnosis',\n",
    "    batch_size= batch_size,\n",
    "    class_mode= 'categorical',\n",
    "    shuffle= True,\n",
    "    subset= 'training',\n",
    "    target_size= (image_size, image_size)\n",
    "    )\n",
    "\n",
    "test_pic = preprocessor.flow_from_dataframe(\n",
    "    # Load Testing Dataset\n",
    "    dataframe= train_df,\n",
    "    directory= 'train_images',\n",
    "    x_col= 'pic_id',\n",
    "    y_col= 'diagnosis',\n",
    "    batch_size= batch_size,\n",
    "    class_mode= 'categorical',\n",
    "    shuffle= True,\n",
    "    subset= 'validation',\n",
    "    target_size= (image_size, image_size)\n",
    ")\n",
    "\n",
    "# Covert category into one-hot code\n",
    "train_label = pd.get_dummies(train_df['diagnosis'])\n",
    "num_classes = train_label.shape[1]\n",
    "num_samples = train_label.shape[0]\n",
    "\n",
    "print(num_classes)\n",
    "print(num_samples)"
   ]
  },
  {
   "cell_type": "markdown",
   "metadata": {},
   "source": [
    "### 2. Build CNN Model"
   ]
  },
  {
   "cell_type": "code",
   "execution_count": 4,
   "metadata": {},
   "outputs": [],
   "source": [
    "from keras.models import Sequential\n",
    "from keras.layers import Conv2D, MaxPooling2D, Flatten, Dense, Dropout"
   ]
  },
  {
   "cell_type": "code",
   "execution_count": 5,
   "metadata": {},
   "outputs": [],
   "source": [
    "def cnn_model(image_size, num_classes):\n",
    "    model = Sequential()\n",
    "\n",
    "    model.add(Conv2D(16, (3, 3), activation='relu', input_shape=(image_size, image_size, 3)))\n",
    "    model.add(Conv2D(32, (3, 3), activation='relu'))\n",
    "    model.add(MaxPooling2D(pool_size=(2, 2)))\n",
    "    model.add(Conv2D(64, (5, 5), activation='relu'))\n",
    "    model.add(Dropout(0.2))\n",
    "    model.add(MaxPooling2D(pool_size=(2, 2)))\n",
    "    model.add(Conv2D(64, (5, 5), activation='relu'))\n",
    "\n",
    "    model.add(Flatten())\n",
    "    model.add(Dense(256, activation='relu'))\n",
    "    model.add(Dense(128, activation='relu'))\n",
    "    model.add(Dense(64, activation='relu'))\n",
    "    model.add(Dense(32, activation='relu'))\n",
    "\n",
    "    model.add(Dense(num_classes, activation='softmax'))\n",
    "\n",
    "    model.compile(optimizer='adam', loss='categorical_crossentropy', metrics=['accuracy'])\n",
    "\n",
    "    return model\n",
    "\n",
    "\n"
   ]
  },
  {
   "cell_type": "code",
   "execution_count": 6,
   "metadata": {},
   "outputs": [],
   "source": [
    "model = cnn_model(image_size, num_classes)\n",
    "# Save the model\n",
    "from keras.callbacks import ModelCheckpoint\n",
    "from keras.callbacks import Callback\n",
    "\n",
    "tm = ModelCheckpoint('version1', monitor='val_loss', save_best_only = True, mode ='min', verbose = 1)\n",
    "\n",
    "class AccuracyPlotter(Callback):\n",
    "    def on_train_begin(self, logs={}):\n",
    "        self.train_acc = []\n",
    "        self.val_acc = []\n",
    "\n",
    "    def on_epoch_end(self, epoch, logs={}):\n",
    "        self.train_acc.append(logs.get('accuracy'))\n",
    "        self.val_acc.append(logs.get('val_accuracy'))\n",
    "\n",
    "    def on_train_end(self, logs={}):\n",
    "        plt.figure(figsize=(20,10))\n",
    "        plt.plot(range(1, len(self.train_acc) + 1), self.train_acc, label='Training Accuracy')\n",
    "        plt.plot(range(1, len(self.val_acc) + 1), self.val_acc, label='Validation Accuracy')\n",
    "        plt.title('Accuracy Plot')\n",
    "        plt.xlabel('Epoch')\n",
    "        plt.ylabel('Accuracy')\n",
    "        plt.xticks(range(1, len(self.train_acc) + 1))\n",
    "        plt.legend()\n",
    "        plt.grid(True)\n",
    "        plt.show()\n",
    "        \n",
    "plotter = AccuracyPlotter()"
   ]
  },
  {
   "cell_type": "code",
   "execution_count": 7,
   "metadata": {},
   "outputs": [
    {
     "name": "stdout",
     "output_type": "stream",
     "text": [
      "Epoch 1/50\n",
      "91/91 [==============================] - ETA: 0s - loss: 1.1216 - accuracy: 0.5704\n",
      "Epoch 1: val_loss improved from inf to 0.94902, saving model to version1\n",
      "INFO:tensorflow:Assets written to: version1/assets\n"
     ]
    },
    {
     "name": "stderr",
     "output_type": "stream",
     "text": [
      "INFO:tensorflow:Assets written to: version1/assets\n"
     ]
    },
    {
     "name": "stdout",
     "output_type": "stream",
     "text": [
      "91/91 [==============================] - 185s 2s/step - loss: 1.1216 - accuracy: 0.5704 - val_loss: 0.9490 - val_accuracy: 0.7131\n",
      "Epoch 2/50\n",
      "91/91 [==============================] - ETA: 0s - loss: 0.8361 - accuracy: 0.7036\n",
      "Epoch 2: val_loss improved from 0.94902 to 0.85360, saving model to version1\n",
      "INFO:tensorflow:Assets written to: version1/assets\n"
     ]
    },
    {
     "name": "stderr",
     "output_type": "stream",
     "text": [
      "INFO:tensorflow:Assets written to: version1/assets\n"
     ]
    },
    {
     "name": "stdout",
     "output_type": "stream",
     "text": [
      "91/91 [==============================] - 182s 2s/step - loss: 0.8361 - accuracy: 0.7036 - val_loss: 0.8536 - val_accuracy: 0.6690\n",
      "Epoch 3/50\n",
      "91/91 [==============================] - ETA: 0s - loss: 0.7992 - accuracy: 0.7150\n",
      "Epoch 3: val_loss improved from 0.85360 to 0.79744, saving model to version1\n",
      "INFO:tensorflow:Assets written to: version1/assets\n"
     ]
    },
    {
     "name": "stderr",
     "output_type": "stream",
     "text": [
      "INFO:tensorflow:Assets written to: version1/assets\n"
     ]
    },
    {
     "name": "stdout",
     "output_type": "stream",
     "text": [
      "91/91 [==============================] - 181s 2s/step - loss: 0.7992 - accuracy: 0.7150 - val_loss: 0.7974 - val_accuracy: 0.7003\n",
      "Epoch 4/50\n",
      "91/91 [==============================] - ETA: 0s - loss: 0.7679 - accuracy: 0.7274\n",
      "Epoch 4: val_loss did not improve from 0.79744\n",
      "91/91 [==============================] - 1266s 14s/step - loss: 0.7679 - accuracy: 0.7274 - val_loss: 0.8415 - val_accuracy: 0.7102\n",
      "Epoch 5/50\n",
      "91/91 [==============================] - ETA: 0s - loss: 0.7644 - accuracy: 0.7253 \n",
      "Epoch 5: val_loss improved from 0.79744 to 0.79422, saving model to version1\n",
      "INFO:tensorflow:Assets written to: version1/assets\n"
     ]
    },
    {
     "name": "stderr",
     "output_type": "stream",
     "text": [
      "INFO:tensorflow:Assets written to: version1/assets\n"
     ]
    },
    {
     "name": "stdout",
     "output_type": "stream",
     "text": [
      "91/91 [==============================] - 2197s 24s/step - loss: 0.7644 - accuracy: 0.7253 - val_loss: 0.7942 - val_accuracy: 0.7173\n",
      "Epoch 6/50\n",
      "91/91 [==============================] - ETA: 0s - loss: 0.7479 - accuracy: 0.7281 \n",
      "Epoch 6: val_loss improved from 0.79422 to 0.76686, saving model to version1\n",
      "INFO:tensorflow:Assets written to: version1/assets\n"
     ]
    },
    {
     "name": "stderr",
     "output_type": "stream",
     "text": [
      "INFO:tensorflow:Assets written to: version1/assets\n"
     ]
    },
    {
     "name": "stdout",
     "output_type": "stream",
     "text": [
      "91/91 [==============================] - 3792s 42s/step - loss: 0.7479 - accuracy: 0.7281 - val_loss: 0.7669 - val_accuracy: 0.7145\n",
      "Epoch 7/50\n",
      "91/91 [==============================] - ETA: 0s - loss: 0.7477 - accuracy: 0.7277\n",
      "Epoch 7: val_loss did not improve from 0.76686\n",
      "91/91 [==============================] - 205s 2s/step - loss: 0.7477 - accuracy: 0.7277 - val_loss: 0.7991 - val_accuracy: 0.7102\n",
      "Epoch 8/50\n",
      "91/91 [==============================] - ETA: 0s - loss: 0.7436 - accuracy: 0.7315\n",
      "Epoch 8: val_loss improved from 0.76686 to 0.75930, saving model to version1\n",
      "INFO:tensorflow:Assets written to: version1/assets\n"
     ]
    },
    {
     "name": "stderr",
     "output_type": "stream",
     "text": [
      "INFO:tensorflow:Assets written to: version1/assets\n"
     ]
    },
    {
     "name": "stdout",
     "output_type": "stream",
     "text": [
      "91/91 [==============================] - 217s 2s/step - loss: 0.7436 - accuracy: 0.7315 - val_loss: 0.7593 - val_accuracy: 0.7060\n",
      "Epoch 9/50\n",
      "91/91 [==============================] - ETA: 0s - loss: 0.7446 - accuracy: 0.7226\n",
      "Epoch 9: val_loss did not improve from 0.75930\n",
      "91/91 [==============================] - 219s 2s/step - loss: 0.7446 - accuracy: 0.7226 - val_loss: 0.7945 - val_accuracy: 0.7060\n",
      "Epoch 10/50\n",
      "91/91 [==============================] - ETA: 0s - loss: 0.7326 - accuracy: 0.7315\n",
      "Epoch 10: val_loss did not improve from 0.75930\n",
      "91/91 [==============================] - 220s 2s/step - loss: 0.7326 - accuracy: 0.7315 - val_loss: 0.7659 - val_accuracy: 0.7131\n",
      "Epoch 11/50\n",
      "91/91 [==============================] - ETA: 0s - loss: 0.7241 - accuracy: 0.7333\n",
      "Epoch 11: val_loss did not improve from 0.75930\n",
      "91/91 [==============================] - 222s 2s/step - loss: 0.7241 - accuracy: 0.7333 - val_loss: 0.7647 - val_accuracy: 0.7230\n",
      "Epoch 12/50\n",
      "91/91 [==============================] - ETA: 0s - loss: 0.7293 - accuracy: 0.7315\n",
      "Epoch 12: val_loss improved from 0.75930 to 0.75063, saving model to version1\n",
      "INFO:tensorflow:Assets written to: version1/assets\n"
     ]
    },
    {
     "name": "stderr",
     "output_type": "stream",
     "text": [
      "INFO:tensorflow:Assets written to: version1/assets\n"
     ]
    },
    {
     "name": "stdout",
     "output_type": "stream",
     "text": [
      "91/91 [==============================] - 223s 2s/step - loss: 0.7293 - accuracy: 0.7315 - val_loss: 0.7506 - val_accuracy: 0.7159\n",
      "Epoch 13/50\n",
      "91/91 [==============================] - ETA: 0s - loss: 0.7140 - accuracy: 0.7364\n",
      "Epoch 13: val_loss did not improve from 0.75063\n",
      "91/91 [==============================] - 223s 2s/step - loss: 0.7140 - accuracy: 0.7364 - val_loss: 0.7735 - val_accuracy: 0.7116\n",
      "Epoch 14/50\n",
      "91/91 [==============================] - ETA: 0s - loss: 0.7156 - accuracy: 0.7360\n",
      "Epoch 14: val_loss did not improve from 0.75063\n",
      "91/91 [==============================] - 224s 2s/step - loss: 0.7156 - accuracy: 0.7360 - val_loss: 0.7716 - val_accuracy: 0.7088\n",
      "Epoch 15/50\n",
      "91/91 [==============================] - ETA: 0s - loss: 0.6960 - accuracy: 0.7381\n",
      "Epoch 15: val_loss did not improve from 0.75063\n",
      "91/91 [==============================] - 224s 2s/step - loss: 0.6960 - accuracy: 0.7381 - val_loss: 0.7551 - val_accuracy: 0.7116\n",
      "Epoch 16/50\n",
      "91/91 [==============================] - ETA: 0s - loss: 0.6919 - accuracy: 0.7436\n",
      "Epoch 16: val_loss did not improve from 0.75063\n",
      "91/91 [==============================] - 225s 2s/step - loss: 0.6919 - accuracy: 0.7436 - val_loss: 0.7563 - val_accuracy: 0.7202\n",
      "Epoch 17/50\n",
      "91/91 [==============================] - ETA: 0s - loss: 0.6857 - accuracy: 0.7426\n",
      "Epoch 17: val_loss did not improve from 0.75063\n",
      "91/91 [==============================] - 225s 2s/step - loss: 0.6857 - accuracy: 0.7426 - val_loss: 0.7535 - val_accuracy: 0.7173\n",
      "Epoch 18/50\n",
      "91/91 [==============================] - ETA: 0s - loss: 0.6834 - accuracy: 0.7457\n",
      "Epoch 18: val_loss did not improve from 0.75063\n",
      "91/91 [==============================] - 225s 2s/step - loss: 0.6834 - accuracy: 0.7457 - val_loss: 0.8000 - val_accuracy: 0.7131\n",
      "Epoch 19/50\n",
      "91/91 [==============================] - ETA: 0s - loss: 0.6888 - accuracy: 0.7443\n",
      "Epoch 19: val_loss did not improve from 0.75063\n",
      "91/91 [==============================] - 225s 2s/step - loss: 0.6888 - accuracy: 0.7443 - val_loss: 0.7704 - val_accuracy: 0.7060\n",
      "Epoch 20/50\n",
      "91/91 [==============================] - ETA: 0s - loss: 0.6974 - accuracy: 0.7491\n",
      "Epoch 20: val_loss did not improve from 0.75063\n",
      "91/91 [==============================] - 226s 2s/step - loss: 0.6974 - accuracy: 0.7491 - val_loss: 0.7680 - val_accuracy: 0.7244\n",
      "Epoch 21/50\n",
      "91/91 [==============================] - ETA: 0s - loss: 0.6731 - accuracy: 0.7502\n",
      "Epoch 21: val_loss did not improve from 0.75063\n",
      "91/91 [==============================] - 226s 2s/step - loss: 0.6731 - accuracy: 0.7502 - val_loss: 0.7742 - val_accuracy: 0.7116\n",
      "Epoch 22/50\n",
      "91/91 [==============================] - ETA: 0s - loss: 0.6674 - accuracy: 0.7533\n",
      "Epoch 22: val_loss did not improve from 0.75063\n",
      "91/91 [==============================] - 226s 2s/step - loss: 0.6674 - accuracy: 0.7533 - val_loss: 0.8279 - val_accuracy: 0.7116\n",
      "Epoch 23/50\n",
      "91/91 [==============================] - ETA: 0s - loss: 0.6525 - accuracy: 0.7598 \n",
      "Epoch 23: val_loss did not improve from 0.75063\n",
      "91/91 [==============================] - 1209s 13s/step - loss: 0.6525 - accuracy: 0.7598 - val_loss: 0.8615 - val_accuracy: 0.7045\n",
      "Epoch 24/50\n",
      "91/91 [==============================] - ETA: 0s - loss: 0.6451 - accuracy: 0.7664\n",
      "Epoch 24: val_loss did not improve from 0.75063\n",
      "91/91 [==============================] - 216s 2s/step - loss: 0.6451 - accuracy: 0.7664 - val_loss: 0.7869 - val_accuracy: 0.7102\n",
      "Epoch 25/50\n",
      "91/91 [==============================] - ETA: 0s - loss: 0.6308 - accuracy: 0.7643\n",
      "Epoch 25: val_loss did not improve from 0.75063\n",
      "91/91 [==============================] - 220s 2s/step - loss: 0.6308 - accuracy: 0.7643 - val_loss: 0.8138 - val_accuracy: 0.7116\n",
      "Epoch 26/50\n",
      "91/91 [==============================] - ETA: 0s - loss: 0.6471 - accuracy: 0.7619\n",
      "Epoch 26: val_loss did not improve from 0.75063\n",
      "91/91 [==============================] - 222s 2s/step - loss: 0.6471 - accuracy: 0.7619 - val_loss: 0.7858 - val_accuracy: 0.7287\n",
      "Epoch 27/50\n",
      "91/91 [==============================] - ETA: 0s - loss: 0.6199 - accuracy: 0.7671\n",
      "Epoch 27: val_loss did not improve from 0.75063\n",
      "91/91 [==============================] - 223s 2s/step - loss: 0.6199 - accuracy: 0.7671 - val_loss: 0.8470 - val_accuracy: 0.7074\n",
      "Epoch 28/50\n",
      "91/91 [==============================] - ETA: 0s - loss: 0.5920 - accuracy: 0.7761\n",
      "Epoch 28: val_loss did not improve from 0.75063\n",
      "91/91 [==============================] - 223s 2s/step - loss: 0.5920 - accuracy: 0.7761 - val_loss: 0.8927 - val_accuracy: 0.7116\n",
      "Epoch 29/50\n",
      "91/91 [==============================] - ETA: 0s - loss: 0.6565 - accuracy: 0.7643\n",
      "Epoch 29: val_loss did not improve from 0.75063\n",
      "91/91 [==============================] - 224s 2s/step - loss: 0.6565 - accuracy: 0.7643 - val_loss: 0.7911 - val_accuracy: 0.7230\n",
      "Epoch 30/50\n",
      "91/91 [==============================] - ETA: 0s - loss: 0.6136 - accuracy: 0.7729\n",
      "Epoch 30: val_loss did not improve from 0.75063\n",
      "91/91 [==============================] - 225s 2s/step - loss: 0.6136 - accuracy: 0.7729 - val_loss: 0.8244 - val_accuracy: 0.7273\n",
      "Epoch 31/50\n",
      "91/91 [==============================] - ETA: 0s - loss: 0.5987 - accuracy: 0.7836\n",
      "Epoch 31: val_loss did not improve from 0.75063\n",
      "91/91 [==============================] - 224s 2s/step - loss: 0.5987 - accuracy: 0.7836 - val_loss: 0.8902 - val_accuracy: 0.7202\n",
      "Epoch 32/50\n",
      "91/91 [==============================] - ETA: 0s - loss: 0.5872 - accuracy: 0.7750\n",
      "Epoch 32: val_loss did not improve from 0.75063\n",
      "91/91 [==============================] - 225s 2s/step - loss: 0.5872 - accuracy: 0.7750 - val_loss: 0.8437 - val_accuracy: 0.7244\n",
      "Epoch 33/50\n",
      "91/91 [==============================] - ETA: 0s - loss: 0.5603 - accuracy: 0.7909\n",
      "Epoch 33: val_loss did not improve from 0.75063\n",
      "91/91 [==============================] - 225s 2s/step - loss: 0.5603 - accuracy: 0.7909 - val_loss: 0.9115 - val_accuracy: 0.7116\n",
      "Epoch 34/50\n",
      "91/91 [==============================] - ETA: 0s - loss: 0.5560 - accuracy: 0.7964\n",
      "Epoch 34: val_loss did not improve from 0.75063\n",
      "91/91 [==============================] - 225s 2s/step - loss: 0.5560 - accuracy: 0.7964 - val_loss: 0.9169 - val_accuracy: 0.7230\n",
      "Epoch 35/50\n",
      "91/91 [==============================] - ETA: 0s - loss: 0.5407 - accuracy: 0.7971\n",
      "Epoch 35: val_loss did not improve from 0.75063\n",
      "91/91 [==============================] - 225s 2s/step - loss: 0.5407 - accuracy: 0.7971 - val_loss: 0.9489 - val_accuracy: 0.6989\n",
      "Epoch 36/50\n",
      "91/91 [==============================] - ETA: 0s - loss: 0.5299 - accuracy: 0.8081\n",
      "Epoch 36: val_loss did not improve from 0.75063\n",
      "91/91 [==============================] - 225s 2s/step - loss: 0.5299 - accuracy: 0.8081 - val_loss: 0.9461 - val_accuracy: 0.7116\n",
      "Epoch 37/50\n",
      "91/91 [==============================] - ETA: 0s - loss: 0.5003 - accuracy: 0.8119\n",
      "Epoch 37: val_loss did not improve from 0.75063\n",
      "91/91 [==============================] - 226s 2s/step - loss: 0.5003 - accuracy: 0.8119 - val_loss: 1.0672 - val_accuracy: 0.6960\n",
      "Epoch 38/50\n",
      "91/91 [==============================] - ETA: 0s - loss: 0.5230 - accuracy: 0.8085\n",
      "Epoch 38: val_loss did not improve from 0.75063\n",
      "91/91 [==============================] - 226s 2s/step - loss: 0.5230 - accuracy: 0.8085 - val_loss: 0.9502 - val_accuracy: 0.7003\n",
      "Epoch 39/50\n",
      "91/91 [==============================] - ETA: 0s - loss: 0.4951 - accuracy: 0.8185\n",
      "Epoch 39: val_loss did not improve from 0.75063\n",
      "91/91 [==============================] - 225s 2s/step - loss: 0.4951 - accuracy: 0.8185 - val_loss: 0.9669 - val_accuracy: 0.7287\n",
      "Epoch 40/50\n",
      "91/91 [==============================] - ETA: 0s - loss: 0.4672 - accuracy: 0.8219\n",
      "Epoch 40: val_loss did not improve from 0.75063\n",
      "91/91 [==============================] - 225s 2s/step - loss: 0.4672 - accuracy: 0.8219 - val_loss: 0.9945 - val_accuracy: 0.7131\n",
      "Epoch 41/50\n",
      "91/91 [==============================] - ETA: 0s - loss: 0.4528 - accuracy: 0.8402\n",
      "Epoch 41: val_loss did not improve from 0.75063\n",
      "91/91 [==============================] - 226s 2s/step - loss: 0.4528 - accuracy: 0.8402 - val_loss: 1.0227 - val_accuracy: 0.7145\n",
      "Epoch 42/50\n",
      "91/91 [==============================] - ETA: 0s - loss: 0.4013 - accuracy: 0.8554\n",
      "Epoch 42: val_loss did not improve from 0.75063\n",
      "91/91 [==============================] - 225s 2s/step - loss: 0.4013 - accuracy: 0.8554 - val_loss: 1.1059 - val_accuracy: 0.7131\n",
      "Epoch 43/50\n",
      "91/91 [==============================] - ETA: 0s - loss: 0.3555 - accuracy: 0.8695\n",
      "Epoch 43: val_loss did not improve from 0.75063\n",
      "91/91 [==============================] - 226s 2s/step - loss: 0.3555 - accuracy: 0.8695 - val_loss: 1.1694 - val_accuracy: 0.7145\n",
      "Epoch 44/50\n",
      "91/91 [==============================] - ETA: 0s - loss: 0.3591 - accuracy: 0.8727\n",
      "Epoch 44: val_loss did not improve from 0.75063\n",
      "91/91 [==============================] - 226s 2s/step - loss: 0.3591 - accuracy: 0.8727 - val_loss: 1.3231 - val_accuracy: 0.6960\n",
      "Epoch 45/50\n",
      "91/91 [==============================] - ETA: 0s - loss: 0.3845 - accuracy: 0.8613\n",
      "Epoch 45: val_loss did not improve from 0.75063\n",
      "91/91 [==============================] - 225s 2s/step - loss: 0.3845 - accuracy: 0.8613 - val_loss: 1.1960 - val_accuracy: 0.7003\n",
      "Epoch 46/50\n",
      "91/91 [==============================] - ETA: 0s - loss: 0.3810 - accuracy: 0.8706\n",
      "Epoch 46: val_loss did not improve from 0.75063\n",
      "91/91 [==============================] - 226s 2s/step - loss: 0.3810 - accuracy: 0.8706 - val_loss: 1.1196 - val_accuracy: 0.7003\n",
      "Epoch 47/50\n",
      "91/91 [==============================] - ETA: 0s - loss: 0.3078 - accuracy: 0.8885\n",
      "Epoch 47: val_loss did not improve from 0.75063\n",
      "91/91 [==============================] - 225s 2s/step - loss: 0.3078 - accuracy: 0.8885 - val_loss: 1.2908 - val_accuracy: 0.7060\n",
      "Epoch 48/50\n",
      "91/91 [==============================] - ETA: 0s - loss: 0.2799 - accuracy: 0.9027\n",
      "Epoch 48: val_loss did not improve from 0.75063\n",
      "91/91 [==============================] - 225s 2s/step - loss: 0.2799 - accuracy: 0.9027 - val_loss: 1.3936 - val_accuracy: 0.6875\n",
      "Epoch 49/50\n",
      "91/91 [==============================] - ETA: 0s - loss: 0.2350 - accuracy: 0.9166\n",
      "Epoch 49: val_loss did not improve from 0.75063\n",
      "91/91 [==============================] - 227s 2s/step - loss: 0.2350 - accuracy: 0.9166 - val_loss: 1.4634 - val_accuracy: 0.7031\n",
      "Epoch 50/50\n",
      "91/91 [==============================] - ETA: 0s - loss: 0.1951 - accuracy: 0.9258\n",
      "Epoch 50: val_loss did not improve from 0.75063\n",
      "91/91 [==============================] - 226s 2s/step - loss: 0.1951 - accuracy: 0.9258 - val_loss: 1.6300 - val_accuracy: 0.6818\n"
     ]
    },
    {
     "data": {
      "image/png": "[encoded data removed]",
      "text/plain": [
       "<Figure size 2000x1000 with 1 Axes>"
      ]
     },
     "metadata": {},
     "output_type": "display_data"
    },
    {
     "data": {
      "text/plain": [
       "<keras.src.callbacks.History at 0x28328d210>"
      ]
     },
     "execution_count": 7,
     "metadata": {},
     "output_type": "execute_result"
    }
   ],
   "source": [
    "steps_per_epoch = 2930 // batch_size\n",
    "validation_steps = 732 // batch_size\n",
    "model.fit(\n",
    "    train_pic,\n",
    "    steps_per_epoch=steps_per_epoch, \n",
    "    epochs=50, \n",
    "    validation_data=test_pic,\n",
    "    validation_steps=validation_steps,\n",
    "    callbacks=[tm, plotter]\n",
    ")"
   ]
  },
  {
   "cell_type": "markdown",
   "metadata": {},
   "source": [
    "### 3. Give out Prediction Results"
   ]
  },
  {
   "cell_type": "code",
   "execution_count": 8,
   "metadata": {},
   "outputs": [],
   "source": [
    "from keras.models import load_model\n",
    "trained_model = load_model('version1')\n",
    "\n",
    "prediction_df = pd.read_csv('sample_submission.csv')\n",
    "prediction_df['pic_id'] = prediction_df['id_code'].astype(str)+'.png'"
   ]
  },
  {
   "cell_type": "code",
   "execution_count": 9,
   "metadata": {},
   "outputs": [
    {
     "name": "stdout",
     "output_type": "stream",
     "text": [
      "Found 1928 validated image filenames.\n"
     ]
    }
   ],
   "source": [
    "prediction_pic = ImageDataGenerator(\n",
    "    rescale= 1/255\n",
    ")\n",
    "pre_prediction = prediction_pic.flow_from_dataframe(\n",
    "    # Load Prediction Dataset\n",
    "    dataframe= prediction_df,\n",
    "    directory= 'test_images',\n",
    "    x_col= 'pic_id',\n",
    "    batch_size= batch_size,\n",
    "    class_mode= None,\n",
    "    shuffle= False,\n",
    "    target_size= (image_size, image_size)\n",
    ")"
   ]
  },
  {
   "cell_type": "code",
   "execution_count": 10,
   "metadata": {},
   "outputs": [
    {
     "name": "stdout",
     "output_type": "stream",
     "text": [
      "61/61 [==============================] - 39s 644ms/step\n"
     ]
    }
   ],
   "source": [
    "results = model.predict(pre_prediction, steps = len(pre_prediction))\n",
    "max_probability = np.argmax(results,axis=1) \n",
    "prediction_df['diagnosis'] = max_probability\n",
    "prediction_df.drop(columns=['pic_id'], inplace= True)\n",
    "prediction_df.to_csv('submission.csv', index=False)"
   ]
  }
 ],
 "metadata": {
  "kernelspec": {
   "display_name": "base",
   "language": "python",
   "name": "python3"
  },
  "language_info": {
   "codemirror_mode": {
    "name": "ipython",
    "version": 3
   },
   "file_extension": ".py",
   "mimetype": "text/x-python",
   "name": "python",
   "nbconvert_exporter": "python",
   "pygments_lexer": "ipython3",
   "version": "3.11.4"
  },
  "orig_nbformat": 4
 },
 "nbformat": 4,
 "nbformat_minor": 2
}
