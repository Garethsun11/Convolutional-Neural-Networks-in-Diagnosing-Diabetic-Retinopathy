{
 "cells": [
  {
   "cell_type": "markdown",
   "metadata": {},
   "source": [
    "## Final Project \n",
    "### Blindness Detection\n",
    "#### Group: Gareth Sun zs389, Zimu Li zl898, Arman Syed as3778\n"
   ]
  },
  {
   "cell_type": "markdown",
   "metadata": {},
   "source": [
    "### 1. Data Preprocess"
   ]
  },
  {
   "cell_type": "code",
   "execution_count": 1,
   "metadata": {},
   "outputs": [
    {
     "name": "stdout",
     "output_type": "stream",
     "text": [
      "WARNING:tensorflow:From d:\\Python\\anaconda3\\envs\\AML\\Lib\\site-packages\\keras\\src\\losses.py:2976: The name tf.losses.sparse_softmax_cross_entropy is deprecated. Please use tf.compat.v1.losses.sparse_softmax_cross_entropy instead.\n",
      "\n"
     ]
    }
   ],
   "source": [
    "# Import the Library we need\n",
    "import numpy as np\n",
    "import pandas as pd\n",
    "from tensorflow.keras.preprocessing.image import ImageDataGenerator\n",
    "import tensorflow as tf\n",
    "import torch\n",
    "import matplotlib.pyplot as plt"
   ]
  },
  {
   "cell_type": "code",
   "execution_count": 2,
   "metadata": {},
   "outputs": [
    {
     "name": "stdout",
     "output_type": "stream",
     "text": [
      "2.1.1\n",
      "True\n"
     ]
    }
   ],
   "source": [
    "print(torch.__version__)\n",
    "print(torch.cuda.is_available())"
   ]
  },
  {
   "cell_type": "code",
   "execution_count": 3,
   "metadata": {},
   "outputs": [
    {
     "name": "stdout",
     "output_type": "stream",
     "text": [
      "cuda\n"
     ]
    }
   ],
   "source": [
    "cuda_available = torch.cuda.is_available()\n",
    "device = torch.device(\"cuda\" if cuda_available else \"cpu\")\n",
    "print(device)"
   ]
  },
  {
   "cell_type": "code",
   "execution_count": 4,
   "metadata": {},
   "outputs": [
    {
     "name": "stdout",
     "output_type": "stream",
     "text": [
      "[]\n"
     ]
    }
   ],
   "source": [
    "print(tf.config.list_physical_devices('GPU'))"
   ]
  },
  {
   "cell_type": "code",
   "execution_count": 5,
   "metadata": {},
   "outputs": [
    {
     "data": {
      "text/html": [
       "<div>\n",
       "<style scoped>\n",
       "    .dataframe tbody tr th:only-of-type {\n",
       "        vertical-align: middle;\n",
       "    }\n",
       "\n",
       "    .dataframe tbody tr th {\n",
       "        vertical-align: top;\n",
       "    }\n",
       "\n",
       "    .dataframe thead th {\n",
       "        text-align: right;\n",
       "    }\n",
       "</style>\n",
       "<table border=\"1\" class=\"dataframe\">\n",
       "  <thead>\n",
       "    <tr style=\"text-align: right;\">\n",
       "      <th></th>\n",
       "      <th>id_code</th>\n",
       "      <th>diagnosis</th>\n",
       "      <th>pic_id</th>\n",
       "    </tr>\n",
       "  </thead>\n",
       "  <tbody>\n",
       "    <tr>\n",
       "      <th>0</th>\n",
       "      <td>000c1434d8d7</td>\n",
       "      <td>2</td>\n",
       "      <td>000c1434d8d7.png</td>\n",
       "    </tr>\n",
       "    <tr>\n",
       "      <th>1</th>\n",
       "      <td>001639a390f0</td>\n",
       "      <td>4</td>\n",
       "      <td>001639a390f0.png</td>\n",
       "    </tr>\n",
       "    <tr>\n",
       "      <th>2</th>\n",
       "      <td>0024cdab0c1e</td>\n",
       "      <td>1</td>\n",
       "      <td>0024cdab0c1e.png</td>\n",
       "    </tr>\n",
       "    <tr>\n",
       "      <th>3</th>\n",
       "      <td>002c21358ce6</td>\n",
       "      <td>0</td>\n",
       "      <td>002c21358ce6.png</td>\n",
       "    </tr>\n",
       "    <tr>\n",
       "      <th>4</th>\n",
       "      <td>005b95c28852</td>\n",
       "      <td>0</td>\n",
       "      <td>005b95c28852.png</td>\n",
       "    </tr>\n",
       "  </tbody>\n",
       "</table>\n",
       "</div>"
      ],
      "text/plain": [
       "        id_code diagnosis            pic_id\n",
       "0  000c1434d8d7         2  000c1434d8d7.png\n",
       "1  001639a390f0         4  001639a390f0.png\n",
       "2  0024cdab0c1e         1  0024cdab0c1e.png\n",
       "3  002c21358ce6         0  002c21358ce6.png\n",
       "4  005b95c28852         0  005b95c28852.png"
      ]
     },
     "execution_count": 5,
     "metadata": {},
     "output_type": "execute_result"
    }
   ],
   "source": [
    "# Load training Data\n",
    "train_df = pd.read_csv('train.csv')\n",
    "train_df['diagnosis'] = train_df['diagnosis'].astype(str)\n",
    "train_df['pic_id'] = train_df['id_code'].astype(str)+'.png'\n",
    "train_df.head()"
   ]
  },
  {
   "cell_type": "code",
   "execution_count": 6,
   "metadata": {},
   "outputs": [
    {
     "name": "stdout",
     "output_type": "stream",
     "text": [
      "Found 2930 validated image filenames belonging to 5 classes.\n",
      "Found 732 validated image filenames belonging to 5 classes.\n",
      "5\n",
      "3662\n"
     ]
    }
   ],
   "source": [
    "# Data Load\n",
    "preprocessor = ImageDataGenerator(\n",
    "    # Normalization\n",
    "    rescale=1/255,\n",
    "    # Use Data Augmentation to prevent overfitting\n",
    "    shear_range=0.2,\n",
    "    zoom_range=0.2,\n",
    "    horizontal_flip=True,\n",
    "    # Split validation and training dataset\n",
    "    validation_split=0.2\n",
    ")\n",
    "\n",
    "# Set the batch and image size\n",
    "image_size = 64\n",
    "batch_size = 32\n",
    "\n",
    "train_pic = preprocessor.flow_from_dataframe(\n",
    "    dataframe=train_df,\n",
    "    directory='train_images',\n",
    "    x_col='pic_id',\n",
    "    y_col='diagnosis',\n",
    "    batch_size=batch_size,\n",
    "    class_mode='categorical',\n",
    "    shuffle=True,\n",
    "    subset='training',\n",
    "    target_size=(image_size, image_size)\n",
    ")\n",
    "\n",
    "test_pic = preprocessor.flow_from_dataframe(\n",
    "    dataframe=train_df,\n",
    "    directory='train_images',\n",
    "    x_col='pic_id',\n",
    "    y_col='diagnosis',\n",
    "    batch_size=batch_size,\n",
    "    class_mode='categorical',\n",
    "    shuffle=True,\n",
    "    subset='validation',\n",
    "    target_size=(image_size, image_size)\n",
    ")\n",
    "\n",
    "# Covert category into one-hot code\n",
    "train_label = pd.get_dummies(train_df['diagnosis'])\n",
    "num_classes = train_label.shape[1]\n",
    "num_samples = train_label.shape[0]\n",
    "\n",
    "print(num_classes)\n",
    "print(num_samples)\n"
   ]
  },
  {
   "cell_type": "markdown",
   "metadata": {},
   "source": [
    "### 2. Build CNN Model"
   ]
  },
  {
   "cell_type": "code",
   "execution_count": 13,
   "metadata": {},
   "outputs": [],
   "source": [
    "from keras.models import Sequential\n",
    "from keras.layers import Conv2D, MaxPooling2D, Flatten, Dense, Dropout, GaussianDropout"
   ]
  },
  {
   "cell_type": "code",
   "execution_count": 14,
   "metadata": {},
   "outputs": [],
   "source": [
    "def cnn_model(image_size, num_classes):\n",
    "    model = Sequential()\n",
    "\n",
    "    model.add(Conv2D(16, (3, 3), activation='relu', input_shape=(image_size, image_size, 3)))\n",
    "    model.add(Conv2D(32, (3, 3), activation='relu'))\n",
    "    model.add(MaxPooling2D(pool_size=(2, 2)))\n",
    "    model.add(Conv2D(64, (5, 5), activation='relu'))\n",
    "    model.add(GaussianDropout(0.2))\n",
    "    model.add(MaxPooling2D(pool_size=(2, 2)))\n",
    "    model.add(Conv2D(64, (5, 5), activation='relu'))\n",
    "\n",
    "    model.add(Flatten())\n",
    "    model.add(Dense(256, activation='relu'))\n",
    "    model.add(GaussianDropout(0.2))\n",
    "    model.add(Dense(128, activation='relu'))\n",
    "    model.add(Dense(64, activation='relu'))\n",
    "    model.add(Dense(32, activation='relu'))\n",
    "\n",
    "    model.add(Dense(num_classes, activation='softmax'))\n",
    "\n",
    "    model.compile(optimizer='adam', loss='categorical_crossentropy', metrics=['accuracy'])\n",
    "\n",
    "    return model"
   ]
  },
  {
   "cell_type": "code",
   "execution_count": 15,
   "metadata": {},
   "outputs": [],
   "source": [
    "model = cnn_model(image_size, num_classes)\n",
    "# Save the model\n",
    "from keras.callbacks import ModelCheckpoint\n",
    "from keras.callbacks import Callback\n",
    "\n",
    "tm = ModelCheckpoint('version1', monitor='val_loss', save_best_only = True, mode ='min', verbose = 1)\n",
    "\n",
    "class AccuracyPlotter(Callback):\n",
    "    def on_train_begin(self, logs={}):\n",
    "        self.train_acc = []\n",
    "        self.val_acc = []\n",
    "\n",
    "    def on_epoch_end(self, epoch, logs={}):\n",
    "        self.train_acc.append(logs.get('accuracy'))\n",
    "        self.val_acc.append(logs.get('val_accuracy'))\n",
    "\n",
    "    def on_train_end(self, logs={}):\n",
    "        plt.figure(figsize=(20,10))\n",
    "        plt.plot(range(1, len(self.train_acc) + 1), self.train_acc, label='Training Accuracy')\n",
    "        plt.plot(range(1, len(self.val_acc) + 1), self.val_acc, label='Validation Accuracy')\n",
    "        plt.title('Accuracy Plot')\n",
    "        plt.xlabel('Epoch')\n",
    "        plt.ylabel('Accuracy')\n",
    "        plt.xticks(range(1, len(self.train_acc) + 1))\n",
    "        plt.legend()\n",
    "        plt.grid(True)\n",
    "        plt.show()\n",
    "        \n",
    "plotter = AccuracyPlotter()"
   ]
  },
  {
   "cell_type": "code",
   "execution_count": 16,
   "metadata": {},
   "outputs": [
    {
     "name": "stdout",
     "output_type": "stream",
     "text": [
      "Epoch 1/50\n",
      "91/91 [==============================] - ETA: 0s - loss: 1.2830 - accuracy: 0.4872\n",
      "Epoch 1: val_loss improved from inf to 1.23114, saving model to version1\n",
      "INFO:tensorflow:Assets written to: version1\\assets\n"
     ]
    },
    {
     "name": "stderr",
     "output_type": "stream",
     "text": [
      "INFO:tensorflow:Assets written to: version1\\assets\n"
     ]
    },
    {
     "name": "stdout",
     "output_type": "stream",
     "text": [
      "91/91 [==============================] - 177s 2s/step - loss: 1.2830 - accuracy: 0.4872 - val_loss: 1.2311 - val_accuracy: 0.4602\n",
      "Epoch 2/50\n",
      "91/91 [==============================] - ETA: 0s - loss: 1.0608 - accuracy: 0.5997\n",
      "Epoch 2: val_loss improved from 1.23114 to 1.00193, saving model to version1\n",
      "INFO:tensorflow:Assets written to: version1\\assets\n"
     ]
    },
    {
     "name": "stderr",
     "output_type": "stream",
     "text": [
      "INFO:tensorflow:Assets written to: version1\\assets\n"
     ]
    },
    {
     "name": "stdout",
     "output_type": "stream",
     "text": [
      "91/91 [==============================] - 176s 2s/step - loss: 1.0608 - accuracy: 0.5997 - val_loss: 1.0019 - val_accuracy: 0.6747\n",
      "Epoch 3/50\n",
      "91/91 [==============================] - ETA: 0s - loss: 0.9010 - accuracy: 0.6912\n",
      "Epoch 3: val_loss improved from 1.00193 to 0.89667, saving model to version1\n",
      "INFO:tensorflow:Assets written to: version1\\assets\n"
     ]
    },
    {
     "name": "stderr",
     "output_type": "stream",
     "text": [
      "INFO:tensorflow:Assets written to: version1\\assets\n"
     ]
    },
    {
     "name": "stdout",
     "output_type": "stream",
     "text": [
      "91/91 [==============================] - 175s 2s/step - loss: 0.9010 - accuracy: 0.6912 - val_loss: 0.8967 - val_accuracy: 0.6733\n",
      "Epoch 4/50\n",
      "91/91 [==============================] - ETA: 0s - loss: 0.8540 - accuracy: 0.6957\n",
      "Epoch 4: val_loss improved from 0.89667 to 0.85236, saving model to version1\n",
      "INFO:tensorflow:Assets written to: version1\\assets\n"
     ]
    },
    {
     "name": "stderr",
     "output_type": "stream",
     "text": [
      "INFO:tensorflow:Assets written to: version1\\assets\n"
     ]
    },
    {
     "name": "stdout",
     "output_type": "stream",
     "text": [
      "91/91 [==============================] - 183s 2s/step - loss: 0.8540 - accuracy: 0.6957 - val_loss: 0.8524 - val_accuracy: 0.6847\n",
      "Epoch 5/50\n",
      "91/91 [==============================] - ETA: 0s - loss: 0.8394 - accuracy: 0.7091\n",
      "Epoch 5: val_loss did not improve from 0.85236\n",
      "91/91 [==============================] - 180s 2s/step - loss: 0.8394 - accuracy: 0.7091 - val_loss: 0.8904 - val_accuracy: 0.6889\n",
      "Epoch 6/50\n",
      "91/91 [==============================] - ETA: 0s - loss: 0.8270 - accuracy: 0.7126\n",
      "Epoch 6: val_loss improved from 0.85236 to 0.84854, saving model to version1\n",
      "INFO:tensorflow:Assets written to: version1\\assets\n"
     ]
    },
    {
     "name": "stderr",
     "output_type": "stream",
     "text": [
      "INFO:tensorflow:Assets written to: version1\\assets\n"
     ]
    },
    {
     "name": "stdout",
     "output_type": "stream",
     "text": [
      "91/91 [==============================] - 173s 2s/step - loss: 0.8270 - accuracy: 0.7126 - val_loss: 0.8485 - val_accuracy: 0.6989\n",
      "Epoch 7/50\n",
      "91/91 [==============================] - ETA: 0s - loss: 0.8128 - accuracy: 0.7136\n",
      "Epoch 7: val_loss did not improve from 0.84854\n",
      "91/91 [==============================] - 181s 2s/step - loss: 0.8128 - accuracy: 0.7136 - val_loss: 0.8694 - val_accuracy: 0.6903\n",
      "Epoch 8/50\n",
      "91/91 [==============================] - ETA: 0s - loss: 0.8121 - accuracy: 0.7157\n",
      "Epoch 8: val_loss improved from 0.84854 to 0.83813, saving model to version1\n",
      "INFO:tensorflow:Assets written to: version1\\assets\n"
     ]
    },
    {
     "name": "stderr",
     "output_type": "stream",
     "text": [
      "INFO:tensorflow:Assets written to: version1\\assets\n"
     ]
    },
    {
     "name": "stdout",
     "output_type": "stream",
     "text": [
      "91/91 [==============================] - 174s 2s/step - loss: 0.8121 - accuracy: 0.7157 - val_loss: 0.8381 - val_accuracy: 0.7060\n",
      "Epoch 9/50\n",
      "91/91 [==============================] - ETA: 0s - loss: 0.8007 - accuracy: 0.7181\n",
      "Epoch 9: val_loss improved from 0.83813 to 0.82088, saving model to version1\n",
      "INFO:tensorflow:Assets written to: version1\\assets\n"
     ]
    },
    {
     "name": "stderr",
     "output_type": "stream",
     "text": [
      "INFO:tensorflow:Assets written to: version1\\assets\n"
     ]
    },
    {
     "name": "stdout",
     "output_type": "stream",
     "text": [
      "91/91 [==============================] - 175s 2s/step - loss: 0.8007 - accuracy: 0.7181 - val_loss: 0.8209 - val_accuracy: 0.7145\n",
      "Epoch 10/50\n",
      "91/91 [==============================] - ETA: 0s - loss: 0.7816 - accuracy: 0.7215\n",
      "Epoch 10: val_loss improved from 0.82088 to 0.80987, saving model to version1\n",
      "INFO:tensorflow:Assets written to: version1\\assets\n"
     ]
    },
    {
     "name": "stderr",
     "output_type": "stream",
     "text": [
      "INFO:tensorflow:Assets written to: version1\\assets\n"
     ]
    },
    {
     "name": "stdout",
     "output_type": "stream",
     "text": [
      "91/91 [==============================] - 178s 2s/step - loss: 0.7816 - accuracy: 0.7215 - val_loss: 0.8099 - val_accuracy: 0.7060\n",
      "Epoch 11/50\n",
      "91/91 [==============================] - ETA: 0s - loss: 0.7950 - accuracy: 0.7195\n",
      "Epoch 11: val_loss did not improve from 0.80987\n",
      "91/91 [==============================] - 181s 2s/step - loss: 0.7950 - accuracy: 0.7195 - val_loss: 0.8678 - val_accuracy: 0.6889\n",
      "Epoch 12/50\n",
      "91/91 [==============================] - ETA: 0s - loss: 0.8001 - accuracy: 0.7188\n",
      "Epoch 12: val_loss did not improve from 0.80987\n",
      "91/91 [==============================] - 182s 2s/step - loss: 0.8001 - accuracy: 0.7188 - val_loss: 0.8237 - val_accuracy: 0.7074\n",
      "Epoch 13/50\n",
      "91/91 [==============================] - ETA: 0s - loss: 0.7739 - accuracy: 0.7222\n",
      "Epoch 13: val_loss did not improve from 0.80987\n",
      "91/91 [==============================] - 187s 2s/step - loss: 0.7739 - accuracy: 0.7222 - val_loss: 0.8224 - val_accuracy: 0.7088\n",
      "Epoch 14/50\n",
      "91/91 [==============================] - ETA: 0s - loss: 0.7703 - accuracy: 0.7208\n",
      "Epoch 14: val_loss improved from 0.80987 to 0.79319, saving model to version1\n",
      "INFO:tensorflow:Assets written to: version1\\assets\n"
     ]
    },
    {
     "name": "stderr",
     "output_type": "stream",
     "text": [
      "INFO:tensorflow:Assets written to: version1\\assets\n"
     ]
    },
    {
     "name": "stdout",
     "output_type": "stream",
     "text": [
      "91/91 [==============================] - 182s 2s/step - loss: 0.7703 - accuracy: 0.7208 - val_loss: 0.7932 - val_accuracy: 0.7116\n",
      "Epoch 15/50\n",
      "91/91 [==============================] - ETA: 0s - loss: 0.7778 - accuracy: 0.7257\n",
      "Epoch 15: val_loss did not improve from 0.79319\n",
      "91/91 [==============================] - 186s 2s/step - loss: 0.7778 - accuracy: 0.7257 - val_loss: 0.8010 - val_accuracy: 0.7159\n",
      "Epoch 16/50\n",
      "91/91 [==============================] - ETA: 0s - loss: 0.7544 - accuracy: 0.7219\n",
      "Epoch 16: val_loss did not improve from 0.79319\n",
      "91/91 [==============================] - 183s 2s/step - loss: 0.7544 - accuracy: 0.7219 - val_loss: 0.8137 - val_accuracy: 0.7088\n",
      "Epoch 17/50\n",
      "91/91 [==============================] - ETA: 0s - loss: 0.7587 - accuracy: 0.7264\n",
      "Epoch 17: val_loss did not improve from 0.79319\n",
      "91/91 [==============================] - 179s 2s/step - loss: 0.7587 - accuracy: 0.7264 - val_loss: 0.7981 - val_accuracy: 0.7202\n",
      "Epoch 18/50\n",
      "91/91 [==============================] - ETA: 0s - loss: 0.7523 - accuracy: 0.7312\n",
      "Epoch 18: val_loss did not improve from 0.79319\n",
      "91/91 [==============================] - 184s 2s/step - loss: 0.7523 - accuracy: 0.7312 - val_loss: 0.9000 - val_accuracy: 0.6804\n",
      "Epoch 19/50\n",
      "91/91 [==============================] - ETA: 0s - loss: 0.7653 - accuracy: 0.7191\n",
      "Epoch 19: val_loss did not improve from 0.79319\n",
      "91/91 [==============================] - 188s 2s/step - loss: 0.7653 - accuracy: 0.7191 - val_loss: 0.8027 - val_accuracy: 0.7131\n",
      "Epoch 20/50\n",
      "91/91 [==============================] - ETA: 0s - loss: 0.7613 - accuracy: 0.7191\n",
      "Epoch 20: val_loss did not improve from 0.79319\n",
      "91/91 [==============================] - 212s 2s/step - loss: 0.7613 - accuracy: 0.7191 - val_loss: 0.8073 - val_accuracy: 0.7031\n",
      "Epoch 21/50\n",
      "91/91 [==============================] - ETA: 0s - loss: 0.7432 - accuracy: 0.7239\n",
      "Epoch 21: val_loss did not improve from 0.79319\n",
      "91/91 [==============================] - 207s 2s/step - loss: 0.7432 - accuracy: 0.7239 - val_loss: 0.8046 - val_accuracy: 0.7102\n",
      "Epoch 22/50\n",
      "91/91 [==============================] - ETA: 0s - loss: 0.7392 - accuracy: 0.7322\n",
      "Epoch 22: val_loss improved from 0.79319 to 0.78242, saving model to version1\n",
      "INFO:tensorflow:Assets written to: version1\\assets\n"
     ]
    },
    {
     "name": "stderr",
     "output_type": "stream",
     "text": [
      "INFO:tensorflow:Assets written to: version1\\assets\n"
     ]
    },
    {
     "name": "stdout",
     "output_type": "stream",
     "text": [
      "91/91 [==============================] - 174s 2s/step - loss: 0.7392 - accuracy: 0.7322 - val_loss: 0.7824 - val_accuracy: 0.7102\n",
      "Epoch 23/50\n",
      "91/91 [==============================] - ETA: 0s - loss: 0.7462 - accuracy: 0.7315\n",
      "Epoch 23: val_loss improved from 0.78242 to 0.78000, saving model to version1\n",
      "INFO:tensorflow:Assets written to: version1\\assets\n"
     ]
    },
    {
     "name": "stderr",
     "output_type": "stream",
     "text": [
      "INFO:tensorflow:Assets written to: version1\\assets\n"
     ]
    },
    {
     "name": "stdout",
     "output_type": "stream",
     "text": [
      "91/91 [==============================] - 181s 2s/step - loss: 0.7462 - accuracy: 0.7315 - val_loss: 0.7800 - val_accuracy: 0.7188\n",
      "Epoch 24/50\n",
      "91/91 [==============================] - ETA: 0s - loss: 0.7497 - accuracy: 0.7243\n",
      "Epoch 24: val_loss did not improve from 0.78000\n",
      "91/91 [==============================] - 242s 3s/step - loss: 0.7497 - accuracy: 0.7243 - val_loss: 0.7860 - val_accuracy: 0.7273\n",
      "Epoch 25/50\n",
      "91/91 [==============================] - ETA: 0s - loss: 0.7228 - accuracy: 0.7322\n",
      "Epoch 25: val_loss did not improve from 0.78000\n",
      "91/91 [==============================] - 244s 3s/step - loss: 0.7228 - accuracy: 0.7322 - val_loss: 0.7874 - val_accuracy: 0.6889\n",
      "Epoch 26/50\n",
      "91/91 [==============================] - ETA: 0s - loss: 0.7300 - accuracy: 0.7198\n",
      "Epoch 26: val_loss improved from 0.78000 to 0.76386, saving model to version1\n",
      "INFO:tensorflow:Assets written to: version1\\assets\n"
     ]
    },
    {
     "name": "stderr",
     "output_type": "stream",
     "text": [
      "INFO:tensorflow:Assets written to: version1\\assets\n"
     ]
    },
    {
     "name": "stdout",
     "output_type": "stream",
     "text": [
      "91/91 [==============================] - 244s 3s/step - loss: 0.7300 - accuracy: 0.7198 - val_loss: 0.7639 - val_accuracy: 0.7116\n",
      "Epoch 27/50\n",
      "91/91 [==============================] - ETA: 0s - loss: 0.7217 - accuracy: 0.7367\n",
      "Epoch 27: val_loss did not improve from 0.76386\n",
      "91/91 [==============================] - 245s 3s/step - loss: 0.7217 - accuracy: 0.7367 - val_loss: 0.8086 - val_accuracy: 0.6974\n",
      "Epoch 28/50\n",
      "91/91 [==============================] - ETA: 0s - loss: 0.7282 - accuracy: 0.7329\n",
      "Epoch 28: val_loss did not improve from 0.76386\n",
      "91/91 [==============================] - 246s 3s/step - loss: 0.7282 - accuracy: 0.7329 - val_loss: 0.7684 - val_accuracy: 0.7216\n",
      "Epoch 29/50\n",
      "91/91 [==============================] - ETA: 0s - loss: 0.7335 - accuracy: 0.7277\n",
      "Epoch 29: val_loss did not improve from 0.76386\n",
      "91/91 [==============================] - 247s 3s/step - loss: 0.7335 - accuracy: 0.7277 - val_loss: 0.7919 - val_accuracy: 0.7060\n",
      "Epoch 30/50\n",
      "91/91 [==============================] - ETA: 0s - loss: 0.7221 - accuracy: 0.7257\n",
      "Epoch 30: val_loss did not improve from 0.76386\n",
      "91/91 [==============================] - 243s 3s/step - loss: 0.7221 - accuracy: 0.7257 - val_loss: 0.7756 - val_accuracy: 0.7145\n",
      "Epoch 31/50\n",
      "91/91 [==============================] - ETA: 0s - loss: 0.7051 - accuracy: 0.7357\n",
      "Epoch 31: val_loss did not improve from 0.76386\n",
      "91/91 [==============================] - 239s 3s/step - loss: 0.7051 - accuracy: 0.7357 - val_loss: 0.7642 - val_accuracy: 0.7273\n",
      "Epoch 32/50\n",
      "91/91 [==============================] - ETA: 0s - loss: 0.6997 - accuracy: 0.7415\n",
      "Epoch 32: val_loss did not improve from 0.76386\n",
      "91/91 [==============================] - 223s 2s/step - loss: 0.6997 - accuracy: 0.7415 - val_loss: 0.7840 - val_accuracy: 0.7088\n",
      "Epoch 33/50\n",
      "91/91 [==============================] - ETA: 0s - loss: 0.6842 - accuracy: 0.7395\n",
      "Epoch 33: val_loss improved from 0.76386 to 0.75112, saving model to version1\n",
      "INFO:tensorflow:Assets written to: version1\\assets\n"
     ]
    },
    {
     "name": "stderr",
     "output_type": "stream",
     "text": [
      "INFO:tensorflow:Assets written to: version1\\assets\n"
     ]
    },
    {
     "name": "stdout",
     "output_type": "stream",
     "text": [
      "91/91 [==============================] - 190s 2s/step - loss: 0.6842 - accuracy: 0.7395 - val_loss: 0.7511 - val_accuracy: 0.7259\n",
      "Epoch 34/50\n",
      "91/91 [==============================] - ETA: 0s - loss: 0.6942 - accuracy: 0.7433\n",
      "Epoch 34: val_loss did not improve from 0.75112\n",
      "91/91 [==============================] - 175s 2s/step - loss: 0.6942 - accuracy: 0.7433 - val_loss: 0.8234 - val_accuracy: 0.6918\n",
      "Epoch 35/50\n",
      "91/91 [==============================] - ETA: 0s - loss: 0.6924 - accuracy: 0.7443\n",
      "Epoch 35: val_loss improved from 0.75112 to 0.75027, saving model to version1\n",
      "INFO:tensorflow:Assets written to: version1\\assets\n"
     ]
    },
    {
     "name": "stderr",
     "output_type": "stream",
     "text": [
      "INFO:tensorflow:Assets written to: version1\\assets\n"
     ]
    },
    {
     "name": "stdout",
     "output_type": "stream",
     "text": [
      "91/91 [==============================] - 205s 2s/step - loss: 0.6924 - accuracy: 0.7443 - val_loss: 0.7503 - val_accuracy: 0.7259\n",
      "Epoch 36/50\n",
      "91/91 [==============================] - ETA: 0s - loss: 0.6824 - accuracy: 0.7491\n",
      "Epoch 36: val_loss did not improve from 0.75027\n",
      "91/91 [==============================] - 243s 3s/step - loss: 0.6824 - accuracy: 0.7491 - val_loss: 0.7677 - val_accuracy: 0.7131\n",
      "Epoch 37/50\n",
      "91/91 [==============================] - ETA: 0s - loss: 0.6881 - accuracy: 0.7391\n",
      "Epoch 37: val_loss did not improve from 0.75027\n",
      "91/91 [==============================] - 243s 3s/step - loss: 0.6881 - accuracy: 0.7391 - val_loss: 0.7530 - val_accuracy: 0.7216\n",
      "Epoch 38/50\n",
      "91/91 [==============================] - ETA: 0s - loss: 0.6888 - accuracy: 0.7457\n",
      "Epoch 38: val_loss did not improve from 0.75027\n",
      "91/91 [==============================] - 182s 2s/step - loss: 0.6888 - accuracy: 0.7457 - val_loss: 0.7932 - val_accuracy: 0.7045\n",
      "Epoch 39/50\n",
      "91/91 [==============================] - ETA: 0s - loss: 0.6759 - accuracy: 0.7478\n",
      "Epoch 39: val_loss did not improve from 0.75027\n",
      "91/91 [==============================] - 173s 2s/step - loss: 0.6759 - accuracy: 0.7478 - val_loss: 0.7951 - val_accuracy: 0.7259\n",
      "Epoch 40/50\n",
      "91/91 [==============================] - ETA: 0s - loss: 0.6598 - accuracy: 0.7557\n",
      "Epoch 40: val_loss did not improve from 0.75027\n",
      "91/91 [==============================] - 172s 2s/step - loss: 0.6598 - accuracy: 0.7557 - val_loss: 0.7586 - val_accuracy: 0.7202\n",
      "Epoch 41/50\n",
      "91/91 [==============================] - ETA: 0s - loss: 0.6628 - accuracy: 0.7453\n",
      "Epoch 41: val_loss did not improve from 0.75027\n",
      "91/91 [==============================] - 175s 2s/step - loss: 0.6628 - accuracy: 0.7453 - val_loss: 0.7954 - val_accuracy: 0.7031\n",
      "Epoch 42/50\n",
      "91/91 [==============================] - ETA: 0s - loss: 0.6582 - accuracy: 0.7550\n",
      "Epoch 42: val_loss did not improve from 0.75027\n",
      "91/91 [==============================] - 181s 2s/step - loss: 0.6582 - accuracy: 0.7550 - val_loss: 0.7592 - val_accuracy: 0.7259\n",
      "Epoch 43/50\n",
      "91/91 [==============================] - ETA: 0s - loss: 0.6302 - accuracy: 0.7629\n",
      "Epoch 43: val_loss did not improve from 0.75027\n",
      "91/91 [==============================] - 180s 2s/step - loss: 0.6302 - accuracy: 0.7629 - val_loss: 0.7674 - val_accuracy: 0.7088\n",
      "Epoch 44/50\n",
      "91/91 [==============================] - ETA: 0s - loss: 0.6471 - accuracy: 0.7560\n",
      "Epoch 44: val_loss did not improve from 0.75027\n",
      "91/91 [==============================] - 180s 2s/step - loss: 0.6471 - accuracy: 0.7560 - val_loss: 0.7922 - val_accuracy: 0.7131\n",
      "Epoch 45/50\n",
      "91/91 [==============================] - ETA: 0s - loss: 0.6294 - accuracy: 0.7602\n",
      "Epoch 45: val_loss did not improve from 0.75027\n",
      "91/91 [==============================] - 186s 2s/step - loss: 0.6294 - accuracy: 0.7602 - val_loss: 0.7789 - val_accuracy: 0.7116\n",
      "Epoch 46/50\n",
      "91/91 [==============================] - ETA: 0s - loss: 0.6323 - accuracy: 0.7609\n",
      "Epoch 46: val_loss did not improve from 0.75027\n",
      "91/91 [==============================] - 185s 2s/step - loss: 0.6323 - accuracy: 0.7609 - val_loss: 0.7653 - val_accuracy: 0.7273\n",
      "Epoch 47/50\n",
      "91/91 [==============================] - ETA: 0s - loss: 0.6175 - accuracy: 0.7716\n",
      "Epoch 47: val_loss did not improve from 0.75027\n",
      "91/91 [==============================] - 187s 2s/step - loss: 0.6175 - accuracy: 0.7716 - val_loss: 0.8061 - val_accuracy: 0.7159\n",
      "Epoch 48/50\n",
      "91/91 [==============================] - ETA: 0s - loss: 0.6121 - accuracy: 0.7678\n",
      "Epoch 48: val_loss did not improve from 0.75027\n",
      "91/91 [==============================] - 186s 2s/step - loss: 0.6121 - accuracy: 0.7678 - val_loss: 0.7902 - val_accuracy: 0.7131\n",
      "Epoch 49/50\n",
      "91/91 [==============================] - ETA: 0s - loss: 0.6261 - accuracy: 0.7695\n",
      "Epoch 49: val_loss did not improve from 0.75027\n",
      "91/91 [==============================] - 187s 2s/step - loss: 0.6261 - accuracy: 0.7695 - val_loss: 0.7752 - val_accuracy: 0.7074\n",
      "Epoch 50/50\n",
      "91/91 [==============================] - ETA: 0s - loss: 0.6100 - accuracy: 0.7733\n",
      "Epoch 50: val_loss did not improve from 0.75027\n",
      "91/91 [==============================] - 232s 3s/step - loss: 0.6100 - accuracy: 0.7733 - val_loss: 0.8165 - val_accuracy: 0.6974\n"
     ]
    },
    {
     "data": {
      "image/png": "[encoded data removed]",
      "text/plain": [
       "<Figure size 2000x1000 with 1 Axes>"
      ]
     },
     "metadata": {},
     "output_type": "display_data"
    },
    {
     "data": {
      "text/plain": [
       "<keras.src.callbacks.History at 0x256d1d6bb10>"
      ]
     },
     "execution_count": 16,
     "metadata": {},
     "output_type": "execute_result"
    }
   ],
   "source": [
    "steps_per_epoch = 2930 // batch_size\n",
    "validation_steps = 732 // batch_size\n",
    "model.fit(\n",
    "    train_pic,\n",
    "    steps_per_epoch=steps_per_epoch, \n",
    "    epochs=50, \n",
    "    validation_data=test_pic,\n",
    "    validation_steps=validation_steps,\n",
    "    callbacks=[tm, plotter]\n",
    ")"
   ]
  },
  {
   "cell_type": "markdown",
   "metadata": {},
   "source": [
    "### 3. Give out Prediction Results"
   ]
  },
  {
   "cell_type": "code",
   "execution_count": 19,
   "metadata": {},
   "outputs": [],
   "source": [
    "from keras.models import load_model\n",
    "from math import ceil\n",
    "\n",
    "trained_model = load_model('version1')\n",
    "\n",
    "prediction_df = pd.read_csv('sample_submission.csv')\n",
    "prediction_df['pic_id'] = prediction_df['id_code'].astype(str) + '.png'"
   ]
  },
  {
   "cell_type": "code",
   "execution_count": 20,
   "metadata": {},
   "outputs": [
    {
     "name": "stdout",
     "output_type": "stream",
     "text": [
      "Found 1928 validated image filenames.\n"
     ]
    }
   ],
   "source": [
    "prediction_pic = ImageDataGenerator(rescale=1/255)\n",
    "pre_prediction = prediction_pic.flow_from_dataframe(\n",
    "    dataframe=prediction_df,\n",
    "    directory='test_images',\n",
    "    x_col='pic_id',\n",
    "    y_col=None,\n",
    "    batch_size=batch_size,\n",
    "    class_mode=None,\n",
    "    shuffle=False,\n",
    "    target_size=(image_size, image_size)\n",
    ")"
   ]
  },
  {
   "cell_type": "code",
   "execution_count": 21,
   "metadata": {},
   "outputs": [
    {
     "name": "stdout",
     "output_type": "stream",
     "text": [
      "61/61 [==============================] - 42s 698ms/step\n"
     ]
    }
   ],
   "source": [
    "test_steps = ceil(pre_prediction.n / batch_size)\n",
    "\n",
    "results = trained_model.predict(pre_prediction, steps=test_steps)\n",
    "\n",
    "max_probability = np.argmax(results, axis=1)\n",
    "prediction_df['diagnosis'] = max_probability\n",
    "\n",
    "prediction_df.drop(columns=['pic_id'], inplace=True)\n",
    "prediction_df.to_csv('submission.csv', index=False)"
   ]
  }
 ],
 "metadata": {
  "kernelspec": {
   "display_name": "base",
   "language": "python",
   "name": "python3"
  },
  "language_info": {
   "codemirror_mode": {
    "name": "ipython",
    "version": 3
   },
   "file_extension": ".py",
   "mimetype": "text/x-python",
   "name": "python",
   "nbconvert_exporter": "python",
   "pygments_lexer": "ipython3",
   "version": "3.11.4"
  },
  "orig_nbformat": 4
 },
 "nbformat": 4,
 "nbformat_minor": 2
}
