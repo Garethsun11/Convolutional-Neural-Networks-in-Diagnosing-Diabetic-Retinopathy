{
 "cells": [
  {
   "cell_type": "markdown",
   "metadata": {},
   "source": [
    "## Final Project \n",
    "### Blindness Detection\n",
    "#### Group: Gareth Sun zs389, Zimu Li zl898, Arman Syed as3778\n"
   ]
  },
  {
   "cell_type": "markdown",
   "metadata": {},
   "source": [
    "### 1. Data Preprocess"
   ]
  },
  {
   "cell_type": "code",
   "execution_count": 18,
   "metadata": {},
   "outputs": [],
   "source": [
    "# Import the Library we need\n",
    "import numpy as np\n",
    "import pandas as pd\n",
    "from tensorflow.keras.preprocessing.image import ImageDataGenerator\n",
    "import tensorflow as tf\n",
    "import matplotlib.pyplot as plt\n",
    "\n"
   ]
  },
  {
   "cell_type": "code",
   "execution_count": 19,
   "metadata": {},
   "outputs": [
    {
     "data": {
      "text/html": [
       "<div>\n",
       "<style scoped>\n",
       "    .dataframe tbody tr th:only-of-type {\n",
       "        vertical-align: middle;\n",
       "    }\n",
       "\n",
       "    .dataframe tbody tr th {\n",
       "        vertical-align: top;\n",
       "    }\n",
       "\n",
       "    .dataframe thead th {\n",
       "        text-align: right;\n",
       "    }\n",
       "</style>\n",
       "<table border=\"1\" class=\"dataframe\">\n",
       "  <thead>\n",
       "    <tr style=\"text-align: right;\">\n",
       "      <th></th>\n",
       "      <th>id_code</th>\n",
       "      <th>diagnosis</th>\n",
       "      <th>pic_id</th>\n",
       "    </tr>\n",
       "  </thead>\n",
       "  <tbody>\n",
       "    <tr>\n",
       "      <th>0</th>\n",
       "      <td>000c1434d8d7</td>\n",
       "      <td>2</td>\n",
       "      <td>000c1434d8d7.png</td>\n",
       "    </tr>\n",
       "    <tr>\n",
       "      <th>1</th>\n",
       "      <td>001639a390f0</td>\n",
       "      <td>4</td>\n",
       "      <td>001639a390f0.png</td>\n",
       "    </tr>\n",
       "    <tr>\n",
       "      <th>2</th>\n",
       "      <td>0024cdab0c1e</td>\n",
       "      <td>1</td>\n",
       "      <td>0024cdab0c1e.png</td>\n",
       "    </tr>\n",
       "    <tr>\n",
       "      <th>3</th>\n",
       "      <td>002c21358ce6</td>\n",
       "      <td>0</td>\n",
       "      <td>002c21358ce6.png</td>\n",
       "    </tr>\n",
       "    <tr>\n",
       "      <th>4</th>\n",
       "      <td>005b95c28852</td>\n",
       "      <td>0</td>\n",
       "      <td>005b95c28852.png</td>\n",
       "    </tr>\n",
       "  </tbody>\n",
       "</table>\n",
       "</div>"
      ],
      "text/plain": [
       "        id_code diagnosis            pic_id\n",
       "0  000c1434d8d7         2  000c1434d8d7.png\n",
       "1  001639a390f0         4  001639a390f0.png\n",
       "2  0024cdab0c1e         1  0024cdab0c1e.png\n",
       "3  002c21358ce6         0  002c21358ce6.png\n",
       "4  005b95c28852         0  005b95c28852.png"
      ]
     },
     "execution_count": 19,
     "metadata": {},
     "output_type": "execute_result"
    }
   ],
   "source": [
    "# Load training Data\n",
    "train_df = pd.read_csv('train.csv')\n",
    "train_df['diagnosis'] = train_df['diagnosis'].astype(str)\n",
    "train_df['pic_id'] = train_df['id_code'].astype(str)+'.png'\n",
    "train_df.head()"
   ]
  },
  {
   "cell_type": "code",
   "execution_count": 20,
   "metadata": {},
   "outputs": [
    {
     "name": "stdout",
     "output_type": "stream",
     "text": [
      "Found 2930 validated image filenames belonging to 5 classes.\n",
      "Found 732 validated image filenames belonging to 5 classes.\n",
      "5\n",
      "3662\n"
     ]
    }
   ],
   "source": [
    "# Data Load\n",
    "preprocessor = ImageDataGenerator(\n",
    "    # Normalization\n",
    "    rescale= 1/255,\n",
    "    # Use Data Augmentation to prevent overfitting\n",
    "    shear_range= 0.2,\n",
    "    zoom_range= 0.2,\n",
    "    horizontal_flip= True, \n",
    "    # Split validation and training dataset\n",
    "    validation_split= 0.2\n",
    "    )\n",
    "\n",
    "# Set the batch and image size\n",
    "image_size = 64\n",
    "batch_size = 32\n",
    "\n",
    "train_pic = preprocessor.flow_from_dataframe(\n",
    "    dataframe= train_df,\n",
    "    directory= 'train_images',\n",
    "    x_col= 'pic_id',\n",
    "    y_col= 'diagnosis',\n",
    "    batch_size= batch_size,\n",
    "    class_mode= 'categorical',\n",
    "    shuffle= True,\n",
    "    subset= 'training',\n",
    "    target_size= (image_size, image_size)\n",
    ")\n",
    "\n",
    "test_pic = preprocessor.flow_from_dataframe(\n",
    "    dataframe= train_df,\n",
    "    directory= 'train_images',\n",
    "    x_col= 'pic_id',\n",
    "    y_col= 'diagnosis',\n",
    "    batch_size= batch_size,\n",
    "    class_mode= 'categorical',\n",
    "    shuffle= True,\n",
    "    subset= 'validation',\n",
    "    target_size= (image_size, image_size)\n",
    ")\n",
    "\n",
    "# Covert category into one-hot code\n",
    "train_label = pd.get_dummies(train_df['diagnosis'])\n",
    "num_classes = train_label.shape[1]\n",
    "num_samples = train_label.shape[0]\n",
    "\n",
    "print(num_classes)\n",
    "print(num_samples)"
   ]
  },
  {
   "cell_type": "markdown",
   "metadata": {},
   "source": [
    "### 2. Build CNN Model"
   ]
  },
  {
   "cell_type": "code",
   "execution_count": 21,
   "metadata": {},
   "outputs": [],
   "source": [
    "from keras.models import Sequential\n",
    "from keras.layers import Conv2D, MaxPooling2D, Flatten, Dense, Dropout"
   ]
  },
  {
   "cell_type": "code",
   "execution_count": 22,
   "metadata": {},
   "outputs": [],
   "source": [
    "def cnn_model(image_size, num_classes):\n",
    "    model = Sequential()\n",
    "\n",
    "    model.add(Conv2D(16, (3, 3), activation='relu', input_shape=(image_size, image_size, 3)))\n",
    "    model.add(Conv2D(32, (3, 3), activation='relu'))\n",
    "    model.add(MaxPooling2D(pool_size=(2, 2)))\n",
    "    model.add(Conv2D(64, (5, 5), activation='relu'))\n",
    "    model.add(Dropout(0.2))\n",
    "    model.add(MaxPooling2D(pool_size=(2, 2)))\n",
    "    model.add(Conv2D(64, (5, 5), activation='relu'))\n",
    "\n",
    "    model.add(Flatten())\n",
    "    model.add(Dense(256, activation='relu'))\n",
    "    model.add(Dense(128, activation='relu'))\n",
    "    model.add(Dense(64, activation='relu'))\n",
    "    model.add(Dense(32, activation='relu'))\n",
    "\n",
    "    model.add(Dense(num_classes, activation='softmax'))\n",
    "\n",
    "    model.compile(optimizer='adam', loss='categorical_crossentropy', metrics=['accuracy'])\n",
    "\n",
    "    return model\n",
    "\n",
    "\n"
   ]
  },
  {
   "cell_type": "code",
   "execution_count": 23,
   "metadata": {},
   "outputs": [],
   "source": [
    "model = cnn_model(image_size, num_classes)\n",
    "# Save the model\n",
    "from keras.callbacks import ModelCheckpoint\n",
    "from keras.callbacks import Callback\n",
    "\n",
    "tm = ModelCheckpoint('version1', monitor='val_loss', save_best_only = True, mode ='min', verbose = 1)\n",
    "\n",
    "class AccuracyPlotter(Callback):\n",
    "    def on_train_begin(self, logs={}):\n",
    "        self.train_acc = []\n",
    "        self.val_acc = []\n",
    "\n",
    "    def on_epoch_end(self, epoch, logs={}):\n",
    "        self.train_acc.append(logs.get('accuracy'))\n",
    "        self.val_acc.append(logs.get('val_accuracy'))\n",
    "\n",
    "    def on_train_end(self, logs={}):\n",
    "        plt.figure(figsize=(20,10))\n",
    "        plt.plot(range(1, len(self.train_acc) + 1), self.train_acc, label='Training Accuracy')\n",
    "        plt.plot(range(1, len(self.val_acc) + 1), self.val_acc, label='Validation Accuracy')\n",
    "        plt.title('Accuracy Plot')\n",
    "        plt.xlabel('Epoch')\n",
    "        plt.ylabel('Accuracy')\n",
    "        plt.xticks(range(1, len(self.train_acc) + 1))\n",
    "        plt.legend()\n",
    "        plt.grid(True)\n",
    "        plt.show()\n",
    "        \n",
    "plotter = AccuracyPlotter()"
   ]
  },
  {
   "cell_type": "code",
   "execution_count": 24,
   "metadata": {},
   "outputs": [
    {
     "name": "stdout",
     "output_type": "stream",
     "text": [
      "Epoch 1/50\n",
      "91/91 [==============================] - ETA: 0s - loss: 1.1993 - accuracy: 0.5210\n",
      "Epoch 1: val_loss improved from inf to 1.05323, saving model to version1\n",
      "INFO:tensorflow:Assets written to: version1/assets\n"
     ]
    },
    {
     "name": "stderr",
     "output_type": "stream",
     "text": [
      "INFO:tensorflow:Assets written to: version1/assets\n"
     ]
    },
    {
     "name": "stdout",
     "output_type": "stream",
     "text": [
      "91/91 [==============================] - 316s 3s/step - loss: 1.1993 - accuracy: 0.5210 - val_loss: 1.0532 - val_accuracy: 0.5966\n",
      "Epoch 2/50\n",
      "91/91 [==============================] - ETA: 0s - loss: 0.9599 - accuracy: 0.6594\n",
      "Epoch 2: val_loss improved from 1.05323 to 0.92199, saving model to version1\n",
      "INFO:tensorflow:Assets written to: version1/assets\n"
     ]
    },
    {
     "name": "stderr",
     "output_type": "stream",
     "text": [
      "INFO:tensorflow:Assets written to: version1/assets\n"
     ]
    },
    {
     "name": "stdout",
     "output_type": "stream",
     "text": [
      "91/91 [==============================] - 308s 3s/step - loss: 0.9599 - accuracy: 0.6594 - val_loss: 0.9220 - val_accuracy: 0.6562\n",
      "Epoch 3/50\n",
      "91/91 [==============================] - ETA: 0s - loss: 0.8831 - accuracy: 0.6894\n",
      "Epoch 3: val_loss improved from 0.92199 to 0.87268, saving model to version1\n",
      "INFO:tensorflow:Assets written to: version1/assets\n"
     ]
    },
    {
     "name": "stderr",
     "output_type": "stream",
     "text": [
      "INFO:tensorflow:Assets written to: version1/assets\n"
     ]
    },
    {
     "name": "stdout",
     "output_type": "stream",
     "text": [
      "91/91 [==============================] - 307s 3s/step - loss: 0.8831 - accuracy: 0.6894 - val_loss: 0.8727 - val_accuracy: 0.6946\n",
      "Epoch 4/50\n",
      "91/91 [==============================] - ETA: 0s - loss: 0.8241 - accuracy: 0.7036\n",
      "Epoch 4: val_loss improved from 0.87268 to 0.86937, saving model to version1\n",
      "INFO:tensorflow:Assets written to: version1/assets\n"
     ]
    },
    {
     "name": "stderr",
     "output_type": "stream",
     "text": [
      "INFO:tensorflow:Assets written to: version1/assets\n"
     ]
    },
    {
     "name": "stdout",
     "output_type": "stream",
     "text": [
      "91/91 [==============================] - 303s 3s/step - loss: 0.8241 - accuracy: 0.7036 - val_loss: 0.8694 - val_accuracy: 0.6889\n",
      "Epoch 5/50\n",
      "91/91 [==============================] - ETA: 0s - loss: 0.8163 - accuracy: 0.7105\n",
      "Epoch 5: val_loss improved from 0.86937 to 0.86083, saving model to version1\n",
      "INFO:tensorflow:Assets written to: version1/assets\n"
     ]
    },
    {
     "name": "stderr",
     "output_type": "stream",
     "text": [
      "INFO:tensorflow:Assets written to: version1/assets\n"
     ]
    },
    {
     "name": "stdout",
     "output_type": "stream",
     "text": [
      "91/91 [==============================] - 309s 3s/step - loss: 0.8163 - accuracy: 0.7105 - val_loss: 0.8608 - val_accuracy: 0.6918\n",
      "Epoch 6/50\n",
      "91/91 [==============================] - ETA: 0s - loss: 0.8047 - accuracy: 0.7139\n",
      "Epoch 6: val_loss did not improve from 0.86083\n",
      "91/91 [==============================] - 308s 3s/step - loss: 0.8047 - accuracy: 0.7139 - val_loss: 0.8847 - val_accuracy: 0.7031\n",
      "Epoch 7/50\n",
      "91/91 [==============================] - ETA: 0s - loss: 0.7900 - accuracy: 0.7205\n",
      "Epoch 7: val_loss improved from 0.86083 to 0.83866, saving model to version1\n",
      "INFO:tensorflow:Assets written to: version1/assets\n"
     ]
    },
    {
     "name": "stderr",
     "output_type": "stream",
     "text": [
      "INFO:tensorflow:Assets written to: version1/assets\n"
     ]
    },
    {
     "name": "stdout",
     "output_type": "stream",
     "text": [
      "91/91 [==============================] - 830s 9s/step - loss: 0.7900 - accuracy: 0.7205 - val_loss: 0.8387 - val_accuracy: 0.6974\n",
      "Epoch 8/50\n",
      "91/91 [==============================] - ETA: 0s - loss: 0.7879 - accuracy: 0.7202\n",
      "Epoch 8: val_loss improved from 0.83866 to 0.81617, saving model to version1\n",
      "INFO:tensorflow:Assets written to: version1/assets\n"
     ]
    },
    {
     "name": "stderr",
     "output_type": "stream",
     "text": [
      "INFO:tensorflow:Assets written to: version1/assets\n"
     ]
    },
    {
     "name": "stdout",
     "output_type": "stream",
     "text": [
      "91/91 [==============================] - 881s 10s/step - loss: 0.7879 - accuracy: 0.7202 - val_loss: 0.8162 - val_accuracy: 0.7060\n",
      "Epoch 9/50\n",
      "91/91 [==============================] - ETA: 0s - loss: 0.7970 - accuracy: 0.7160 \n",
      "Epoch 9: val_loss improved from 0.81617 to 0.81419, saving model to version1\n",
      "INFO:tensorflow:Assets written to: version1/assets\n"
     ]
    },
    {
     "name": "stderr",
     "output_type": "stream",
     "text": [
      "INFO:tensorflow:Assets written to: version1/assets\n"
     ]
    },
    {
     "name": "stdout",
     "output_type": "stream",
     "text": [
      "91/91 [==============================] - 3256s 36s/step - loss: 0.7970 - accuracy: 0.7160 - val_loss: 0.8142 - val_accuracy: 0.7116\n",
      "Epoch 10/50\n",
      "91/91 [==============================] - ETA: 0s - loss: 0.7841 - accuracy: 0.7164\n",
      "Epoch 10: val_loss improved from 0.81419 to 0.80575, saving model to version1\n",
      "INFO:tensorflow:Assets written to: version1/assets\n"
     ]
    },
    {
     "name": "stderr",
     "output_type": "stream",
     "text": [
      "INFO:tensorflow:Assets written to: version1/assets\n"
     ]
    },
    {
     "name": "stdout",
     "output_type": "stream",
     "text": [
      "91/91 [==============================] - 309s 3s/step - loss: 0.7841 - accuracy: 0.7164 - val_loss: 0.8057 - val_accuracy: 0.7088\n",
      "Epoch 11/50\n",
      "91/91 [==============================] - ETA: 0s - loss: 0.7755 - accuracy: 0.7226\n",
      "Epoch 11: val_loss improved from 0.80575 to 0.80062, saving model to version1\n",
      "INFO:tensorflow:Assets written to: version1/assets\n"
     ]
    },
    {
     "name": "stderr",
     "output_type": "stream",
     "text": [
      "INFO:tensorflow:Assets written to: version1/assets\n"
     ]
    },
    {
     "name": "stdout",
     "output_type": "stream",
     "text": [
      "91/91 [==============================] - 311s 3s/step - loss: 0.7755 - accuracy: 0.7226 - val_loss: 0.8006 - val_accuracy: 0.7173\n",
      "Epoch 12/50\n",
      "91/91 [==============================] - ETA: 0s - loss: 0.7707 - accuracy: 0.7222\n",
      "Epoch 12: val_loss did not improve from 0.80062\n",
      "91/91 [==============================] - 313s 3s/step - loss: 0.7707 - accuracy: 0.7222 - val_loss: 0.8140 - val_accuracy: 0.7060\n",
      "Epoch 13/50\n",
      "91/91 [==============================] - ETA: 0s - loss: 0.7832 - accuracy: 0.7243 \n",
      "Epoch 13: val_loss did not improve from 0.80062\n",
      "91/91 [==============================] - 1296s 14s/step - loss: 0.7832 - accuracy: 0.7243 - val_loss: 0.8142 - val_accuracy: 0.7102\n",
      "Epoch 14/50\n",
      "91/91 [==============================] - ETA: 0s - loss: 0.7665 - accuracy: 0.7202\n",
      "Epoch 14: val_loss improved from 0.80062 to 0.79497, saving model to version1\n",
      "INFO:tensorflow:Assets written to: version1/assets\n"
     ]
    },
    {
     "name": "stderr",
     "output_type": "stream",
     "text": [
      "INFO:tensorflow:Assets written to: version1/assets\n"
     ]
    },
    {
     "name": "stdout",
     "output_type": "stream",
     "text": [
      "91/91 [==============================] - 315s 3s/step - loss: 0.7665 - accuracy: 0.7202 - val_loss: 0.7950 - val_accuracy: 0.7102\n",
      "Epoch 15/50\n",
      "91/91 [==============================] - ETA: 0s - loss: 0.7705 - accuracy: 0.7181\n",
      "Epoch 15: val_loss did not improve from 0.79497\n",
      "91/91 [==============================] - 342s 4s/step - loss: 0.7705 - accuracy: 0.7181 - val_loss: 0.7998 - val_accuracy: 0.7102\n",
      "Epoch 16/50\n",
      "91/91 [==============================] - ETA: 0s - loss: 0.7633 - accuracy: 0.7250\n",
      "Epoch 16: val_loss improved from 0.79497 to 0.78503, saving model to version1\n",
      "INFO:tensorflow:Assets written to: version1/assets\n"
     ]
    },
    {
     "name": "stderr",
     "output_type": "stream",
     "text": [
      "INFO:tensorflow:Assets written to: version1/assets\n"
     ]
    },
    {
     "name": "stdout",
     "output_type": "stream",
     "text": [
      "91/91 [==============================] - 316s 3s/step - loss: 0.7633 - accuracy: 0.7250 - val_loss: 0.7850 - val_accuracy: 0.7173\n",
      "Epoch 17/50\n",
      "91/91 [==============================] - ETA: 0s - loss: 0.7437 - accuracy: 0.7340 \n",
      "Epoch 17: val_loss did not improve from 0.78503\n",
      "91/91 [==============================] - 1256s 14s/step - loss: 0.7437 - accuracy: 0.7340 - val_loss: 0.8151 - val_accuracy: 0.7102\n",
      "Epoch 18/50\n",
      "91/91 [==============================] - ETA: 0s - loss: 0.7482 - accuracy: 0.7274\n",
      "Epoch 18: val_loss did not improve from 0.78503\n",
      "91/91 [==============================] - 310s 3s/step - loss: 0.7482 - accuracy: 0.7274 - val_loss: 0.8174 - val_accuracy: 0.7017\n",
      "Epoch 19/50\n",
      "91/91 [==============================] - ETA: 0s - loss: 0.7425 - accuracy: 0.7264\n",
      "Epoch 19: val_loss did not improve from 0.78503\n",
      "91/91 [==============================] - 2937s 33s/step - loss: 0.7425 - accuracy: 0.7264 - val_loss: 0.8298 - val_accuracy: 0.6918\n",
      "Epoch 20/50\n",
      "91/91 [==============================] - ETA: 0s - loss: 0.7381 - accuracy: 0.7322\n",
      "Epoch 20: val_loss did not improve from 0.78503\n",
      "91/91 [==============================] - 312s 3s/step - loss: 0.7381 - accuracy: 0.7322 - val_loss: 0.7951 - val_accuracy: 0.6989\n",
      "Epoch 21/50\n",
      "91/91 [==============================] - ETA: 0s - loss: 0.7341 - accuracy: 0.7315\n",
      "Epoch 21: val_loss did not improve from 0.78503\n",
      "91/91 [==============================] - 298s 3s/step - loss: 0.7341 - accuracy: 0.7315 - val_loss: 0.8078 - val_accuracy: 0.7202\n",
      "Epoch 22/50\n",
      "91/91 [==============================] - ETA: 0s - loss: 0.7365 - accuracy: 0.7364\n",
      "Epoch 22: val_loss did not improve from 0.78503\n",
      "91/91 [==============================] - 173s 2s/step - loss: 0.7365 - accuracy: 0.7364 - val_loss: 0.7991 - val_accuracy: 0.7116\n",
      "Epoch 23/50\n",
      "91/91 [==============================] - ETA: 0s - loss: 0.7234 - accuracy: 0.7367\n",
      "Epoch 23: val_loss improved from 0.78503 to 0.75553, saving model to version1\n",
      "INFO:tensorflow:Assets written to: version1/assets\n"
     ]
    },
    {
     "name": "stderr",
     "output_type": "stream",
     "text": [
      "INFO:tensorflow:Assets written to: version1/assets\n"
     ]
    },
    {
     "name": "stdout",
     "output_type": "stream",
     "text": [
      "91/91 [==============================] - 174s 2s/step - loss: 0.7234 - accuracy: 0.7367 - val_loss: 0.7555 - val_accuracy: 0.7259\n",
      "Epoch 24/50\n",
      "91/91 [==============================] - ETA: 0s - loss: 0.7215 - accuracy: 0.7308\n",
      "Epoch 24: val_loss did not improve from 0.75553\n",
      "91/91 [==============================] - 174s 2s/step - loss: 0.7215 - accuracy: 0.7308 - val_loss: 0.7721 - val_accuracy: 0.7259\n",
      "Epoch 25/50\n",
      "91/91 [==============================] - ETA: 0s - loss: 0.7244 - accuracy: 0.7329\n",
      "Epoch 25: val_loss did not improve from 0.75553\n",
      "91/91 [==============================] - 173s 2s/step - loss: 0.7244 - accuracy: 0.7329 - val_loss: 0.7765 - val_accuracy: 0.7202\n",
      "Epoch 26/50\n",
      "91/91 [==============================] - ETA: 0s - loss: 0.7141 - accuracy: 0.7395\n",
      "Epoch 26: val_loss did not improve from 0.75553\n",
      "91/91 [==============================] - 173s 2s/step - loss: 0.7141 - accuracy: 0.7395 - val_loss: 0.7935 - val_accuracy: 0.7060\n",
      "Epoch 27/50\n",
      "91/91 [==============================] - ETA: 0s - loss: 0.7073 - accuracy: 0.7429\n",
      "Epoch 27: val_loss did not improve from 0.75553\n",
      "91/91 [==============================] - 173s 2s/step - loss: 0.7073 - accuracy: 0.7429 - val_loss: 0.7883 - val_accuracy: 0.7159\n",
      "Epoch 28/50\n",
      "91/91 [==============================] - ETA: 0s - loss: 0.7083 - accuracy: 0.7440\n",
      "Epoch 28: val_loss did not improve from 0.75553\n",
      "91/91 [==============================] - 174s 2s/step - loss: 0.7083 - accuracy: 0.7440 - val_loss: 0.7867 - val_accuracy: 0.7145\n",
      "Epoch 29/50\n",
      "91/91 [==============================] - ETA: 0s - loss: 0.6959 - accuracy: 0.7412\n",
      "Epoch 29: val_loss did not improve from 0.75553\n",
      "91/91 [==============================] - 174s 2s/step - loss: 0.6959 - accuracy: 0.7412 - val_loss: 0.7648 - val_accuracy: 0.7159\n",
      "Epoch 30/50\n",
      "91/91 [==============================] - ETA: 0s - loss: 0.6843 - accuracy: 0.7402 \n",
      "Epoch 30: val_loss did not improve from 0.75553\n",
      "91/91 [==============================] - 1488s 17s/step - loss: 0.6843 - accuracy: 0.7402 - val_loss: 0.7845 - val_accuracy: 0.7216\n",
      "Epoch 31/50\n",
      "91/91 [==============================] - ETA: 0s - loss: 0.6876 - accuracy: 0.7419\n",
      "Epoch 31: val_loss did not improve from 0.75553\n",
      "91/91 [==============================] - 172s 2s/step - loss: 0.6876 - accuracy: 0.7419 - val_loss: 0.7690 - val_accuracy: 0.7230\n",
      "Epoch 32/50\n",
      "91/91 [==============================] - ETA: 0s - loss: 0.6764 - accuracy: 0.7464\n",
      "Epoch 32: val_loss did not improve from 0.75553\n",
      "91/91 [==============================] - 173s 2s/step - loss: 0.6764 - accuracy: 0.7464 - val_loss: 0.7811 - val_accuracy: 0.7188\n",
      "Epoch 33/50\n",
      "91/91 [==============================] - ETA: 0s - loss: 0.6719 - accuracy: 0.7474\n",
      "Epoch 33: val_loss did not improve from 0.75553\n",
      "91/91 [==============================] - 177s 2s/step - loss: 0.6719 - accuracy: 0.7474 - val_loss: 0.7615 - val_accuracy: 0.7145\n",
      "Epoch 34/50\n",
      "91/91 [==============================] - ETA: 0s - loss: 0.6639 - accuracy: 0.7529\n",
      "Epoch 34: val_loss did not improve from 0.75553\n",
      "91/91 [==============================] - 174s 2s/step - loss: 0.6639 - accuracy: 0.7529 - val_loss: 0.7699 - val_accuracy: 0.7259\n",
      "Epoch 35/50\n",
      "91/91 [==============================] - ETA: 0s - loss: 0.6512 - accuracy: 0.7640\n",
      "Epoch 35: val_loss did not improve from 0.75553\n",
      "91/91 [==============================] - 173s 2s/step - loss: 0.6512 - accuracy: 0.7640 - val_loss: 0.7761 - val_accuracy: 0.7287\n",
      "Epoch 36/50\n",
      "91/91 [==============================] - ETA: 0s - loss: 0.6490 - accuracy: 0.7612\n",
      "Epoch 36: val_loss did not improve from 0.75553\n",
      "91/91 [==============================] - 173s 2s/step - loss: 0.6490 - accuracy: 0.7612 - val_loss: 0.8134 - val_accuracy: 0.7173\n",
      "Epoch 37/50\n",
      "91/91 [==============================] - ETA: 0s - loss: 0.6411 - accuracy: 0.7616\n",
      "Epoch 37: val_loss improved from 0.75553 to 0.74691, saving model to version1\n",
      "INFO:tensorflow:Assets written to: version1/assets\n"
     ]
    },
    {
     "name": "stderr",
     "output_type": "stream",
     "text": [
      "INFO:tensorflow:Assets written to: version1/assets\n"
     ]
    },
    {
     "name": "stdout",
     "output_type": "stream",
     "text": [
      "91/91 [==============================] - 174s 2s/step - loss: 0.6411 - accuracy: 0.7616 - val_loss: 0.7469 - val_accuracy: 0.7372\n",
      "Epoch 38/50\n",
      "91/91 [==============================] - ETA: 0s - loss: 0.6345 - accuracy: 0.7629\n",
      "Epoch 38: val_loss did not improve from 0.74691\n",
      "91/91 [==============================] - 175s 2s/step - loss: 0.6345 - accuracy: 0.7629 - val_loss: 0.7978 - val_accuracy: 0.7202\n",
      "Epoch 39/50\n",
      "91/91 [==============================] - ETA: 0s - loss: 0.6260 - accuracy: 0.7674\n",
      "Epoch 39: val_loss did not improve from 0.74691\n",
      "91/91 [==============================] - 174s 2s/step - loss: 0.6260 - accuracy: 0.7674 - val_loss: 0.7882 - val_accuracy: 0.7116\n",
      "Epoch 40/50\n",
      "91/91 [==============================] - ETA: 0s - loss: 0.6195 - accuracy: 0.7736\n",
      "Epoch 40: val_loss did not improve from 0.74691\n",
      "91/91 [==============================] - 175s 2s/step - loss: 0.6195 - accuracy: 0.7736 - val_loss: 0.7918 - val_accuracy: 0.7188\n",
      "Epoch 41/50\n",
      "91/91 [==============================] - ETA: 0s - loss: 0.5892 - accuracy: 0.7850\n",
      "Epoch 41: val_loss did not improve from 0.74691\n",
      "91/91 [==============================] - 175s 2s/step - loss: 0.5892 - accuracy: 0.7850 - val_loss: 0.7765 - val_accuracy: 0.7230\n",
      "Epoch 42/50\n",
      "91/91 [==============================] - ETA: 0s - loss: 0.5986 - accuracy: 0.7823\n",
      "Epoch 42: val_loss did not improve from 0.74691\n",
      "91/91 [==============================] - 174s 2s/step - loss: 0.5986 - accuracy: 0.7823 - val_loss: 0.8006 - val_accuracy: 0.7386\n",
      "Epoch 43/50\n",
      "91/91 [==============================] - ETA: 0s - loss: 0.5785 - accuracy: 0.7833\n",
      "Epoch 43: val_loss did not improve from 0.74691\n",
      "91/91 [==============================] - 176s 2s/step - loss: 0.5785 - accuracy: 0.7833 - val_loss: 0.7798 - val_accuracy: 0.7415\n",
      "Epoch 44/50\n",
      "91/91 [==============================] - ETA: 0s - loss: 0.5723 - accuracy: 0.7802\n",
      "Epoch 44: val_loss did not improve from 0.74691\n",
      "91/91 [==============================] - 175s 2s/step - loss: 0.5723 - accuracy: 0.7802 - val_loss: 0.7922 - val_accuracy: 0.7301\n",
      "Epoch 45/50\n",
      "91/91 [==============================] - ETA: 0s - loss: 0.5731 - accuracy: 0.7937\n",
      "Epoch 45: val_loss did not improve from 0.74691\n",
      "91/91 [==============================] - 177s 2s/step - loss: 0.5731 - accuracy: 0.7937 - val_loss: 0.8593 - val_accuracy: 0.7259\n",
      "Epoch 46/50\n",
      "91/91 [==============================] - ETA: 0s - loss: 0.5758 - accuracy: 0.7850\n",
      "Epoch 46: val_loss did not improve from 0.74691\n",
      "91/91 [==============================] - 177s 2s/step - loss: 0.5758 - accuracy: 0.7850 - val_loss: 0.7985 - val_accuracy: 0.7457\n",
      "Epoch 47/50\n",
      "91/91 [==============================] - ETA: 0s - loss: 0.5429 - accuracy: 0.8012\n",
      "Epoch 47: val_loss did not improve from 0.74691\n",
      "91/91 [==============================] - 258s 3s/step - loss: 0.5429 - accuracy: 0.8012 - val_loss: 0.7859 - val_accuracy: 0.7244\n",
      "Epoch 48/50\n",
      "91/91 [==============================] - ETA: 0s - loss: 0.5416 - accuracy: 0.8030\n",
      "Epoch 48: val_loss did not improve from 0.74691\n",
      "91/91 [==============================] - 306s 3s/step - loss: 0.5416 - accuracy: 0.8030 - val_loss: 0.7901 - val_accuracy: 0.7273\n",
      "Epoch 49/50\n",
      "91/91 [==============================] - ETA: 0s - loss: 0.5252 - accuracy: 0.8102\n",
      "Epoch 49: val_loss did not improve from 0.74691\n",
      "91/91 [==============================] - 292s 3s/step - loss: 0.5252 - accuracy: 0.8102 - val_loss: 0.8248 - val_accuracy: 0.7415\n",
      "Epoch 50/50\n",
      "91/91 [==============================] - ETA: 0s - loss: 0.5262 - accuracy: 0.8078\n",
      "Epoch 50: val_loss did not improve from 0.74691\n",
      "91/91 [==============================] - 174s 2s/step - loss: 0.5262 - accuracy: 0.8078 - val_loss: 0.7959 - val_accuracy: 0.7415\n"
     ]
    },
    {
     "data": {
      "image/png": "[encoded data removed]",
      "text/plain": [
       "<Figure size 2000x1000 with 1 Axes>"
      ]
     },
     "metadata": {},
     "output_type": "display_data"
    },
    {
     "data": {
      "text/plain": [
       "<keras.src.callbacks.History at 0x133446fd0>"
      ]
     },
     "execution_count": 24,
     "metadata": {},
     "output_type": "execute_result"
    }
   ],
   "source": [
    "steps_per_epoch = 2930 // batch_size\n",
    "validation_steps = 732 // batch_size\n",
    "model.fit(\n",
    "    train_pic,\n",
    "    steps_per_epoch=steps_per_epoch, \n",
    "    epochs=50, \n",
    "    validation_data=test_pic,\n",
    "    validation_steps=validation_steps,\n",
    "    callbacks=[tm, plotter]\n",
    ")"
   ]
  },
  {
   "cell_type": "markdown",
   "metadata": {},
   "source": [
    "### 3. Give out Prediction Results"
   ]
  },
  {
   "cell_type": "code",
   "execution_count": 25,
   "metadata": {},
   "outputs": [],
   "source": [
    "from keras.models import load_model\n",
    "trained_model = load_model('version1')\n",
    "\n",
    "prediction_df = pd.read_csv('sample_submission.csv')\n",
    "prediction_df['pic_id'] = prediction_df['id_code'].astype(str)+'.png'"
   ]
  },
  {
   "cell_type": "code",
   "execution_count": 26,
   "metadata": {},
   "outputs": [
    {
     "name": "stdout",
     "output_type": "stream",
     "text": [
      "Found 1928 validated image filenames.\n"
     ]
    }
   ],
   "source": [
    "prediction_pic = ImageDataGenerator(\n",
    "    rescale= 1/255\n",
    ")\n",
    "pre_prediction = prediction_pic.flow_from_dataframe(\n",
    "    # Load Prediction Dataset\n",
    "    dataframe= prediction_df,\n",
    "    directory= 'test_images',\n",
    "    x_col= 'pic_id',\n",
    "    batch_size= batch_size,\n",
    "    class_mode= None,\n",
    "    shuffle= False,\n",
    "    target_size= (image_size, image_size)\n",
    ")"
   ]
  },
  {
   "cell_type": "code",
   "execution_count": 27,
   "metadata": {},
   "outputs": [
    {
     "name": "stdout",
     "output_type": "stream",
     "text": [
      "61/61 [==============================] - 31s 515ms/step\n"
     ]
    }
   ],
   "source": [
    "results = model.predict(pre_prediction, steps = len(pre_prediction))\n",
    "max_probability = np.argmax(results,axis=1) \n",
    "prediction_df['diagnosis'] = max_probability\n",
    "prediction_df.drop(columns=['pic_id'], inplace= True)\n",
    "prediction_df.to_csv('submission.csv', index=False)"
   ]
  }
 ],
 "metadata": {
  "kernelspec": {
   "display_name": "base",
   "language": "python",
   "name": "python3"
  },
  "language_info": {
   "codemirror_mode": {
    "name": "ipython",
    "version": 3
   },
   "file_extension": ".py",
   "mimetype": "text/x-python",
   "name": "python",
   "nbconvert_exporter": "python",
   "pygments_lexer": "ipython3",
   "version": "3.11.4"
  },
  "orig_nbformat": 4
 },
 "nbformat": 4,
 "nbformat_minor": 2
}
