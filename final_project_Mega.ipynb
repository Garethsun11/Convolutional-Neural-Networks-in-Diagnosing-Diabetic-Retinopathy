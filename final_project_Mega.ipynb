{
 "cells": [
  {
   "cell_type": "markdown",
   "metadata": {},
   "source": [
    "## Final Project \n",
    "### Blindness Detection\n",
    "#### Group: Gareth Sun zs389, Zimu Li zl898, Arman Syed as3778\n"
   ]
  },
  {
   "cell_type": "markdown",
   "metadata": {},
   "source": [
    "### 1. Data Preprocess"
   ]
  },
  {
   "cell_type": "code",
   "execution_count": 14,
   "metadata": {},
   "outputs": [],
   "source": [
    "# Import the Library we need\n",
    "import numpy as np\n",
    "import pandas as pd\n",
    "from tensorflow.keras.preprocessing.image import ImageDataGenerator\n",
    "import tensorflow as tf\n",
    "import torch\n",
    "import matplotlib.pyplot as plt"
   ]
  },
  {
   "cell_type": "code",
   "execution_count": 15,
   "metadata": {},
   "outputs": [
    {
     "name": "stdout",
     "output_type": "stream",
     "text": [
      "2.1.1\n",
      "True\n"
     ]
    }
   ],
   "source": [
    "print(torch.__version__)\n",
    "print(torch.cuda.is_available())"
   ]
  },
  {
   "cell_type": "code",
   "execution_count": 16,
   "metadata": {},
   "outputs": [
    {
     "name": "stdout",
     "output_type": "stream",
     "text": [
      "cuda\n"
     ]
    }
   ],
   "source": [
    "cuda_available = torch.cuda.is_available()\n",
    "device = torch.device(\"cuda\" if cuda_available else \"cpu\")\n",
    "print(device)"
   ]
  },
  {
   "cell_type": "code",
   "execution_count": 17,
   "metadata": {},
   "outputs": [
    {
     "name": "stdout",
     "output_type": "stream",
     "text": [
      "[]\n"
     ]
    }
   ],
   "source": [
    "print(tf.config.list_physical_devices('GPU'))"
   ]
  },
  {
   "cell_type": "code",
   "execution_count": 18,
   "metadata": {},
   "outputs": [
    {
     "data": {
      "text/html": [
       "<div>\n",
       "<style scoped>\n",
       "    .dataframe tbody tr th:only-of-type {\n",
       "        vertical-align: middle;\n",
       "    }\n",
       "\n",
       "    .dataframe tbody tr th {\n",
       "        vertical-align: top;\n",
       "    }\n",
       "\n",
       "    .dataframe thead th {\n",
       "        text-align: right;\n",
       "    }\n",
       "</style>\n",
       "<table border=\"1\" class=\"dataframe\">\n",
       "  <thead>\n",
       "    <tr style=\"text-align: right;\">\n",
       "      <th></th>\n",
       "      <th>id_code</th>\n",
       "      <th>diagnosis</th>\n",
       "      <th>pic_id</th>\n",
       "    </tr>\n",
       "  </thead>\n",
       "  <tbody>\n",
       "    <tr>\n",
       "      <th>0</th>\n",
       "      <td>000c1434d8d7</td>\n",
       "      <td>2</td>\n",
       "      <td>000c1434d8d7.png</td>\n",
       "    </tr>\n",
       "    <tr>\n",
       "      <th>1</th>\n",
       "      <td>001639a390f0</td>\n",
       "      <td>4</td>\n",
       "      <td>001639a390f0.png</td>\n",
       "    </tr>\n",
       "    <tr>\n",
       "      <th>2</th>\n",
       "      <td>0024cdab0c1e</td>\n",
       "      <td>1</td>\n",
       "      <td>0024cdab0c1e.png</td>\n",
       "    </tr>\n",
       "    <tr>\n",
       "      <th>3</th>\n",
       "      <td>002c21358ce6</td>\n",
       "      <td>0</td>\n",
       "      <td>002c21358ce6.png</td>\n",
       "    </tr>\n",
       "    <tr>\n",
       "      <th>4</th>\n",
       "      <td>005b95c28852</td>\n",
       "      <td>0</td>\n",
       "      <td>005b95c28852.png</td>\n",
       "    </tr>\n",
       "  </tbody>\n",
       "</table>\n",
       "</div>"
      ],
      "text/plain": [
       "        id_code diagnosis            pic_id\n",
       "0  000c1434d8d7         2  000c1434d8d7.png\n",
       "1  001639a390f0         4  001639a390f0.png\n",
       "2  0024cdab0c1e         1  0024cdab0c1e.png\n",
       "3  002c21358ce6         0  002c21358ce6.png\n",
       "4  005b95c28852         0  005b95c28852.png"
      ]
     },
     "execution_count": 18,
     "metadata": {},
     "output_type": "execute_result"
    }
   ],
   "source": [
    "# Load training Data\n",
    "train_df = pd.read_csv('train.csv')\n",
    "train_df['diagnosis'] = train_df['diagnosis'].astype(str)\n",
    "train_df['pic_id'] = train_df['id_code'].astype(str)+'.png'\n",
    "train_df.head()"
   ]
  },
  {
   "cell_type": "code",
   "execution_count": 19,
   "metadata": {},
   "outputs": [
    {
     "name": "stdout",
     "output_type": "stream",
     "text": [
      "Found 2930 validated image filenames belonging to 5 classes.\n"
     ]
    },
    {
     "name": "stdout",
     "output_type": "stream",
     "text": [
      "Found 732 validated image filenames belonging to 5 classes.\n",
      "5\n",
      "3662\n"
     ]
    }
   ],
   "source": [
    "# Data Load\n",
    "preprocessor = ImageDataGenerator(\n",
    "    # Normalization\n",
    "    rescale=1/255,\n",
    "    validation_split=0.2\n",
    ")\n",
    "\n",
    "# Set the batch and image size\n",
    "image_size = 64\n",
    "batch_size = 32\n",
    "\n",
    "train_pic = preprocessor.flow_from_dataframe(\n",
    "    dataframe=train_df,\n",
    "    directory='train_images',\n",
    "    x_col='pic_id',\n",
    "    y_col='diagnosis',\n",
    "    batch_size=batch_size,\n",
    "    class_mode='categorical',\n",
    "    shuffle=True,\n",
    "    subset='training',\n",
    "    target_size=(image_size, image_size)\n",
    ")\n",
    "\n",
    "test_pic = preprocessor.flow_from_dataframe(\n",
    "    dataframe=train_df,\n",
    "    directory='train_images',\n",
    "    x_col='pic_id',\n",
    "    y_col='diagnosis',\n",
    "    batch_size=batch_size,\n",
    "    class_mode='categorical',\n",
    "    shuffle=True,\n",
    "    subset='validation',\n",
    "    target_size=(image_size, image_size)\n",
    ")\n",
    "\n",
    "# Covert category into one-hot code\n",
    "train_label = pd.get_dummies(train_df['diagnosis'])\n",
    "num_classes = train_label.shape[1]\n",
    "num_samples = train_label.shape[0]\n",
    "\n",
    "print(num_classes)\n",
    "print(num_samples)\n"
   ]
  },
  {
   "cell_type": "markdown",
   "metadata": {},
   "source": [
    "### 2. Build CNN Model"
   ]
  },
  {
   "cell_type": "code",
   "execution_count": 28,
   "metadata": {},
   "outputs": [],
   "source": [
    "from keras.models import Sequential\n",
    "from keras.layers import Conv2D, MaxPooling2D, Flatten, Dense, Dropout, GaussianDropout\n",
    "from keras.constraints import MaxNorm\n",
    "from keras import regularizers"
   ]
  },
  {
   "cell_type": "code",
   "execution_count": 30,
   "metadata": {},
   "outputs": [],
   "source": [
    "def cnn_model(image_size, num_classes):\n",
    "    model = Sequential()\n",
    "\n",
    "    model.add(Conv2D(16, (3, 3), activation='relu', input_shape=(image_size, image_size, 3)))\n",
    "    model.add(GaussianDropout(0.3))\n",
    "    model.add(Conv2D(32, (5, 5), activation='relu', kernel_constraint=MaxNorm(3)))\n",
    "    model.add(MaxPooling2D(pool_size=(2, 2)))\n",
    "    model.add(Conv2D(64, (3, 3), activation='relu'))\n",
    "    model.add(MaxPooling2D(pool_size=(2, 2)))\n",
    "    model.add(Conv2D(64, (5, 5), activation='relu'))\n",
    "    model.add(Conv2D(64, (7, 7), activation='relu'))\n",
    "    \n",
    "    model.add(Dropout(0.2))\n",
    "    model.add(Flatten())\n",
    "    model.add(Dense(256, activation='relu', kernel_regularizer=regularizers.l2(0.01)))\n",
    "    model.add(Dense(128, activation='relu'))\n",
    "    model.add(Dense(64, activation='relu'))\n",
    "    model.add(Dense(32, activation='relu'))\n",
    "\n",
    "    model.add(Dense(num_classes, activation='softmax', kernel_regularizer=regularizers.l2(0.0001)\n",
    "                   ,activity_regularizer=regularizers.l1(0.01)))\n",
    "\n",
    "    model.compile(optimizer='adam', loss='categorical_crossentropy', metrics=['accuracy'])\n",
    "\n",
    "    return model"
   ]
  },
  {
   "cell_type": "code",
   "execution_count": 31,
   "metadata": {},
   "outputs": [
    {
     "name": "stdout",
     "output_type": "stream",
     "text": [
      "WARNING:tensorflow:From d:\\Python\\anaconda3\\envs\\AML\\Lib\\site-packages\\keras\\src\\engine\\base_layer_utils.py:384: The name tf.executing_eagerly_outside_functions is deprecated. Please use tf.compat.v1.executing_eagerly_outside_functions instead.\n",
      "\n",
      "WARNING:tensorflow:From d:\\Python\\anaconda3\\envs\\AML\\Lib\\site-packages\\keras\\src\\optimizers\\__init__.py:309: The name tf.train.Optimizer is deprecated. Please use tf.compat.v1.train.Optimizer instead.\n",
      "\n"
     ]
    }
   ],
   "source": [
    "model = cnn_model(image_size, num_classes)\n",
    "# Save the model\n",
    "from keras.callbacks import ModelCheckpoint\n",
    "from keras.callbacks import Callback\n",
    "\n",
    "tm = ModelCheckpoint('version1', monitor='val_loss', save_best_only = True, mode ='min', verbose = 1)\n",
    "\n",
    "class AccuracyPlotter(Callback):\n",
    "    def on_train_begin(self, logs={}):\n",
    "        self.train_acc = []\n",
    "        self.val_acc = []\n",
    "\n",
    "    def on_epoch_end(self, epoch, logs={}):\n",
    "        self.train_acc.append(logs.get('accuracy'))\n",
    "        self.val_acc.append(logs.get('val_accuracy'))\n",
    "\n",
    "    def on_train_end(self, logs={}):\n",
    "        plt.figure(figsize=(20,10))\n",
    "        plt.plot(range(1, len(self.train_acc) + 1), self.train_acc, label='Training Accuracy')\n",
    "        plt.plot(range(1, len(self.val_acc) + 1), self.val_acc, label='Validation Accuracy')\n",
    "        plt.title('Accuracy Plot')\n",
    "        plt.xlabel('Epoch')\n",
    "        plt.ylabel('Accuracy')\n",
    "        plt.xticks(range(1, len(self.train_acc) + 1))\n",
    "        plt.legend()\n",
    "        plt.grid(True)\n",
    "        plt.show()\n",
    "        \n",
    "plotter = AccuracyPlotter()"
   ]
  },
  {
   "cell_type": "code",
   "execution_count": 32,
   "metadata": {},
   "outputs": [
    {
     "name": "stdout",
     "output_type": "stream",
     "text": [
      "Epoch 1/50\n",
      "WARNING:tensorflow:From d:\\Python\\anaconda3\\envs\\AML\\Lib\\site-packages\\keras\\src\\utils\\tf_utils.py:492: The name tf.ragged.RaggedTensorValue is deprecated. Please use tf.compat.v1.ragged.RaggedTensorValue instead.\n",
      "\n",
      "91/91 [==============================] - ETA: 0s - loss: 2.4668 - accuracy: 0.4931\n",
      "Epoch 1: val_loss improved from inf to 1.36298, saving model to version1\n",
      "INFO:tensorflow:Assets written to: version1\\assets\n"
     ]
    },
    {
     "name": "stderr",
     "output_type": "stream",
     "text": [
      "INFO:tensorflow:Assets written to: version1\\assets\n"
     ]
    },
    {
     "name": "stdout",
     "output_type": "stream",
     "text": [
      "91/91 [==============================] - 217s 2s/step - loss: 2.4668 - accuracy: 0.4931 - val_loss: 1.3630 - val_accuracy: 0.4645\n",
      "Epoch 2/50\n",
      "91/91 [==============================] - ETA: 0s - loss: 1.0442 - accuracy: 0.6912\n",
      "Epoch 2: val_loss improved from 1.36298 to 0.94854, saving model to version1\n",
      "INFO:tensorflow:Assets written to: version1\\assets\n"
     ]
    },
    {
     "name": "stderr",
     "output_type": "stream",
     "text": [
      "INFO:tensorflow:Assets written to: version1\\assets\n"
     ]
    },
    {
     "name": "stdout",
     "output_type": "stream",
     "text": [
      "91/91 [==============================] - 173s 2s/step - loss: 1.0442 - accuracy: 0.6912 - val_loss: 0.9485 - val_accuracy: 0.6932\n",
      "Epoch 3/50\n",
      "91/91 [==============================] - ETA: 0s - loss: 0.9275 - accuracy: 0.7036\n",
      "Epoch 3: val_loss improved from 0.94854 to 0.90323, saving model to version1\n",
      "INFO:tensorflow:Assets written to: version1\\assets\n"
     ]
    },
    {
     "name": "stderr",
     "output_type": "stream",
     "text": [
      "INFO:tensorflow:Assets written to: version1\\assets\n"
     ]
    },
    {
     "name": "stdout",
     "output_type": "stream",
     "text": [
      "91/91 [==============================] - 172s 2s/step - loss: 0.9275 - accuracy: 0.7036 - val_loss: 0.9032 - val_accuracy: 0.6761\n",
      "Epoch 4/50\n",
      "91/91 [==============================] - ETA: 0s - loss: 0.8377 - accuracy: 0.7174\n",
      "Epoch 4: val_loss improved from 0.90323 to 0.83473, saving model to version1\n",
      "INFO:tensorflow:Assets written to: version1\\assets\n"
     ]
    },
    {
     "name": "stderr",
     "output_type": "stream",
     "text": [
      "INFO:tensorflow:Assets written to: version1\\assets\n"
     ]
    },
    {
     "name": "stdout",
     "output_type": "stream",
     "text": [
      "91/91 [==============================] - 184s 2s/step - loss: 0.8377 - accuracy: 0.7174 - val_loss: 0.8347 - val_accuracy: 0.7131\n",
      "Epoch 5/50\n",
      "91/91 [==============================] - ETA: 0s - loss: 0.8033 - accuracy: 0.7229\n",
      "Epoch 5: val_loss improved from 0.83473 to 0.81544, saving model to version1\n",
      "INFO:tensorflow:Assets written to: version1\\assets\n"
     ]
    },
    {
     "name": "stderr",
     "output_type": "stream",
     "text": [
      "INFO:tensorflow:Assets written to: version1\\assets\n"
     ]
    },
    {
     "name": "stdout",
     "output_type": "stream",
     "text": [
      "91/91 [==============================] - 189s 2s/step - loss: 0.8033 - accuracy: 0.7229 - val_loss: 0.8154 - val_accuracy: 0.7145\n",
      "Epoch 6/50\n",
      "91/91 [==============================] - ETA: 0s - loss: 0.7986 - accuracy: 0.7246\n",
      "Epoch 6: val_loss did not improve from 0.81544\n",
      "91/91 [==============================] - 176s 2s/step - loss: 0.7986 - accuracy: 0.7246 - val_loss: 0.8308 - val_accuracy: 0.6889\n",
      "Epoch 7/50\n",
      "91/91 [==============================] - ETA: 0s - loss: 0.7907 - accuracy: 0.7215\n",
      "Epoch 7: val_loss improved from 0.81544 to 0.80565, saving model to version1\n",
      "INFO:tensorflow:Assets written to: version1\\assets\n"
     ]
    },
    {
     "name": "stderr",
     "output_type": "stream",
     "text": [
      "INFO:tensorflow:Assets written to: version1\\assets\n"
     ]
    },
    {
     "name": "stdout",
     "output_type": "stream",
     "text": [
      "91/91 [==============================] - 178s 2s/step - loss: 0.7907 - accuracy: 0.7215 - val_loss: 0.8057 - val_accuracy: 0.7074\n",
      "Epoch 8/50\n",
      "91/91 [==============================] - ETA: 0s - loss: 0.7768 - accuracy: 0.7264\n",
      "Epoch 8: val_loss improved from 0.80565 to 0.77468, saving model to version1\n",
      "INFO:tensorflow:Assets written to: version1\\assets\n"
     ]
    },
    {
     "name": "stderr",
     "output_type": "stream",
     "text": [
      "INFO:tensorflow:Assets written to: version1\\assets\n"
     ]
    },
    {
     "name": "stdout",
     "output_type": "stream",
     "text": [
      "91/91 [==============================] - 178s 2s/step - loss: 0.7768 - accuracy: 0.7264 - val_loss: 0.7747 - val_accuracy: 0.7173\n",
      "Epoch 9/50\n",
      "91/91 [==============================] - ETA: 0s - loss: 0.7748 - accuracy: 0.7277\n",
      "Epoch 9: val_loss did not improve from 0.77468\n",
      "91/91 [==============================] - 171s 2s/step - loss: 0.7748 - accuracy: 0.7277 - val_loss: 0.7834 - val_accuracy: 0.7202\n",
      "Epoch 10/50\n",
      "91/91 [==============================] - ETA: 0s - loss: 0.7763 - accuracy: 0.7371\n",
      "Epoch 10: val_loss did not improve from 0.77468\n",
      "91/91 [==============================] - 171s 2s/step - loss: 0.7763 - accuracy: 0.7371 - val_loss: 0.8297 - val_accuracy: 0.6946\n",
      "Epoch 11/50\n",
      "91/91 [==============================] - ETA: 0s - loss: 0.7920 - accuracy: 0.7246\n",
      "Epoch 11: val_loss did not improve from 0.77468\n",
      "91/91 [==============================] - 171s 2s/step - loss: 0.7920 - accuracy: 0.7246 - val_loss: 0.7832 - val_accuracy: 0.7116\n",
      "Epoch 12/50\n",
      "91/91 [==============================] - ETA: 0s - loss: 0.7728 - accuracy: 0.7257\n",
      "Epoch 12: val_loss improved from 0.77468 to 0.75404, saving model to version1\n",
      "INFO:tensorflow:Assets written to: version1\\assets\n"
     ]
    },
    {
     "name": "stderr",
     "output_type": "stream",
     "text": [
      "INFO:tensorflow:Assets written to: version1\\assets\n"
     ]
    },
    {
     "name": "stdout",
     "output_type": "stream",
     "text": [
      "91/91 [==============================] - 172s 2s/step - loss: 0.7728 - accuracy: 0.7257 - val_loss: 0.7540 - val_accuracy: 0.7216\n",
      "Epoch 13/50\n",
      "91/91 [==============================] - ETA: 0s - loss: 0.7592 - accuracy: 0.7326\n",
      "Epoch 13: val_loss did not improve from 0.75404\n",
      "91/91 [==============================] - 171s 2s/step - loss: 0.7592 - accuracy: 0.7326 - val_loss: 0.7659 - val_accuracy: 0.7188\n",
      "Epoch 14/50\n",
      "91/91 [==============================] - ETA: 0s - loss: 0.7701 - accuracy: 0.7277\n",
      "Epoch 14: val_loss did not improve from 0.75404\n",
      "91/91 [==============================] - 170s 2s/step - loss: 0.7701 - accuracy: 0.7277 - val_loss: 0.7802 - val_accuracy: 0.7202\n",
      "Epoch 15/50\n",
      "91/91 [==============================] - ETA: 0s - loss: 0.7571 - accuracy: 0.7350\n",
      "Epoch 15: val_loss did not improve from 0.75404\n",
      "91/91 [==============================] - 170s 2s/step - loss: 0.7571 - accuracy: 0.7350 - val_loss: 0.7568 - val_accuracy: 0.7315\n",
      "Epoch 16/50\n",
      "91/91 [==============================] - ETA: 0s - loss: 0.7609 - accuracy: 0.7305\n",
      "Epoch 16: val_loss did not improve from 0.75404\n",
      "91/91 [==============================] - 170s 2s/step - loss: 0.7609 - accuracy: 0.7305 - val_loss: 0.7984 - val_accuracy: 0.7159\n",
      "Epoch 17/50\n",
      "91/91 [==============================] - ETA: 0s - loss: 0.7483 - accuracy: 0.7426\n",
      "Epoch 17: val_loss did not improve from 0.75404\n",
      "91/91 [==============================] - 170s 2s/step - loss: 0.7483 - accuracy: 0.7426 - val_loss: 0.8109 - val_accuracy: 0.7045\n",
      "Epoch 18/50\n",
      "91/91 [==============================] - ETA: 0s - loss: 0.7493 - accuracy: 0.7367\n",
      "Epoch 18: val_loss did not improve from 0.75404\n",
      "91/91 [==============================] - 170s 2s/step - loss: 0.7493 - accuracy: 0.7367 - val_loss: 0.7781 - val_accuracy: 0.7188\n",
      "Epoch 19/50\n",
      "91/91 [==============================] - ETA: 0s - loss: 0.7543 - accuracy: 0.7274\n",
      "Epoch 19: val_loss did not improve from 0.75404\n",
      "91/91 [==============================] - 170s 2s/step - loss: 0.7543 - accuracy: 0.7274 - val_loss: 0.7685 - val_accuracy: 0.7173\n",
      "Epoch 20/50\n",
      "91/91 [==============================] - ETA: 0s - loss: 0.7430 - accuracy: 0.7346\n",
      "Epoch 20: val_loss did not improve from 0.75404\n",
      "91/91 [==============================] - 170s 2s/step - loss: 0.7430 - accuracy: 0.7346 - val_loss: 0.8146 - val_accuracy: 0.7088\n",
      "Epoch 21/50\n",
      "91/91 [==============================] - ETA: 0s - loss: 0.7617 - accuracy: 0.7302\n",
      "Epoch 21: val_loss did not improve from 0.75404\n",
      "91/91 [==============================] - 170s 2s/step - loss: 0.7617 - accuracy: 0.7302 - val_loss: 0.7571 - val_accuracy: 0.7244\n",
      "Epoch 22/50\n",
      "91/91 [==============================] - ETA: 0s - loss: 0.7489 - accuracy: 0.7357\n",
      "Epoch 22: val_loss did not improve from 0.75404\n",
      "91/91 [==============================] - 170s 2s/step - loss: 0.7489 - accuracy: 0.7357 - val_loss: 0.7651 - val_accuracy: 0.7216\n",
      "Epoch 23/50\n",
      "91/91 [==============================] - ETA: 0s - loss: 0.7256 - accuracy: 0.7491\n",
      "Epoch 23: val_loss did not improve from 0.75404\n",
      "91/91 [==============================] - 170s 2s/step - loss: 0.7256 - accuracy: 0.7491 - val_loss: 0.7642 - val_accuracy: 0.7259\n",
      "Epoch 24/50\n",
      "91/91 [==============================] - ETA: 0s - loss: 0.7280 - accuracy: 0.7412\n",
      "Epoch 24: val_loss did not improve from 0.75404\n",
      "91/91 [==============================] - 170s 2s/step - loss: 0.7280 - accuracy: 0.7412 - val_loss: 0.7987 - val_accuracy: 0.7216\n",
      "Epoch 25/50\n",
      "91/91 [==============================] - ETA: 0s - loss: 0.7312 - accuracy: 0.7467\n",
      "Epoch 25: val_loss did not improve from 0.75404\n",
      "91/91 [==============================] - 170s 2s/step - loss: 0.7312 - accuracy: 0.7467 - val_loss: 0.7714 - val_accuracy: 0.7202\n",
      "Epoch 26/50\n",
      "91/91 [==============================] - ETA: 0s - loss: 0.7181 - accuracy: 0.7457\n",
      "Epoch 26: val_loss did not improve from 0.75404\n",
      "91/91 [==============================] - 170s 2s/step - loss: 0.7181 - accuracy: 0.7457 - val_loss: 0.8076 - val_accuracy: 0.7145\n",
      "Epoch 27/50\n",
      "91/91 [==============================] - ETA: 0s - loss: 0.7194 - accuracy: 0.7464\n",
      "Epoch 27: val_loss did not improve from 0.75404\n",
      "91/91 [==============================] - 169s 2s/step - loss: 0.7194 - accuracy: 0.7464 - val_loss: 0.7597 - val_accuracy: 0.7202\n",
      "Epoch 28/50\n",
      "91/91 [==============================] - ETA: 0s - loss: 0.7129 - accuracy: 0.7553\n",
      "Epoch 28: val_loss did not improve from 0.75404\n",
      "91/91 [==============================] - 170s 2s/step - loss: 0.7129 - accuracy: 0.7553 - val_loss: 0.7839 - val_accuracy: 0.7273\n",
      "Epoch 29/50\n",
      "91/91 [==============================] - ETA: 0s - loss: 0.7176 - accuracy: 0.7495\n",
      "Epoch 29: val_loss did not improve from 0.75404\n",
      "91/91 [==============================] - 169s 2s/step - loss: 0.7176 - accuracy: 0.7495 - val_loss: 0.7696 - val_accuracy: 0.7358\n",
      "Epoch 30/50\n",
      "91/91 [==============================] - ETA: 0s - loss: 0.7170 - accuracy: 0.7526\n",
      "Epoch 30: val_loss did not improve from 0.75404\n",
      "91/91 [==============================] - 170s 2s/step - loss: 0.7170 - accuracy: 0.7526 - val_loss: 0.7956 - val_accuracy: 0.7131\n",
      "Epoch 31/50\n",
      "91/91 [==============================] - ETA: 0s - loss: 0.7020 - accuracy: 0.7585\n",
      "Epoch 31: val_loss did not improve from 0.75404\n",
      "91/91 [==============================] - 170s 2s/step - loss: 0.7020 - accuracy: 0.7585 - val_loss: 0.7690 - val_accuracy: 0.7159\n",
      "Epoch 32/50\n",
      "91/91 [==============================] - ETA: 0s - loss: 0.6939 - accuracy: 0.7529\n",
      "Epoch 32: val_loss did not improve from 0.75404\n",
      "91/91 [==============================] - 170s 2s/step - loss: 0.6939 - accuracy: 0.7529 - val_loss: 0.7843 - val_accuracy: 0.7315\n",
      "Epoch 33/50\n",
      "91/91 [==============================] - ETA: 0s - loss: 0.7043 - accuracy: 0.7553 \n",
      "Epoch 33: val_loss did not improve from 0.75404\n",
      "91/91 [==============================] - 3805s 42s/step - loss: 0.7043 - accuracy: 0.7553 - val_loss: 0.7968 - val_accuracy: 0.7188\n",
      "Epoch 34/50\n",
      "91/91 [==============================] - ETA: 0s - loss: 0.7015 - accuracy: 0.7564\n",
      "Epoch 34: val_loss did not improve from 0.75404\n",
      "91/91 [==============================] - 170s 2s/step - loss: 0.7015 - accuracy: 0.7564 - val_loss: 0.7824 - val_accuracy: 0.7287\n",
      "Epoch 35/50\n",
      "91/91 [==============================] - ETA: 0s - loss: 0.6878 - accuracy: 0.7581\n",
      "Epoch 35: val_loss did not improve from 0.75404\n",
      "91/91 [==============================] - 170s 2s/step - loss: 0.6878 - accuracy: 0.7581 - val_loss: 0.7969 - val_accuracy: 0.7102\n",
      "Epoch 36/50\n",
      "91/91 [==============================] - ETA: 0s - loss: 0.7028 - accuracy: 0.7505\n",
      "Epoch 36: val_loss did not improve from 0.75404\n",
      "91/91 [==============================] - 170s 2s/step - loss: 0.7028 - accuracy: 0.7505 - val_loss: 0.7771 - val_accuracy: 0.7259\n",
      "Epoch 37/50\n",
      "91/91 [==============================] - ETA: 0s - loss: 0.6910 - accuracy: 0.7581\n",
      "Epoch 37: val_loss did not improve from 0.75404\n",
      "91/91 [==============================] - 169s 2s/step - loss: 0.6910 - accuracy: 0.7581 - val_loss: 0.7784 - val_accuracy: 0.7287\n",
      "Epoch 38/50\n",
      "91/91 [==============================] - ETA: 0s - loss: 0.6924 - accuracy: 0.7574\n",
      "Epoch 38: val_loss did not improve from 0.75404\n",
      "91/91 [==============================] - 169s 2s/step - loss: 0.6924 - accuracy: 0.7574 - val_loss: 0.8131 - val_accuracy: 0.7244\n",
      "Epoch 39/50\n",
      "91/91 [==============================] - ETA: 0s - loss: 0.6839 - accuracy: 0.7626\n",
      "Epoch 39: val_loss did not improve from 0.75404\n",
      "91/91 [==============================] - 169s 2s/step - loss: 0.6839 - accuracy: 0.7626 - val_loss: 0.8007 - val_accuracy: 0.7273\n",
      "Epoch 40/50\n",
      "91/91 [==============================] - ETA: 0s - loss: 0.6655 - accuracy: 0.7598\n",
      "Epoch 40: val_loss did not improve from 0.75404\n",
      "91/91 [==============================] - 170s 2s/step - loss: 0.6655 - accuracy: 0.7598 - val_loss: 0.7656 - val_accuracy: 0.7330\n",
      "Epoch 41/50\n",
      "91/91 [==============================] - ETA: 0s - loss: 0.6686 - accuracy: 0.7685\n",
      "Epoch 41: val_loss did not improve from 0.75404\n",
      "91/91 [==============================] - 170s 2s/step - loss: 0.6686 - accuracy: 0.7685 - val_loss: 0.7556 - val_accuracy: 0.7273\n",
      "Epoch 42/50\n",
      "91/91 [==============================] - ETA: 0s - loss: 0.6572 - accuracy: 0.7667\n",
      "Epoch 42: val_loss did not improve from 0.75404\n",
      "91/91 [==============================] - 170s 2s/step - loss: 0.6572 - accuracy: 0.7667 - val_loss: 0.7769 - val_accuracy: 0.7287\n",
      "Epoch 43/50\n",
      "91/91 [==============================] - ETA: 0s - loss: 0.6737 - accuracy: 0.7605\n",
      "Epoch 43: val_loss did not improve from 0.75404\n",
      "91/91 [==============================] - 170s 2s/step - loss: 0.6737 - accuracy: 0.7605 - val_loss: 0.7874 - val_accuracy: 0.7315\n",
      "Epoch 44/50\n",
      "91/91 [==============================] - ETA: 0s - loss: 0.6621 - accuracy: 0.7712\n",
      "Epoch 44: val_loss did not improve from 0.75404\n",
      "91/91 [==============================] - 170s 2s/step - loss: 0.6621 - accuracy: 0.7712 - val_loss: 0.8041 - val_accuracy: 0.7230\n",
      "Epoch 45/50\n",
      "91/91 [==============================] - ETA: 0s - loss: 0.6492 - accuracy: 0.7678\n",
      "Epoch 45: val_loss did not improve from 0.75404\n",
      "91/91 [==============================] - 170s 2s/step - loss: 0.6492 - accuracy: 0.7678 - val_loss: 0.8036 - val_accuracy: 0.7188\n",
      "Epoch 46/50\n",
      "91/91 [==============================] - ETA: 0s - loss: 0.6385 - accuracy: 0.7750\n",
      "Epoch 46: val_loss did not improve from 0.75404\n",
      "91/91 [==============================] - 170s 2s/step - loss: 0.6385 - accuracy: 0.7750 - val_loss: 0.7941 - val_accuracy: 0.7244\n",
      "Epoch 47/50\n",
      "91/91 [==============================] - ETA: 0s - loss: 0.6422 - accuracy: 0.7754\n",
      "Epoch 47: val_loss did not improve from 0.75404\n",
      "91/91 [==============================] - 170s 2s/step - loss: 0.6422 - accuracy: 0.7754 - val_loss: 0.7971 - val_accuracy: 0.7259\n",
      "Epoch 48/50\n",
      "91/91 [==============================] - ETA: 0s - loss: 0.6275 - accuracy: 0.7764\n",
      "Epoch 48: val_loss did not improve from 0.75404\n",
      "91/91 [==============================] - 170s 2s/step - loss: 0.6275 - accuracy: 0.7764 - val_loss: 0.8095 - val_accuracy: 0.7259\n",
      "Epoch 49/50\n",
      "91/91 [==============================] - ETA: 0s - loss: 0.6338 - accuracy: 0.7767\n",
      "Epoch 49: val_loss did not improve from 0.75404\n",
      "91/91 [==============================] - 170s 2s/step - loss: 0.6338 - accuracy: 0.7767 - val_loss: 0.8010 - val_accuracy: 0.7230\n",
      "Epoch 50/50\n",
      "91/91 [==============================] - ETA: 0s - loss: 0.6137 - accuracy: 0.7795\n",
      "Epoch 50: val_loss did not improve from 0.75404\n",
      "91/91 [==============================] - 176s 2s/step - loss: 0.6137 - accuracy: 0.7795 - val_loss: 0.8131 - val_accuracy: 0.7330\n"
     ]
    },
    {
     "data": {
      "image/png": "[encoded data removed]",
      "text/plain": [
       "<Figure size 2000x1000 with 1 Axes>"
      ]
     },
     "metadata": {},
     "output_type": "display_data"
    },
    {
     "data": {
      "text/plain": [
       "<keras.src.callbacks.History at 0x2ce5cc1ecd0>"
      ]
     },
     "execution_count": 32,
     "metadata": {},
     "output_type": "execute_result"
    }
   ],
   "source": [
    "steps_per_epoch = 2930 // batch_size\n",
    "validation_steps = 732 // batch_size\n",
    "model.fit(\n",
    "    train_pic,\n",
    "    steps_per_epoch=steps_per_epoch, \n",
    "    epochs=50, \n",
    "    validation_data=test_pic,\n",
    "    validation_steps=validation_steps,\n",
    "    callbacks=[tm, plotter]\n",
    ")"
   ]
  },
  {
   "cell_type": "markdown",
   "metadata": {},
   "source": [
    "### 3. Give out Prediction Results"
   ]
  },
  {
   "cell_type": "code",
   "execution_count": 33,
   "metadata": {},
   "outputs": [
    {
     "name": "stdout",
     "output_type": "stream",
     "text": [
      "WARNING:tensorflow:From d:\\Python\\anaconda3\\envs\\AML\\Lib\\site-packages\\keras\\src\\saving\\legacy\\saved_model\\load.py:107: The name tf.gfile.Exists is deprecated. Please use tf.io.gfile.exists instead.\n",
      "\n"
     ]
    },
    {
     "name": "stderr",
     "output_type": "stream",
     "text": [
      "WARNING:tensorflow:From d:\\Python\\anaconda3\\envs\\AML\\Lib\\site-packages\\keras\\src\\saving\\legacy\\saved_model\\load.py:107: The name tf.gfile.Exists is deprecated. Please use tf.io.gfile.exists instead.\n",
      "\n"
     ]
    }
   ],
   "source": [
    "from keras.models import load_model\n",
    "from math import ceil\n",
    "\n",
    "trained_model = load_model('version1')\n",
    "\n",
    "prediction_df = pd.read_csv('sample_submission.csv')\n",
    "prediction_df['pic_id'] = prediction_df['id_code'].astype(str) + '.png'"
   ]
  },
  {
   "cell_type": "code",
   "execution_count": 34,
   "metadata": {},
   "outputs": [
    {
     "name": "stdout",
     "output_type": "stream",
     "text": [
      "Found 1928 validated image filenames.\n"
     ]
    }
   ],
   "source": [
    "prediction_pic = ImageDataGenerator(rescale=1/255)\n",
    "pre_prediction = prediction_pic.flow_from_dataframe(\n",
    "    dataframe=prediction_df,\n",
    "    directory='test_images',\n",
    "    x_col='pic_id',\n",
    "    y_col=None,\n",
    "    batch_size=batch_size,\n",
    "    class_mode=None,\n",
    "    shuffle=False,\n",
    "    target_size=(image_size, image_size)\n",
    ")"
   ]
  },
  {
   "cell_type": "code",
   "execution_count": 35,
   "metadata": {},
   "outputs": [
    {
     "name": "stdout",
     "output_type": "stream",
     "text": [
      "61/61 [==============================] - 47s 778ms/step\n"
     ]
    }
   ],
   "source": [
    "test_steps = ceil(pre_prediction.n / batch_size)\n",
    "\n",
    "results = trained_model.predict(pre_prediction, steps=test_steps)\n",
    "\n",
    "max_probability = np.argmax(results, axis=1)\n",
    "prediction_df['diagnosis'] = max_probability\n",
    "\n",
    "prediction_df.drop(columns=['pic_id'], inplace=True)\n",
    "prediction_df.to_csv('submission.csv', index=False)"
   ]
  }
 ],
 "metadata": {
  "kernelspec": {
   "display_name": "base",
   "language": "python",
   "name": "python3"
  },
  "language_info": {
   "codemirror_mode": {
    "name": "ipython",
    "version": 3
   },
   "file_extension": ".py",
   "mimetype": "text/x-python",
   "name": "python",
   "nbconvert_exporter": "python",
   "pygments_lexer": "ipython3",
   "version": "3.11.4"
  },
  "orig_nbformat": 4
 },
 "nbformat": 4,
 "nbformat_minor": 2
}
