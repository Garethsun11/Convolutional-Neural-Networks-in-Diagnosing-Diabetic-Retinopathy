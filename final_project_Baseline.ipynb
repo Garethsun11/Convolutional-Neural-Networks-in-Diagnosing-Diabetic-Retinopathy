{
 "cells": [
  {
   "cell_type": "markdown",
   "metadata": {},
   "source": [
    "## Final Project \n",
    "### Blindness Detection\n",
    "#### Group: Gareth Sun zs389, Zimu Li zl898, Arman Syed as3778\n"
   ]
  },
  {
   "cell_type": "markdown",
   "metadata": {},
   "source": [
    "### 1. Data Preprocess"
   ]
  },
  {
   "cell_type": "code",
   "execution_count": 1,
   "metadata": {},
   "outputs": [
    {
     "name": "stdout",
     "output_type": "stream",
     "text": [
      "WARNING:tensorflow:From d:\\Python\\anaconda3\\envs\\AML\\Lib\\site-packages\\keras\\src\\losses.py:2976: The name tf.losses.sparse_softmax_cross_entropy is deprecated. Please use tf.compat.v1.losses.sparse_softmax_cross_entropy instead.\n",
      "\n"
     ]
    }
   ],
   "source": [
    "# Import the Library we need\n",
    "import numpy as np\n",
    "import pandas as pd\n",
    "from tensorflow.keras.preprocessing.image import ImageDataGenerator\n",
    "import tensorflow as tf\n",
    "import torch\n",
    "import matplotlib.pyplot as plt"
   ]
  },
  {
   "cell_type": "code",
   "execution_count": 2,
   "metadata": {},
   "outputs": [
    {
     "name": "stdout",
     "output_type": "stream",
     "text": [
      "2.1.1\n",
      "True\n"
     ]
    }
   ],
   "source": [
    "print(torch.__version__)\n",
    "print(torch.cuda.is_available())"
   ]
  },
  {
   "cell_type": "code",
   "execution_count": 3,
   "metadata": {},
   "outputs": [
    {
     "name": "stdout",
     "output_type": "stream",
     "text": [
      "cuda\n"
     ]
    }
   ],
   "source": [
    "cuda_available = torch.cuda.is_available()\n",
    "device = torch.device(\"cuda\" if cuda_available else \"cpu\")\n",
    "print(device)"
   ]
  },
  {
   "cell_type": "code",
   "execution_count": 4,
   "metadata": {},
   "outputs": [
    {
     "name": "stdout",
     "output_type": "stream",
     "text": [
      "[]\n"
     ]
    }
   ],
   "source": [
    "print(tf.config.list_physical_devices('GPU'))"
   ]
  },
  {
   "cell_type": "code",
   "execution_count": 5,
   "metadata": {},
   "outputs": [
    {
     "data": {
      "text/html": [
       "<div>\n",
       "<style scoped>\n",
       "    .dataframe tbody tr th:only-of-type {\n",
       "        vertical-align: middle;\n",
       "    }\n",
       "\n",
       "    .dataframe tbody tr th {\n",
       "        vertical-align: top;\n",
       "    }\n",
       "\n",
       "    .dataframe thead th {\n",
       "        text-align: right;\n",
       "    }\n",
       "</style>\n",
       "<table border=\"1\" class=\"dataframe\">\n",
       "  <thead>\n",
       "    <tr style=\"text-align: right;\">\n",
       "      <th></th>\n",
       "      <th>id_code</th>\n",
       "      <th>diagnosis</th>\n",
       "      <th>pic_id</th>\n",
       "    </tr>\n",
       "  </thead>\n",
       "  <tbody>\n",
       "    <tr>\n",
       "      <th>0</th>\n",
       "      <td>000c1434d8d7</td>\n",
       "      <td>2</td>\n",
       "      <td>000c1434d8d7.png</td>\n",
       "    </tr>\n",
       "    <tr>\n",
       "      <th>1</th>\n",
       "      <td>001639a390f0</td>\n",
       "      <td>4</td>\n",
       "      <td>001639a390f0.png</td>\n",
       "    </tr>\n",
       "    <tr>\n",
       "      <th>2</th>\n",
       "      <td>0024cdab0c1e</td>\n",
       "      <td>1</td>\n",
       "      <td>0024cdab0c1e.png</td>\n",
       "    </tr>\n",
       "    <tr>\n",
       "      <th>3</th>\n",
       "      <td>002c21358ce6</td>\n",
       "      <td>0</td>\n",
       "      <td>002c21358ce6.png</td>\n",
       "    </tr>\n",
       "    <tr>\n",
       "      <th>4</th>\n",
       "      <td>005b95c28852</td>\n",
       "      <td>0</td>\n",
       "      <td>005b95c28852.png</td>\n",
       "    </tr>\n",
       "  </tbody>\n",
       "</table>\n",
       "</div>"
      ],
      "text/plain": [
       "        id_code diagnosis            pic_id\n",
       "0  000c1434d8d7         2  000c1434d8d7.png\n",
       "1  001639a390f0         4  001639a390f0.png\n",
       "2  0024cdab0c1e         1  0024cdab0c1e.png\n",
       "3  002c21358ce6         0  002c21358ce6.png\n",
       "4  005b95c28852         0  005b95c28852.png"
      ]
     },
     "execution_count": 5,
     "metadata": {},
     "output_type": "execute_result"
    }
   ],
   "source": [
    "# Load training Data\n",
    "train_df = pd.read_csv('train.csv')\n",
    "train_df['diagnosis'] = train_df['diagnosis'].astype(str)\n",
    "train_df['pic_id'] = train_df['id_code'].astype(str)+'.png'\n",
    "train_df.head()"
   ]
  },
  {
   "cell_type": "code",
   "execution_count": 6,
   "metadata": {},
   "outputs": [
    {
     "name": "stdout",
     "output_type": "stream",
     "text": [
      "Found 2930 validated image filenames belonging to 5 classes.\n",
      "Found 732 validated image filenames belonging to 5 classes.\n",
      "5\n",
      "3662\n"
     ]
    }
   ],
   "source": [
    "# Data Load\n",
    "preprocessor = ImageDataGenerator(\n",
    "    # Normalization\n",
    "    rescale=1/255,\n",
    "    validation_split=0.2\n",
    ")\n",
    "\n",
    "# Set the batch and image size\n",
    "image_size = 64\n",
    "batch_size = 32\n",
    "\n",
    "train_pic = preprocessor.flow_from_dataframe(\n",
    "    dataframe=train_df,\n",
    "    directory='train_images',\n",
    "    x_col='pic_id',\n",
    "    y_col='diagnosis',\n",
    "    batch_size=batch_size,\n",
    "    class_mode='categorical',\n",
    "    shuffle=True,\n",
    "    subset='training',\n",
    "    target_size=(image_size, image_size)\n",
    ")\n",
    "\n",
    "test_pic = preprocessor.flow_from_dataframe(\n",
    "    dataframe=train_df,\n",
    "    directory='train_images',\n",
    "    x_col='pic_id',\n",
    "    y_col='diagnosis',\n",
    "    batch_size=batch_size,\n",
    "    class_mode='categorical',\n",
    "    shuffle=True,\n",
    "    subset='validation',\n",
    "    target_size=(image_size, image_size)\n",
    ")\n",
    "\n",
    "# Covert category into one-hot code\n",
    "train_label = pd.get_dummies(train_df['diagnosis'])\n",
    "num_classes = train_label.shape[1]\n",
    "num_samples = train_label.shape[0]\n",
    "\n",
    "print(num_classes)\n",
    "print(num_samples)\n"
   ]
  },
  {
   "cell_type": "markdown",
   "metadata": {},
   "source": [
    "### 2. Build CNN Model"
   ]
  },
  {
   "cell_type": "code",
   "execution_count": 7,
   "metadata": {},
   "outputs": [],
   "source": [
    "from keras.models import Sequential\n",
    "from keras.layers import Conv2D, MaxPooling2D, Flatten, Dense, Dropout, GaussianDropout"
   ]
  },
  {
   "cell_type": "code",
   "execution_count": 8,
   "metadata": {},
   "outputs": [],
   "source": [
    "def cnn_model(image_size, num_classes):\n",
    "    model = Sequential()\n",
    "\n",
    "    model.add(Conv2D(16, (3, 3), activation='relu', input_shape=(image_size, image_size, 3)))\n",
    "    model.add(Conv2D(32, (3, 3), activation='relu'))\n",
    "    model.add(MaxPooling2D(pool_size=(2, 2)))\n",
    "    model.add(Conv2D(64, (5, 5), activation='relu'))\n",
    "    model.add(MaxPooling2D(pool_size=(2, 2)))\n",
    "    \n",
    "    model.add(Flatten())\n",
    "    model.add(Dense(128, activation='relu'))\n",
    "    model.add(Dense(64, activation='relu'))\n",
    "    model.add(Dense(32, activation='relu'))\n",
    "\n",
    "    model.add(Dense(num_classes, activation='softmax'))\n",
    "\n",
    "    model.compile(optimizer='adam', loss='categorical_crossentropy', metrics=['accuracy'])\n",
    "\n",
    "    return model"
   ]
  },
  {
   "cell_type": "code",
   "execution_count": 9,
   "metadata": {},
   "outputs": [
    {
     "name": "stdout",
     "output_type": "stream",
     "text": [
      "WARNING:tensorflow:From d:\\Python\\anaconda3\\envs\\AML\\Lib\\site-packages\\keras\\src\\backend.py:873: The name tf.get_default_graph is deprecated. Please use tf.compat.v1.get_default_graph instead.\n",
      "\n",
      "WARNING:tensorflow:From d:\\Python\\anaconda3\\envs\\AML\\Lib\\site-packages\\keras\\src\\layers\\pooling\\max_pooling2d.py:161: The name tf.nn.max_pool is deprecated. Please use tf.nn.max_pool2d instead.\n",
      "\n",
      "WARNING:tensorflow:From d:\\Python\\anaconda3\\envs\\AML\\Lib\\site-packages\\keras\\src\\optimizers\\__init__.py:309: The name tf.train.Optimizer is deprecated. Please use tf.compat.v1.train.Optimizer instead.\n",
      "\n"
     ]
    }
   ],
   "source": [
    "model = cnn_model(image_size, num_classes)\n",
    "# Save the model\n",
    "from keras.callbacks import ModelCheckpoint\n",
    "from keras.callbacks import Callback\n",
    "\n",
    "tm = ModelCheckpoint('version1', monitor='val_loss', save_best_only = True, mode ='min', verbose = 1)\n",
    "\n",
    "class AccuracyPlotter(Callback):\n",
    "    def on_train_begin(self, logs={}):\n",
    "        self.train_acc = []\n",
    "        self.val_acc = []\n",
    "\n",
    "    def on_epoch_end(self, epoch, logs={}):\n",
    "        self.train_acc.append(logs.get('accuracy'))\n",
    "        self.val_acc.append(logs.get('val_accuracy'))\n",
    "\n",
    "    def on_train_end(self, logs={}):\n",
    "        plt.figure(figsize=(20,10))\n",
    "        plt.plot(range(1, len(self.train_acc) + 1), self.train_acc, label='Training Accuracy')\n",
    "        plt.plot(range(1, len(self.val_acc) + 1), self.val_acc, label='Validation Accuracy')\n",
    "        plt.title('Accuracy Plot')\n",
    "        plt.xlabel('Epoch')\n",
    "        plt.ylabel('Accuracy')\n",
    "        plt.xticks(range(1, len(self.train_acc) + 1))\n",
    "        plt.legend()\n",
    "        plt.grid(True)\n",
    "        plt.show()\n",
    "        \n",
    "plotter = AccuracyPlotter()"
   ]
  },
  {
   "cell_type": "code",
   "execution_count": 10,
   "metadata": {},
   "outputs": [
    {
     "name": "stdout",
     "output_type": "stream",
     "text": [
      "Epoch 1/50\n",
      "WARNING:tensorflow:From d:\\Python\\anaconda3\\envs\\AML\\Lib\\site-packages\\keras\\src\\utils\\tf_utils.py:492: The name tf.ragged.RaggedTensorValue is deprecated. Please use tf.compat.v1.ragged.RaggedTensorValue instead.\n",
      "\n",
      "WARNING:tensorflow:From d:\\Python\\anaconda3\\envs\\AML\\Lib\\site-packages\\keras\\src\\engine\\base_layer_utils.py:384: The name tf.executing_eagerly_outside_functions is deprecated. Please use tf.compat.v1.executing_eagerly_outside_functions instead.\n",
      "\n",
      "91/91 [==============================] - ETA: 0s - loss: 0.9537 - accuracy: 0.6522\n",
      "Epoch 1: val_loss improved from inf to 0.83726, saving model to version1\n",
      "INFO:tensorflow:Assets written to: version1\\assets\n"
     ]
    },
    {
     "name": "stderr",
     "output_type": "stream",
     "text": [
      "INFO:tensorflow:Assets written to: version1\\assets\n"
     ]
    },
    {
     "name": "stdout",
     "output_type": "stream",
     "text": [
      "91/91 [==============================] - 180s 2s/step - loss: 0.9537 - accuracy: 0.6522 - val_loss: 0.8373 - val_accuracy: 0.6861\n",
      "Epoch 2/50\n",
      "91/91 [==============================] - ETA: 0s - loss: 0.7954 - accuracy: 0.7074\n",
      "Epoch 2: val_loss improved from 0.83726 to 0.81092, saving model to version1\n",
      "INFO:tensorflow:Assets written to: version1\\assets\n"
     ]
    },
    {
     "name": "stderr",
     "output_type": "stream",
     "text": [
      "INFO:tensorflow:Assets written to: version1\\assets\n"
     ]
    },
    {
     "name": "stdout",
     "output_type": "stream",
     "text": [
      "91/91 [==============================] - 227s 3s/step - loss: 0.7954 - accuracy: 0.7074 - val_loss: 0.8109 - val_accuracy: 0.7045\n",
      "Epoch 3/50\n",
      "91/91 [==============================] - ETA: 0s - loss: 0.7659 - accuracy: 0.7202\n",
      "Epoch 3: val_loss improved from 0.81092 to 0.79720, saving model to version1\n",
      "INFO:tensorflow:Assets written to: version1\\assets\n"
     ]
    },
    {
     "name": "stderr",
     "output_type": "stream",
     "text": [
      "INFO:tensorflow:Assets written to: version1\\assets\n"
     ]
    },
    {
     "name": "stdout",
     "output_type": "stream",
     "text": [
      "91/91 [==============================] - 239s 3s/step - loss: 0.7659 - accuracy: 0.7202 - val_loss: 0.7972 - val_accuracy: 0.7273\n",
      "Epoch 4/50\n",
      "91/91 [==============================] - ETA: 0s - loss: 0.7459 - accuracy: 0.7298\n",
      "Epoch 4: val_loss improved from 0.79720 to 0.76567, saving model to version1\n",
      "INFO:tensorflow:Assets written to: version1\\assets\n"
     ]
    },
    {
     "name": "stderr",
     "output_type": "stream",
     "text": [
      "INFO:tensorflow:Assets written to: version1\\assets\n"
     ]
    },
    {
     "name": "stdout",
     "output_type": "stream",
     "text": [
      "91/91 [==============================] - 240s 3s/step - loss: 0.7459 - accuracy: 0.7298 - val_loss: 0.7657 - val_accuracy: 0.7415\n",
      "Epoch 5/50\n",
      "91/91 [==============================] - ETA: 0s - loss: 0.7306 - accuracy: 0.7336\n",
      "Epoch 5: val_loss did not improve from 0.76567\n",
      "91/91 [==============================] - 232s 3s/step - loss: 0.7306 - accuracy: 0.7336 - val_loss: 0.8059 - val_accuracy: 0.7173\n",
      "Epoch 6/50\n",
      "91/91 [==============================] - ETA: 0s - loss: 0.7020 - accuracy: 0.7357\n",
      "Epoch 6: val_loss improved from 0.76567 to 0.74723, saving model to version1\n",
      "INFO:tensorflow:Assets written to: version1\\assets\n"
     ]
    },
    {
     "name": "stderr",
     "output_type": "stream",
     "text": [
      "INFO:tensorflow:Assets written to: version1\\assets\n"
     ]
    },
    {
     "name": "stdout",
     "output_type": "stream",
     "text": [
      "91/91 [==============================] - 208s 2s/step - loss: 0.7020 - accuracy: 0.7357 - val_loss: 0.7472 - val_accuracy: 0.7202\n",
      "Epoch 7/50\n",
      "91/91 [==============================] - ETA: 0s - loss: 0.7022 - accuracy: 0.7422\n",
      "Epoch 7: val_loss did not improve from 0.74723\n",
      "91/91 [==============================] - 209s 2s/step - loss: 0.7022 - accuracy: 0.7422 - val_loss: 0.7879 - val_accuracy: 0.7088\n",
      "Epoch 8/50\n",
      "91/91 [==============================] - ETA: 0s - loss: 0.6575 - accuracy: 0.7571\n",
      "Epoch 8: val_loss improved from 0.74723 to 0.74332, saving model to version1\n",
      "INFO:tensorflow:Assets written to: version1\\assets\n"
     ]
    },
    {
     "name": "stderr",
     "output_type": "stream",
     "text": [
      "INFO:tensorflow:Assets written to: version1\\assets\n"
     ]
    },
    {
     "name": "stdout",
     "output_type": "stream",
     "text": [
      "91/91 [==============================] - 204s 2s/step - loss: 0.6575 - accuracy: 0.7571 - val_loss: 0.7433 - val_accuracy: 0.7230\n",
      "Epoch 9/50\n",
      "91/91 [==============================] - ETA: 0s - loss: 0.6212 - accuracy: 0.7612\n",
      "Epoch 9: val_loss did not improve from 0.74332\n",
      "91/91 [==============================] - 189s 2s/step - loss: 0.6212 - accuracy: 0.7612 - val_loss: 0.8049 - val_accuracy: 0.7003\n",
      "Epoch 10/50\n",
      "91/91 [==============================] - ETA: 0s - loss: 0.5932 - accuracy: 0.7740\n",
      "Epoch 10: val_loss did not improve from 0.74332\n",
      "91/91 [==============================] - 190s 2s/step - loss: 0.5932 - accuracy: 0.7740 - val_loss: 0.7584 - val_accuracy: 0.7315\n",
      "Epoch 11/50\n",
      "91/91 [==============================] - ETA: 0s - loss: 0.5488 - accuracy: 0.7947\n",
      "Epoch 11: val_loss did not improve from 0.74332\n",
      "91/91 [==============================] - 189s 2s/step - loss: 0.5488 - accuracy: 0.7947 - val_loss: 0.7968 - val_accuracy: 0.6974\n",
      "Epoch 12/50\n",
      "91/91 [==============================] - ETA: 0s - loss: 0.5216 - accuracy: 0.7995\n",
      "Epoch 12: val_loss did not improve from 0.74332\n",
      "91/91 [==============================] - 188s 2s/step - loss: 0.5216 - accuracy: 0.7995 - val_loss: 0.8392 - val_accuracy: 0.7116\n",
      "Epoch 13/50\n",
      "91/91 [==============================] - ETA: 0s - loss: 0.4716 - accuracy: 0.8213\n",
      "Epoch 13: val_loss did not improve from 0.74332\n",
      "91/91 [==============================] - 186s 2s/step - loss: 0.4716 - accuracy: 0.8213 - val_loss: 0.9486 - val_accuracy: 0.7116\n",
      "Epoch 14/50\n",
      "91/91 [==============================] - ETA: 0s - loss: 0.4426 - accuracy: 0.8323\n",
      "Epoch 14: val_loss did not improve from 0.74332\n",
      "91/91 [==============================] - 187s 2s/step - loss: 0.4426 - accuracy: 0.8323 - val_loss: 1.0770 - val_accuracy: 0.7216\n",
      "Epoch 15/50\n",
      "91/91 [==============================] - ETA: 0s - loss: 0.3582 - accuracy: 0.8644\n",
      "Epoch 15: val_loss did not improve from 0.74332\n",
      "91/91 [==============================] - 189s 2s/step - loss: 0.3582 - accuracy: 0.8644 - val_loss: 1.0822 - val_accuracy: 0.7074\n",
      "Epoch 16/50\n",
      "91/91 [==============================] - ETA: 0s - loss: 0.3074 - accuracy: 0.8861\n",
      "Epoch 16: val_loss did not improve from 0.74332\n",
      "91/91 [==============================] - 186s 2s/step - loss: 0.3074 - accuracy: 0.8861 - val_loss: 1.2811 - val_accuracy: 0.7045\n",
      "Epoch 17/50\n",
      "91/91 [==============================] - ETA: 0s - loss: 0.2858 - accuracy: 0.8961\n",
      "Epoch 17: val_loss did not improve from 0.74332\n",
      "91/91 [==============================] - 184s 2s/step - loss: 0.2858 - accuracy: 0.8961 - val_loss: 1.3700 - val_accuracy: 0.7188\n",
      "Epoch 18/50\n",
      "91/91 [==============================] - ETA: 0s - loss: 0.2353 - accuracy: 0.9158\n",
      "Epoch 18: val_loss did not improve from 0.74332\n",
      "91/91 [==============================] - 185s 2s/step - loss: 0.2353 - accuracy: 0.9158 - val_loss: 1.4260 - val_accuracy: 0.7116\n",
      "Epoch 19/50\n",
      "91/91 [==============================] - ETA: 0s - loss: 0.1981 - accuracy: 0.9300\n",
      "Epoch 19: val_loss did not improve from 0.74332\n",
      "91/91 [==============================] - 186s 2s/step - loss: 0.1981 - accuracy: 0.9300 - val_loss: 1.6450 - val_accuracy: 0.7017\n",
      "Epoch 20/50\n",
      "91/91 [==============================] - ETA: 0s - loss: 0.1707 - accuracy: 0.9393\n",
      "Epoch 20: val_loss did not improve from 0.74332\n",
      "91/91 [==============================] - 185s 2s/step - loss: 0.1707 - accuracy: 0.9393 - val_loss: 1.6902 - val_accuracy: 0.6648\n",
      "Epoch 21/50\n",
      "91/91 [==============================] - ETA: 0s - loss: 0.1622 - accuracy: 0.9448\n",
      "Epoch 21: val_loss did not improve from 0.74332\n",
      "91/91 [==============================] - 184s 2s/step - loss: 0.1622 - accuracy: 0.9448 - val_loss: 1.8783 - val_accuracy: 0.7060\n",
      "Epoch 22/50\n",
      "91/91 [==============================] - ETA: 0s - loss: 0.1252 - accuracy: 0.9593\n",
      "Epoch 22: val_loss did not improve from 0.74332\n",
      "91/91 [==============================] - 195s 2s/step - loss: 0.1252 - accuracy: 0.9593 - val_loss: 1.8277 - val_accuracy: 0.6960\n",
      "Epoch 23/50\n",
      "91/91 [==============================] - ETA: 0s - loss: 0.1155 - accuracy: 0.9607\n",
      "Epoch 23: val_loss did not improve from 0.74332\n",
      "91/91 [==============================] - 177s 2s/step - loss: 0.1155 - accuracy: 0.9607 - val_loss: 1.8880 - val_accuracy: 0.7230\n",
      "Epoch 24/50\n",
      "91/91 [==============================] - ETA: 0s - loss: 0.0923 - accuracy: 0.9727\n",
      "Epoch 24: val_loss did not improve from 0.74332\n",
      "91/91 [==============================] - 233s 3s/step - loss: 0.0923 - accuracy: 0.9727 - val_loss: 2.1161 - val_accuracy: 0.7230\n",
      "Epoch 25/50\n",
      "91/91 [==============================] - ETA: 0s - loss: 0.0650 - accuracy: 0.9800\n",
      "Epoch 25: val_loss did not improve from 0.74332\n",
      "91/91 [==============================] - 230s 3s/step - loss: 0.0650 - accuracy: 0.9800 - val_loss: 2.1538 - val_accuracy: 0.6832\n",
      "Epoch 26/50\n",
      "91/91 [==============================] - ETA: 0s - loss: 0.0529 - accuracy: 0.9827\n",
      "Epoch 26: val_loss did not improve from 0.74332\n",
      "91/91 [==============================] - 216s 2s/step - loss: 0.0529 - accuracy: 0.9827 - val_loss: 2.2560 - val_accuracy: 0.6960\n",
      "Epoch 27/50\n",
      "91/91 [==============================] - ETA: 0s - loss: 0.0488 - accuracy: 0.9883\n",
      "Epoch 27: val_loss did not improve from 0.74332\n",
      "91/91 [==============================] - 224s 2s/step - loss: 0.0488 - accuracy: 0.9883 - val_loss: 2.3336 - val_accuracy: 0.7017\n",
      "Epoch 28/50\n",
      "91/91 [==============================] - ETA: 0s - loss: 0.0403 - accuracy: 0.9876\n",
      "Epoch 28: val_loss did not improve from 0.74332\n",
      "91/91 [==============================] - 228s 3s/step - loss: 0.0403 - accuracy: 0.9876 - val_loss: 2.2442 - val_accuracy: 0.7088\n",
      "Epoch 29/50\n",
      "91/91 [==============================] - ETA: 0s - loss: 0.0411 - accuracy: 0.9876\n",
      "Epoch 29: val_loss did not improve from 0.74332\n",
      "91/91 [==============================] - 227s 2s/step - loss: 0.0411 - accuracy: 0.9876 - val_loss: 2.4159 - val_accuracy: 0.7145\n",
      "Epoch 30/50\n",
      "91/91 [==============================] - ETA: 0s - loss: 0.0431 - accuracy: 0.9859\n",
      "Epoch 30: val_loss did not improve from 0.74332\n",
      "91/91 [==============================] - 207s 2s/step - loss: 0.0431 - accuracy: 0.9859 - val_loss: 2.3901 - val_accuracy: 0.7088\n",
      "Epoch 31/50\n",
      "91/91 [==============================] - ETA: 0s - loss: 0.0727 - accuracy: 0.9786\n",
      "Epoch 31: val_loss did not improve from 0.74332\n",
      "91/91 [==============================] - 190s 2s/step - loss: 0.0727 - accuracy: 0.9786 - val_loss: 2.1881 - val_accuracy: 0.7145\n",
      "Epoch 32/50\n",
      "91/91 [==============================] - ETA: 0s - loss: 0.0636 - accuracy: 0.9793\n",
      "Epoch 32: val_loss did not improve from 0.74332\n",
      "91/91 [==============================] - 198s 2s/step - loss: 0.0636 - accuracy: 0.9793 - val_loss: 2.4172 - val_accuracy: 0.6974\n",
      "Epoch 33/50\n",
      "91/91 [==============================] - ETA: 0s - loss: 0.0707 - accuracy: 0.9779\n",
      "Epoch 33: val_loss did not improve from 0.74332\n",
      "91/91 [==============================] - 200s 2s/step - loss: 0.0707 - accuracy: 0.9779 - val_loss: 2.0777 - val_accuracy: 0.7074\n",
      "Epoch 34/50\n",
      "91/91 [==============================] - ETA: 0s - loss: 0.0929 - accuracy: 0.9686\n",
      "Epoch 34: val_loss did not improve from 0.74332\n",
      "91/91 [==============================] - 192s 2s/step - loss: 0.0929 - accuracy: 0.9686 - val_loss: 2.2046 - val_accuracy: 0.7202\n",
      "Epoch 35/50\n",
      "91/91 [==============================] - ETA: 0s - loss: 0.0421 - accuracy: 0.9834\n",
      "Epoch 35: val_loss did not improve from 0.74332\n",
      "91/91 [==============================] - 190s 2s/step - loss: 0.0421 - accuracy: 0.9834 - val_loss: 2.4080 - val_accuracy: 0.7315\n",
      "Epoch 36/50\n",
      "91/91 [==============================] - ETA: 0s - loss: 0.0346 - accuracy: 0.9865\n",
      "Epoch 36: val_loss did not improve from 0.74332\n",
      "91/91 [==============================] - 189s 2s/step - loss: 0.0346 - accuracy: 0.9865 - val_loss: 2.5021 - val_accuracy: 0.7358\n",
      "Epoch 37/50\n",
      "91/91 [==============================] - ETA: 0s - loss: 0.0372 - accuracy: 0.9845\n",
      "Epoch 37: val_loss did not improve from 0.74332\n",
      "91/91 [==============================] - 173s 2s/step - loss: 0.0372 - accuracy: 0.9845 - val_loss: 2.3466 - val_accuracy: 0.7159\n",
      "Epoch 38/50\n",
      "91/91 [==============================] - ETA: 0s - loss: 0.0340 - accuracy: 0.9869\n",
      "Epoch 38: val_loss did not improve from 0.74332\n",
      "91/91 [==============================] - 174s 2s/step - loss: 0.0340 - accuracy: 0.9869 - val_loss: 2.4583 - val_accuracy: 0.6918\n",
      "Epoch 39/50\n",
      "91/91 [==============================] - ETA: 0s - loss: 0.0419 - accuracy: 0.9859\n",
      "Epoch 39: val_loss did not improve from 0.74332\n",
      "91/91 [==============================] - 176s 2s/step - loss: 0.0419 - accuracy: 0.9859 - val_loss: 2.4099 - val_accuracy: 0.7116\n",
      "Epoch 40/50\n",
      "91/91 [==============================] - ETA: 0s - loss: 0.0372 - accuracy: 0.9859\n",
      "Epoch 40: val_loss did not improve from 0.74332\n",
      "91/91 [==============================] - 176s 2s/step - loss: 0.0372 - accuracy: 0.9859 - val_loss: 2.3946 - val_accuracy: 0.7244\n",
      "Epoch 41/50\n",
      "91/91 [==============================] - ETA: 0s - loss: 0.0298 - accuracy: 0.9865\n",
      "Epoch 41: val_loss did not improve from 0.74332\n",
      "91/91 [==============================] - 174s 2s/step - loss: 0.0298 - accuracy: 0.9865 - val_loss: 2.6123 - val_accuracy: 0.7031\n",
      "Epoch 42/50\n",
      "91/91 [==============================] - ETA: 0s - loss: 0.0248 - accuracy: 0.9879\n",
      "Epoch 42: val_loss did not improve from 0.74332\n",
      "91/91 [==============================] - 172s 2s/step - loss: 0.0248 - accuracy: 0.9879 - val_loss: 2.5108 - val_accuracy: 0.7116\n",
      "Epoch 43/50\n",
      "91/91 [==============================] - ETA: 0s - loss: 0.0215 - accuracy: 0.9879\n",
      "Epoch 43: val_loss did not improve from 0.74332\n",
      "91/91 [==============================] - 171s 2s/step - loss: 0.0215 - accuracy: 0.9879 - val_loss: 2.5359 - val_accuracy: 0.7301\n",
      "Epoch 44/50\n",
      "91/91 [==============================] - ETA: 0s - loss: 0.0188 - accuracy: 0.9886\n",
      "Epoch 44: val_loss did not improve from 0.74332\n",
      "91/91 [==============================] - 172s 2s/step - loss: 0.0188 - accuracy: 0.9886 - val_loss: 2.5684 - val_accuracy: 0.7145\n",
      "Epoch 45/50\n",
      "91/91 [==============================] - ETA: 0s - loss: 0.0184 - accuracy: 0.9886\n",
      "Epoch 45: val_loss did not improve from 0.74332\n",
      "91/91 [==============================] - 173s 2s/step - loss: 0.0184 - accuracy: 0.9886 - val_loss: 2.6924 - val_accuracy: 0.7159\n",
      "Epoch 46/50\n",
      "91/91 [==============================] - ETA: 0s - loss: 0.0181 - accuracy: 0.9886\n",
      "Epoch 46: val_loss did not improve from 0.74332\n",
      "91/91 [==============================] - 177s 2s/step - loss: 0.0181 - accuracy: 0.9886 - val_loss: 2.5814 - val_accuracy: 0.7088\n",
      "Epoch 47/50\n",
      "91/91 [==============================] - ETA: 0s - loss: 0.0490 - accuracy: 0.9800\n",
      "Epoch 47: val_loss did not improve from 0.74332\n",
      "91/91 [==============================] - 173s 2s/step - loss: 0.0490 - accuracy: 0.9800 - val_loss: 2.4780 - val_accuracy: 0.7116\n",
      "Epoch 48/50\n",
      "91/91 [==============================] - ETA: 0s - loss: 0.1391 - accuracy: 0.9562\n",
      "Epoch 48: val_loss did not improve from 0.74332\n",
      "91/91 [==============================] - 174s 2s/step - loss: 0.1391 - accuracy: 0.9562 - val_loss: 2.1327 - val_accuracy: 0.7031\n",
      "Epoch 49/50\n",
      "91/91 [==============================] - ETA: 0s - loss: 0.0577 - accuracy: 0.9755\n",
      "Epoch 49: val_loss did not improve from 0.74332\n",
      "91/91 [==============================] - 176s 2s/step - loss: 0.0577 - accuracy: 0.9755 - val_loss: 2.5300 - val_accuracy: 0.6932\n",
      "Epoch 50/50\n",
      "91/91 [==============================] - ETA: 0s - loss: 0.0328 - accuracy: 0.9869\n",
      "Epoch 50: val_loss did not improve from 0.74332\n",
      "91/91 [==============================] - 176s 2s/step - loss: 0.0328 - accuracy: 0.9869 - val_loss: 2.4993 - val_accuracy: 0.7230\n"
     ]
    },
    {
     "data": {
      "image/png": "[encoded data removed]",
      "text/plain": [
       "<Figure size 2000x1000 with 1 Axes>"
      ]
     },
     "metadata": {},
     "output_type": "display_data"
    },
    {
     "data": {
      "text/plain": [
       "<keras.src.callbacks.History at 0x1f9cd928410>"
      ]
     },
     "execution_count": 10,
     "metadata": {},
     "output_type": "execute_result"
    }
   ],
   "source": [
    "steps_per_epoch = 2930 // batch_size\n",
    "validation_steps = 732 // batch_size\n",
    "model.fit(\n",
    "    train_pic,\n",
    "    steps_per_epoch=steps_per_epoch, \n",
    "    epochs=50, \n",
    "    validation_data=test_pic,\n",
    "    validation_steps=validation_steps,\n",
    "    callbacks=[tm, plotter]\n",
    ")"
   ]
  },
  {
   "cell_type": "markdown",
   "metadata": {},
   "source": [
    "### 3. Give out Prediction Results"
   ]
  },
  {
   "cell_type": "code",
   "execution_count": 11,
   "metadata": {},
   "outputs": [
    {
     "name": "stdout",
     "output_type": "stream",
     "text": [
      "WARNING:tensorflow:From d:\\Python\\anaconda3\\envs\\AML\\Lib\\site-packages\\keras\\src\\saving\\legacy\\saved_model\\load.py:107: The name tf.gfile.Exists is deprecated. Please use tf.io.gfile.exists instead.\n",
      "\n"
     ]
    },
    {
     "name": "stderr",
     "output_type": "stream",
     "text": [
      "WARNING:tensorflow:From d:\\Python\\anaconda3\\envs\\AML\\Lib\\site-packages\\keras\\src\\saving\\legacy\\saved_model\\load.py:107: The name tf.gfile.Exists is deprecated. Please use tf.io.gfile.exists instead.\n",
      "\n"
     ]
    }
   ],
   "source": [
    "from keras.models import load_model\n",
    "from math import ceil\n",
    "\n",
    "trained_model = load_model('version1')\n",
    "\n",
    "prediction_df = pd.read_csv('sample_submission.csv')\n",
    "prediction_df['pic_id'] = prediction_df['id_code'].astype(str) + '.png'"
   ]
  },
  {
   "cell_type": "code",
   "execution_count": 12,
   "metadata": {},
   "outputs": [
    {
     "name": "stdout",
     "output_type": "stream",
     "text": [
      "Found 1928 validated image filenames.\n"
     ]
    }
   ],
   "source": [
    "prediction_pic = ImageDataGenerator(rescale=1/255)\n",
    "pre_prediction = prediction_pic.flow_from_dataframe(\n",
    "    dataframe=prediction_df,\n",
    "    directory='test_images',\n",
    "    x_col='pic_id',\n",
    "    y_col=None,\n",
    "    batch_size=batch_size,\n",
    "    class_mode=None,\n",
    "    shuffle=False,\n",
    "    target_size=(image_size, image_size)\n",
    ")"
   ]
  },
  {
   "cell_type": "code",
   "execution_count": 13,
   "metadata": {},
   "outputs": [
    {
     "name": "stdout",
     "output_type": "stream",
     "text": [
      "61/61 [==============================] - 30s 489ms/step\n"
     ]
    }
   ],
   "source": [
    "test_steps = ceil(pre_prediction.n / batch_size)\n",
    "\n",
    "results = trained_model.predict(pre_prediction, steps=test_steps)\n",
    "\n",
    "max_probability = np.argmax(results, axis=1)\n",
    "prediction_df['diagnosis'] = max_probability\n",
    "\n",
    "prediction_df.drop(columns=['pic_id'], inplace=True)\n",
    "prediction_df.to_csv('submission.csv', index=False)"
   ]
  }
 ],
 "metadata": {
  "kernelspec": {
   "display_name": "base",
   "language": "python",
   "name": "python3"
  },
  "language_info": {
   "codemirror_mode": {
    "name": "ipython",
    "version": 3
   },
   "file_extension": ".py",
   "mimetype": "text/x-python",
   "name": "python",
   "nbconvert_exporter": "python",
   "pygments_lexer": "ipython3",
   "version": "3.11.4"
  },
  "orig_nbformat": 4
 },
 "nbformat": 4,
 "nbformat_minor": 2
}
