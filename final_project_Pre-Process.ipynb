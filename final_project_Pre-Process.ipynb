{
 "cells": [
  {
   "cell_type": "markdown",
   "metadata": {},
   "source": [
    "## Final Project \n",
    "### Blindness Detection\n",
    "#### Group: Gareth Sun zs389, Zimu Li zl898, Arman Syed as3778\n"
   ]
  },
  {
   "cell_type": "markdown",
   "metadata": {},
   "source": [
    "### 1. Data Preprocess"
   ]
  },
  {
   "cell_type": "code",
   "execution_count": 1,
   "metadata": {},
   "outputs": [
    {
     "name": "stdout",
     "output_type": "stream",
     "text": [
      "WARNING:tensorflow:From d:\\Python\\anaconda3\\envs\\AML\\Lib\\site-packages\\keras\\src\\losses.py:2976: The name tf.losses.sparse_softmax_cross_entropy is deprecated. Please use tf.compat.v1.losses.sparse_softmax_cross_entropy instead.\n",
      "\n"
     ]
    }
   ],
   "source": [
    "# Import the Library we need\n",
    "import numpy as np\n",
    "import pandas as pd\n",
    "from tensorflow.keras.preprocessing.image import ImageDataGenerator\n",
    "import tensorflow as tf\n",
    "import torch\n",
    "import matplotlib.pyplot as plt"
   ]
  },
  {
   "cell_type": "code",
   "execution_count": 2,
   "metadata": {},
   "outputs": [
    {
     "name": "stdout",
     "output_type": "stream",
     "text": [
      "2.1.1\n",
      "True\n"
     ]
    }
   ],
   "source": [
    "print(torch.__version__)\n",
    "print(torch.cuda.is_available())"
   ]
  },
  {
   "cell_type": "code",
   "execution_count": 3,
   "metadata": {},
   "outputs": [
    {
     "name": "stdout",
     "output_type": "stream",
     "text": [
      "cuda\n"
     ]
    }
   ],
   "source": [
    "cuda_available = torch.cuda.is_available()\n",
    "device = torch.device(\"cuda\" if cuda_available else \"cpu\")\n",
    "print(device)"
   ]
  },
  {
   "cell_type": "code",
   "execution_count": 4,
   "metadata": {},
   "outputs": [
    {
     "name": "stdout",
     "output_type": "stream",
     "text": [
      "[]\n"
     ]
    }
   ],
   "source": [
    "print(tf.config.list_physical_devices('GPU'))"
   ]
  },
  {
   "cell_type": "code",
   "execution_count": 5,
   "metadata": {},
   "outputs": [
    {
     "data": {
      "text/html": [
       "<div>\n",
       "<style scoped>\n",
       "    .dataframe tbody tr th:only-of-type {\n",
       "        vertical-align: middle;\n",
       "    }\n",
       "\n",
       "    .dataframe tbody tr th {\n",
       "        vertical-align: top;\n",
       "    }\n",
       "\n",
       "    .dataframe thead th {\n",
       "        text-align: right;\n",
       "    }\n",
       "</style>\n",
       "<table border=\"1\" class=\"dataframe\">\n",
       "  <thead>\n",
       "    <tr style=\"text-align: right;\">\n",
       "      <th></th>\n",
       "      <th>id_code</th>\n",
       "      <th>diagnosis</th>\n",
       "      <th>pic_id</th>\n",
       "    </tr>\n",
       "  </thead>\n",
       "  <tbody>\n",
       "    <tr>\n",
       "      <th>0</th>\n",
       "      <td>000c1434d8d7</td>\n",
       "      <td>2</td>\n",
       "      <td>000c1434d8d7.png</td>\n",
       "    </tr>\n",
       "    <tr>\n",
       "      <th>1</th>\n",
       "      <td>001639a390f0</td>\n",
       "      <td>4</td>\n",
       "      <td>001639a390f0.png</td>\n",
       "    </tr>\n",
       "    <tr>\n",
       "      <th>2</th>\n",
       "      <td>0024cdab0c1e</td>\n",
       "      <td>1</td>\n",
       "      <td>0024cdab0c1e.png</td>\n",
       "    </tr>\n",
       "    <tr>\n",
       "      <th>3</th>\n",
       "      <td>002c21358ce6</td>\n",
       "      <td>0</td>\n",
       "      <td>002c21358ce6.png</td>\n",
       "    </tr>\n",
       "    <tr>\n",
       "      <th>4</th>\n",
       "      <td>005b95c28852</td>\n",
       "      <td>0</td>\n",
       "      <td>005b95c28852.png</td>\n",
       "    </tr>\n",
       "  </tbody>\n",
       "</table>\n",
       "</div>"
      ],
      "text/plain": [
       "        id_code diagnosis            pic_id\n",
       "0  000c1434d8d7         2  000c1434d8d7.png\n",
       "1  001639a390f0         4  001639a390f0.png\n",
       "2  0024cdab0c1e         1  0024cdab0c1e.png\n",
       "3  002c21358ce6         0  002c21358ce6.png\n",
       "4  005b95c28852         0  005b95c28852.png"
      ]
     },
     "execution_count": 5,
     "metadata": {},
     "output_type": "execute_result"
    }
   ],
   "source": [
    "# Load training Data\n",
    "train_df = pd.read_csv('train.csv')\n",
    "train_df['diagnosis'] = train_df['diagnosis'].astype(str)\n",
    "train_df['pic_id'] = train_df['id_code'].astype(str)+'.png'\n",
    "train_df.head()"
   ]
  },
  {
   "cell_type": "code",
   "execution_count": 6,
   "metadata": {},
   "outputs": [
    {
     "name": "stdout",
     "output_type": "stream",
     "text": [
      "Found 2930 validated image filenames belonging to 5 classes.\n",
      "Found 732 validated image filenames belonging to 5 classes.\n",
      "5\n",
      "3662\n"
     ]
    }
   ],
   "source": [
    "# Data Load\n",
    "preprocessor = ImageDataGenerator(\n",
    "    # Normalization\n",
    "    rescale=1/255,\n",
    "    # Use Data Augmentation to prevent overfitting\n",
    "    shear_range=0.2,\n",
    "    zoom_range=0.2,\n",
    "    horizontal_flip=True,\n",
    "    # Split validation and training dataset\n",
    "    validation_split=0.2\n",
    ")\n",
    "\n",
    "# Set the batch and image size\n",
    "image_size = 64\n",
    "batch_size = 32\n",
    "\n",
    "train_pic = preprocessor.flow_from_dataframe(\n",
    "    dataframe=train_df,\n",
    "    directory='train_images',\n",
    "    x_col='pic_id',\n",
    "    y_col='diagnosis',\n",
    "    batch_size=batch_size,\n",
    "    class_mode='categorical',\n",
    "    shuffle=True,\n",
    "    subset='training',\n",
    "    target_size=(image_size, image_size)\n",
    ")\n",
    "\n",
    "test_pic = preprocessor.flow_from_dataframe(\n",
    "    dataframe=train_df,\n",
    "    directory='train_images',\n",
    "    x_col='pic_id',\n",
    "    y_col='diagnosis',\n",
    "    batch_size=batch_size,\n",
    "    class_mode='categorical',\n",
    "    shuffle=True,\n",
    "    subset='validation',\n",
    "    target_size=(image_size, image_size)\n",
    ")\n",
    "\n",
    "# Covert category into one-hot code\n",
    "train_label = pd.get_dummies(train_df['diagnosis'])\n",
    "num_classes = train_label.shape[1]\n",
    "num_samples = train_label.shape[0]\n",
    "\n",
    "print(num_classes)\n",
    "print(num_samples)\n"
   ]
  },
  {
   "cell_type": "markdown",
   "metadata": {},
   "source": [
    "### 2. Build CNN Model"
   ]
  },
  {
   "cell_type": "code",
   "execution_count": 7,
   "metadata": {},
   "outputs": [],
   "source": [
    "from keras.models import Sequential\n",
    "from keras.layers import Conv2D, MaxPooling2D, Flatten, Dense"
   ]
  },
  {
   "cell_type": "code",
   "execution_count": 8,
   "metadata": {},
   "outputs": [],
   "source": [
    "def cnn_model(image_size, num_classes):\n",
    "    model = Sequential()\n",
    "\n",
    "    model.add(Conv2D(16, (3, 3), activation='relu', input_shape=(image_size, image_size, 3)))\n",
    "    model.add(Conv2D(32, (3, 3), activation='relu'))\n",
    "    model.add(MaxPooling2D(pool_size=(2, 2)))\n",
    "    model.add(Conv2D(64, (5, 5), activation='relu'))\n",
    "    model.add(MaxPooling2D(pool_size=(2, 2)))\n",
    "    \n",
    "    model.add(Flatten())\n",
    "    model.add(Dense(128, activation='relu'))\n",
    "    model.add(Dense(64, activation='relu'))\n",
    "    model.add(Dense(32, activation='relu'))\n",
    "\n",
    "    model.add(Dense(num_classes, activation='softmax'))\n",
    "\n",
    "    model.compile(optimizer='adam', loss='categorical_crossentropy', metrics=['accuracy'])\n",
    "\n",
    "    return model"
   ]
  },
  {
   "cell_type": "code",
   "execution_count": 9,
   "metadata": {},
   "outputs": [
    {
     "name": "stdout",
     "output_type": "stream",
     "text": [
      "WARNING:tensorflow:From d:\\Python\\anaconda3\\envs\\AML\\Lib\\site-packages\\keras\\src\\backend.py:873: The name tf.get_default_graph is deprecated. Please use tf.compat.v1.get_default_graph instead.\n",
      "\n",
      "WARNING:tensorflow:From d:\\Python\\anaconda3\\envs\\AML\\Lib\\site-packages\\keras\\src\\layers\\pooling\\max_pooling2d.py:161: The name tf.nn.max_pool is deprecated. Please use tf.nn.max_pool2d instead.\n",
      "\n",
      "WARNING:tensorflow:From d:\\Python\\anaconda3\\envs\\AML\\Lib\\site-packages\\keras\\src\\optimizers\\__init__.py:309: The name tf.train.Optimizer is deprecated. Please use tf.compat.v1.train.Optimizer instead.\n",
      "\n"
     ]
    }
   ],
   "source": [
    "model = cnn_model(image_size, num_classes)\n",
    "# Save the model\n",
    "from keras.callbacks import ModelCheckpoint\n",
    "from keras.callbacks import Callback\n",
    "\n",
    "tm = ModelCheckpoint('version1', monitor='val_loss', save_best_only = True, mode ='min', verbose = 1)\n",
    "\n",
    "class AccuracyPlotter(Callback):\n",
    "    def on_train_begin(self, logs={}):\n",
    "        self.train_acc = []\n",
    "        self.val_acc = []\n",
    "\n",
    "    def on_epoch_end(self, epoch, logs={}):\n",
    "        self.train_acc.append(logs.get('accuracy'))\n",
    "        self.val_acc.append(logs.get('val_accuracy'))\n",
    "\n",
    "    def on_train_end(self, logs={}):\n",
    "        plt.figure(figsize=(20,10))\n",
    "        plt.plot(range(1, len(self.train_acc) + 1), self.train_acc, label='Training Accuracy')\n",
    "        plt.plot(range(1, len(self.val_acc) + 1), self.val_acc, label='Validation Accuracy')\n",
    "        plt.title('Accuracy Plot')\n",
    "        plt.xlabel('Epoch')\n",
    "        plt.ylabel('Accuracy')\n",
    "        plt.xticks(range(1, len(self.train_acc) + 1))\n",
    "        plt.legend()\n",
    "        plt.grid(True)\n",
    "        plt.show()\n",
    "        \n",
    "plotter = AccuracyPlotter()"
   ]
  },
  {
   "cell_type": "code",
   "execution_count": 10,
   "metadata": {},
   "outputs": [
    {
     "name": "stdout",
     "output_type": "stream",
     "text": [
      "Epoch 1/50\n",
      "WARNING:tensorflow:From d:\\Python\\anaconda3\\envs\\AML\\Lib\\site-packages\\keras\\src\\utils\\tf_utils.py:492: The name tf.ragged.RaggedTensorValue is deprecated. Please use tf.compat.v1.ragged.RaggedTensorValue instead.\n",
      "\n",
      "WARNING:tensorflow:From d:\\Python\\anaconda3\\envs\\AML\\Lib\\site-packages\\keras\\src\\engine\\base_layer_utils.py:384: The name tf.executing_eagerly_outside_functions is deprecated. Please use tf.compat.v1.executing_eagerly_outside_functions instead.\n",
      "\n",
      "91/91 [==============================] - ETA: 0s - loss: 1.1368 - accuracy: 0.5687\n",
      "Epoch 1: val_loss improved from inf to 1.01984, saving model to version1\n",
      "INFO:tensorflow:Assets written to: version1\\assets\n"
     ]
    },
    {
     "name": "stderr",
     "output_type": "stream",
     "text": [
      "INFO:tensorflow:Assets written to: version1\\assets\n"
     ]
    },
    {
     "name": "stdout",
     "output_type": "stream",
     "text": [
      "91/91 [==============================] - 206s 2s/step - loss: 1.1368 - accuracy: 0.5687 - val_loss: 1.0198 - val_accuracy: 0.6577\n",
      "Epoch 2/50\n",
      "91/91 [==============================] - ETA: 0s - loss: 0.9261 - accuracy: 0.6715\n",
      "Epoch 2: val_loss improved from 1.01984 to 0.90805, saving model to version1\n",
      "INFO:tensorflow:Assets written to: version1\\assets\n"
     ]
    },
    {
     "name": "stderr",
     "output_type": "stream",
     "text": [
      "INFO:tensorflow:Assets written to: version1\\assets\n"
     ]
    },
    {
     "name": "stdout",
     "output_type": "stream",
     "text": [
      "91/91 [==============================] - 175s 2s/step - loss: 0.9261 - accuracy: 0.6715 - val_loss: 0.9081 - val_accuracy: 0.6790\n",
      "Epoch 3/50\n",
      "91/91 [==============================] - ETA: 0s - loss: 0.8489 - accuracy: 0.7022\n",
      "Epoch 3: val_loss improved from 0.90805 to 0.86644, saving model to version1\n",
      "INFO:tensorflow:Assets written to: version1\\assets\n"
     ]
    },
    {
     "name": "stderr",
     "output_type": "stream",
     "text": [
      "INFO:tensorflow:Assets written to: version1\\assets\n"
     ]
    },
    {
     "name": "stdout",
     "output_type": "stream",
     "text": [
      "91/91 [==============================] - 173s 2s/step - loss: 0.8489 - accuracy: 0.7022 - val_loss: 0.8664 - val_accuracy: 0.6861\n",
      "Epoch 4/50\n",
      "91/91 [==============================] - ETA: 0s - loss: 0.8102 - accuracy: 0.7126\n",
      "Epoch 4: val_loss improved from 0.86644 to 0.85450, saving model to version1\n",
      "INFO:tensorflow:Assets written to: version1\\assets\n"
     ]
    },
    {
     "name": "stderr",
     "output_type": "stream",
     "text": [
      "INFO:tensorflow:Assets written to: version1\\assets\n"
     ]
    },
    {
     "name": "stdout",
     "output_type": "stream",
     "text": [
      "91/91 [==============================] - 172s 2s/step - loss: 0.8102 - accuracy: 0.7126 - val_loss: 0.8545 - val_accuracy: 0.6832\n",
      "Epoch 5/50\n",
      "91/91 [==============================] - ETA: 0s - loss: 0.8121 - accuracy: 0.7112\n",
      "Epoch 5: val_loss improved from 0.85450 to 0.83887, saving model to version1\n",
      "INFO:tensorflow:Assets written to: version1\\assets\n"
     ]
    },
    {
     "name": "stderr",
     "output_type": "stream",
     "text": [
      "INFO:tensorflow:Assets written to: version1\\assets\n"
     ]
    },
    {
     "name": "stdout",
     "output_type": "stream",
     "text": [
      "91/91 [==============================] - 171s 2s/step - loss: 0.8121 - accuracy: 0.7112 - val_loss: 0.8389 - val_accuracy: 0.6903\n",
      "Epoch 6/50\n",
      "91/91 [==============================] - ETA: 0s - loss: 0.7728 - accuracy: 0.7181\n",
      "Epoch 6: val_loss did not improve from 0.83887\n",
      "91/91 [==============================] - 171s 2s/step - loss: 0.7728 - accuracy: 0.7181 - val_loss: 0.8542 - val_accuracy: 0.6974\n",
      "Epoch 7/50\n",
      "91/91 [==============================] - ETA: 0s - loss: 0.7803 - accuracy: 0.7181\n",
      "Epoch 7: val_loss improved from 0.83887 to 0.81618, saving model to version1\n",
      "INFO:tensorflow:Assets written to: version1\\assets\n"
     ]
    },
    {
     "name": "stderr",
     "output_type": "stream",
     "text": [
      "INFO:tensorflow:Assets written to: version1\\assets\n"
     ]
    },
    {
     "name": "stdout",
     "output_type": "stream",
     "text": [
      "91/91 [==============================] - 172s 2s/step - loss: 0.7803 - accuracy: 0.7181 - val_loss: 0.8162 - val_accuracy: 0.7060\n",
      "Epoch 8/50\n",
      "91/91 [==============================] - ETA: 0s - loss: 0.7671 - accuracy: 0.7208\n",
      "Epoch 8: val_loss improved from 0.81618 to 0.81241, saving model to version1\n",
      "INFO:tensorflow:Assets written to: version1\\assets\n"
     ]
    },
    {
     "name": "stderr",
     "output_type": "stream",
     "text": [
      "INFO:tensorflow:Assets written to: version1\\assets\n"
     ]
    },
    {
     "name": "stdout",
     "output_type": "stream",
     "text": [
      "91/91 [==============================] - 172s 2s/step - loss: 0.7671 - accuracy: 0.7208 - val_loss: 0.8124 - val_accuracy: 0.7159\n",
      "Epoch 9/50\n",
      "91/91 [==============================] - ETA: 0s - loss: 0.7554 - accuracy: 0.7281\n",
      "Epoch 9: val_loss did not improve from 0.81241\n",
      "91/91 [==============================] - 171s 2s/step - loss: 0.7554 - accuracy: 0.7281 - val_loss: 0.8629 - val_accuracy: 0.7074\n",
      "Epoch 10/50\n",
      "91/91 [==============================] - ETA: 0s - loss: 0.7636 - accuracy: 0.7253\n",
      "Epoch 10: val_loss did not improve from 0.81241\n",
      "91/91 [==============================] - 171s 2s/step - loss: 0.7636 - accuracy: 0.7253 - val_loss: 0.8238 - val_accuracy: 0.7031\n",
      "Epoch 11/50\n",
      "91/91 [==============================] - ETA: 0s - loss: 0.7562 - accuracy: 0.7291\n",
      "Epoch 11: val_loss improved from 0.81241 to 0.79132, saving model to version1\n",
      "INFO:tensorflow:Assets written to: version1\\assets\n"
     ]
    },
    {
     "name": "stderr",
     "output_type": "stream",
     "text": [
      "INFO:tensorflow:Assets written to: version1\\assets\n"
     ]
    },
    {
     "name": "stdout",
     "output_type": "stream",
     "text": [
      "91/91 [==============================] - 172s 2s/step - loss: 0.7562 - accuracy: 0.7291 - val_loss: 0.7913 - val_accuracy: 0.7116\n",
      "Epoch 12/50\n",
      "91/91 [==============================] - ETA: 0s - loss: 0.7529 - accuracy: 0.7236\n",
      "Epoch 12: val_loss did not improve from 0.79132\n",
      "91/91 [==============================] - 171s 2s/step - loss: 0.7529 - accuracy: 0.7236 - val_loss: 0.8051 - val_accuracy: 0.7159\n",
      "Epoch 13/50\n",
      "91/91 [==============================] - ETA: 0s - loss: 0.7380 - accuracy: 0.7371\n",
      "Epoch 13: val_loss did not improve from 0.79132\n",
      "91/91 [==============================] - 171s 2s/step - loss: 0.7380 - accuracy: 0.7371 - val_loss: 0.7942 - val_accuracy: 0.7159\n",
      "Epoch 14/50\n",
      "91/91 [==============================] - ETA: 0s - loss: 0.7365 - accuracy: 0.7284\n",
      "Epoch 14: val_loss did not improve from 0.79132\n",
      "91/91 [==============================] - 171s 2s/step - loss: 0.7365 - accuracy: 0.7284 - val_loss: 0.8454 - val_accuracy: 0.6974\n",
      "Epoch 15/50\n",
      "91/91 [==============================] - ETA: 0s - loss: 0.7239 - accuracy: 0.7333\n",
      "Epoch 15: val_loss did not improve from 0.79132\n",
      "91/91 [==============================] - 171s 2s/step - loss: 0.7239 - accuracy: 0.7333 - val_loss: 0.8139 - val_accuracy: 0.6989\n",
      "Epoch 16/50\n",
      "91/91 [==============================] - ETA: 0s - loss: 0.7244 - accuracy: 0.7302\n",
      "Epoch 16: val_loss improved from 0.79132 to 0.77085, saving model to version1\n",
      "INFO:tensorflow:Assets written to: version1\\assets\n"
     ]
    },
    {
     "name": "stderr",
     "output_type": "stream",
     "text": [
      "INFO:tensorflow:Assets written to: version1\\assets\n"
     ]
    },
    {
     "name": "stdout",
     "output_type": "stream",
     "text": [
      "91/91 [==============================] - 172s 2s/step - loss: 0.7244 - accuracy: 0.7302 - val_loss: 0.7709 - val_accuracy: 0.7301\n",
      "Epoch 17/50\n",
      "91/91 [==============================] - ETA: 0s - loss: 0.7082 - accuracy: 0.7291\n",
      "Epoch 17: val_loss did not improve from 0.77085\n",
      "91/91 [==============================] - 170s 2s/step - loss: 0.7082 - accuracy: 0.7291 - val_loss: 0.8177 - val_accuracy: 0.6989\n",
      "Epoch 18/50\n",
      "91/91 [==============================] - ETA: 0s - loss: 0.6966 - accuracy: 0.7357\n",
      "Epoch 18: val_loss did not improve from 0.77085\n",
      "91/91 [==============================] - 171s 2s/step - loss: 0.6966 - accuracy: 0.7357 - val_loss: 0.8401 - val_accuracy: 0.6946\n",
      "Epoch 19/50\n",
      "91/91 [==============================] - ETA: 0s - loss: 0.6971 - accuracy: 0.7291\n",
      "Epoch 19: val_loss did not improve from 0.77085\n",
      "91/91 [==============================] - 171s 2s/step - loss: 0.6971 - accuracy: 0.7291 - val_loss: 0.7927 - val_accuracy: 0.7173\n",
      "Epoch 20/50\n",
      "91/91 [==============================] - ETA: 0s - loss: 0.6839 - accuracy: 0.7436\n",
      "Epoch 20: val_loss did not improve from 0.77085\n",
      "91/91 [==============================] - 171s 2s/step - loss: 0.6839 - accuracy: 0.7436 - val_loss: 0.7838 - val_accuracy: 0.7159\n",
      "Epoch 21/50\n",
      "91/91 [==============================] - ETA: 0s - loss: 0.6641 - accuracy: 0.7478\n",
      "Epoch 21: val_loss did not improve from 0.77085\n",
      "91/91 [==============================] - 171s 2s/step - loss: 0.6641 - accuracy: 0.7478 - val_loss: 0.7907 - val_accuracy: 0.7074\n",
      "Epoch 22/50\n",
      "91/91 [==============================] - ETA: 0s - loss: 0.6630 - accuracy: 0.7522\n",
      "Epoch 22: val_loss did not improve from 0.77085\n",
      "91/91 [==============================] - 171s 2s/step - loss: 0.6630 - accuracy: 0.7522 - val_loss: 0.7907 - val_accuracy: 0.7102\n",
      "Epoch 23/50\n",
      "91/91 [==============================] - ETA: 0s - loss: 0.6638 - accuracy: 0.7536\n",
      "Epoch 23: val_loss did not improve from 0.77085\n",
      "91/91 [==============================] - 170s 2s/step - loss: 0.6638 - accuracy: 0.7536 - val_loss: 0.7929 - val_accuracy: 0.7045\n",
      "Epoch 24/50\n",
      "91/91 [==============================] - ETA: 0s - loss: 0.6558 - accuracy: 0.7457\n",
      "Epoch 24: val_loss did not improve from 0.77085\n",
      "91/91 [==============================] - 185s 2s/step - loss: 0.6558 - accuracy: 0.7457 - val_loss: 0.7874 - val_accuracy: 0.7188\n",
      "Epoch 25/50\n",
      "91/91 [==============================] - ETA: 0s - loss: 0.6405 - accuracy: 0.7595 \n",
      "Epoch 25: val_loss did not improve from 0.77085\n",
      "91/91 [==============================] - 4895s 54s/step - loss: 0.6405 - accuracy: 0.7595 - val_loss: 0.7947 - val_accuracy: 0.7145\n",
      "Epoch 26/50\n",
      "91/91 [==============================] - ETA: 0s - loss: 0.6258 - accuracy: 0.7609\n",
      "Epoch 26: val_loss improved from 0.77085 to 0.77029, saving model to version1\n",
      "INFO:tensorflow:Assets written to: version1\\assets\n"
     ]
    },
    {
     "name": "stderr",
     "output_type": "stream",
     "text": [
      "INFO:tensorflow:Assets written to: version1\\assets\n"
     ]
    },
    {
     "name": "stdout",
     "output_type": "stream",
     "text": [
      "91/91 [==============================] - 195s 2s/step - loss: 0.6258 - accuracy: 0.7609 - val_loss: 0.7703 - val_accuracy: 0.7060\n",
      "Epoch 27/50\n",
      "91/91 [==============================] - ETA: 0s - loss: 0.6213 - accuracy: 0.7602\n",
      "Epoch 27: val_loss did not improve from 0.77029\n",
      "91/91 [==============================] - 186s 2s/step - loss: 0.6213 - accuracy: 0.7602 - val_loss: 0.7743 - val_accuracy: 0.7060\n",
      "Epoch 28/50\n",
      "91/91 [==============================] - ETA: 0s - loss: 0.6073 - accuracy: 0.7657\n",
      "Epoch 28: val_loss did not improve from 0.77029\n",
      "91/91 [==============================] - 182s 2s/step - loss: 0.6073 - accuracy: 0.7657 - val_loss: 0.7769 - val_accuracy: 0.7131\n",
      "Epoch 29/50\n",
      "91/91 [==============================] - ETA: 0s - loss: 0.5918 - accuracy: 0.7660\n",
      "Epoch 29: val_loss did not improve from 0.77029\n",
      "91/91 [==============================] - 184s 2s/step - loss: 0.5918 - accuracy: 0.7660 - val_loss: 0.8082 - val_accuracy: 0.7074\n",
      "Epoch 30/50\n",
      "91/91 [==============================] - ETA: 0s - loss: 0.5969 - accuracy: 0.7819\n",
      "Epoch 30: val_loss did not improve from 0.77029\n",
      "91/91 [==============================] - 185s 2s/step - loss: 0.5969 - accuracy: 0.7819 - val_loss: 0.8248 - val_accuracy: 0.6960\n",
      "Epoch 31/50\n",
      "91/91 [==============================] - ETA: 0s - loss: 0.5882 - accuracy: 0.7781\n",
      "Epoch 31: val_loss did not improve from 0.77029\n",
      "91/91 [==============================] - 183s 2s/step - loss: 0.5882 - accuracy: 0.7781 - val_loss: 0.7924 - val_accuracy: 0.7116\n",
      "Epoch 32/50\n",
      "91/91 [==============================] - ETA: 0s - loss: 0.5540 - accuracy: 0.7978\n",
      "Epoch 32: val_loss did not improve from 0.77029\n",
      "91/91 [==============================] - 184s 2s/step - loss: 0.5540 - accuracy: 0.7978 - val_loss: 0.8205 - val_accuracy: 0.7045\n",
      "Epoch 33/50\n",
      "91/91 [==============================] - ETA: 0s - loss: 0.5501 - accuracy: 0.7847\n",
      "Epoch 33: val_loss did not improve from 0.77029\n",
      "91/91 [==============================] - 184s 2s/step - loss: 0.5501 - accuracy: 0.7847 - val_loss: 0.8201 - val_accuracy: 0.6847\n",
      "Epoch 34/50\n",
      "91/91 [==============================] - ETA: 0s - loss: 0.5464 - accuracy: 0.7892\n",
      "Epoch 34: val_loss did not improve from 0.77029\n",
      "91/91 [==============================] - 184s 2s/step - loss: 0.5464 - accuracy: 0.7892 - val_loss: 0.8260 - val_accuracy: 0.7131\n",
      "Epoch 35/50\n",
      "91/91 [==============================] - ETA: 0s - loss: 0.5214 - accuracy: 0.8057\n",
      "Epoch 35: val_loss did not improve from 0.77029\n",
      "91/91 [==============================] - 183s 2s/step - loss: 0.5214 - accuracy: 0.8057 - val_loss: 0.8987 - val_accuracy: 0.6847\n",
      "Epoch 36/50\n",
      "91/91 [==============================] - ETA: 0s - loss: 0.5342 - accuracy: 0.7999\n",
      "Epoch 36: val_loss did not improve from 0.77029\n",
      "91/91 [==============================] - 186s 2s/step - loss: 0.5342 - accuracy: 0.7999 - val_loss: 0.8231 - val_accuracy: 0.6932\n",
      "Epoch 37/50\n",
      "91/91 [==============================] - ETA: 0s - loss: 0.5075 - accuracy: 0.8061\n",
      "Epoch 37: val_loss did not improve from 0.77029\n",
      "91/91 [==============================] - 186s 2s/step - loss: 0.5075 - accuracy: 0.8061 - val_loss: 0.9338 - val_accuracy: 0.6861\n",
      "Epoch 38/50\n",
      "91/91 [==============================] - ETA: 0s - loss: 0.4993 - accuracy: 0.8092\n",
      "Epoch 38: val_loss did not improve from 0.77029\n",
      "91/91 [==============================] - 190s 2s/step - loss: 0.4993 - accuracy: 0.8092 - val_loss: 0.9118 - val_accuracy: 0.7116\n",
      "Epoch 39/50\n",
      "91/91 [==============================] - ETA: 0s - loss: 0.5129 - accuracy: 0.8043\n",
      "Epoch 39: val_loss did not improve from 0.77029\n",
      "91/91 [==============================] - 185s 2s/step - loss: 0.5129 - accuracy: 0.8043 - val_loss: 0.9148 - val_accuracy: 0.7003\n",
      "Epoch 40/50\n",
      "91/91 [==============================] - ETA: 0s - loss: 0.4829 - accuracy: 0.8244\n",
      "Epoch 40: val_loss did not improve from 0.77029\n",
      "91/91 [==============================] - 182s 2s/step - loss: 0.4829 - accuracy: 0.8244 - val_loss: 0.8463 - val_accuracy: 0.6790\n",
      "Epoch 41/50\n",
      "91/91 [==============================] - ETA: 0s - loss: 0.4638 - accuracy: 0.8157\n",
      "Epoch 41: val_loss did not improve from 0.77029\n",
      "91/91 [==============================] - 186s 2s/step - loss: 0.4638 - accuracy: 0.8157 - val_loss: 0.8884 - val_accuracy: 0.7003\n",
      "Epoch 42/50\n",
      "91/91 [==============================] - ETA: 0s - loss: 0.4321 - accuracy: 0.8333\n",
      "Epoch 42: val_loss did not improve from 0.77029\n",
      "91/91 [==============================] - 182s 2s/step - loss: 0.4321 - accuracy: 0.8333 - val_loss: 0.9408 - val_accuracy: 0.6932\n",
      "Epoch 43/50\n",
      "91/91 [==============================] - ETA: 0s - loss: 0.4629 - accuracy: 0.8261\n",
      "Epoch 43: val_loss did not improve from 0.77029\n",
      "91/91 [==============================] - 183s 2s/step - loss: 0.4629 - accuracy: 0.8261 - val_loss: 0.9468 - val_accuracy: 0.6747\n",
      "Epoch 44/50\n",
      "91/91 [==============================] - ETA: 0s - loss: 0.4274 - accuracy: 0.8337\n",
      "Epoch 44: val_loss did not improve from 0.77029\n",
      "91/91 [==============================] - 183s 2s/step - loss: 0.4274 - accuracy: 0.8337 - val_loss: 0.8912 - val_accuracy: 0.7088\n",
      "Epoch 45/50\n",
      "91/91 [==============================] - ETA: 0s - loss: 0.3994 - accuracy: 0.8502 \n",
      "Epoch 45: val_loss did not improve from 0.77029\n",
      "91/91 [==============================] - 3780s 42s/step - loss: 0.3994 - accuracy: 0.8502 - val_loss: 1.0150 - val_accuracy: 0.6804\n",
      "Epoch 46/50\n",
      "91/91 [==============================] - ETA: 0s - loss: 0.3994 - accuracy: 0.8451\n",
      "Epoch 46: val_loss did not improve from 0.77029\n",
      "91/91 [==============================] - 184s 2s/step - loss: 0.3994 - accuracy: 0.8451 - val_loss: 1.0446 - val_accuracy: 0.6733\n",
      "Epoch 47/50\n",
      "91/91 [==============================] - ETA: 0s - loss: 0.4022 - accuracy: 0.8509\n",
      "Epoch 47: val_loss did not improve from 0.77029\n",
      "91/91 [==============================] - 180s 2s/step - loss: 0.4022 - accuracy: 0.8509 - val_loss: 1.0394 - val_accuracy: 0.6577\n",
      "Epoch 48/50\n",
      "91/91 [==============================] - ETA: 0s - loss: 0.3812 - accuracy: 0.8540\n",
      "Epoch 48: val_loss did not improve from 0.77029\n",
      "91/91 [==============================] - 184s 2s/step - loss: 0.3812 - accuracy: 0.8540 - val_loss: 0.9158 - val_accuracy: 0.7159\n",
      "Epoch 49/50\n",
      "91/91 [==============================] - ETA: 0s - loss: 0.3750 - accuracy: 0.8585\n",
      "Epoch 49: val_loss did not improve from 0.77029\n",
      "91/91 [==============================] - 183s 2s/step - loss: 0.3750 - accuracy: 0.8585 - val_loss: 1.0568 - val_accuracy: 0.6804\n",
      "Epoch 50/50\n",
      "91/91 [==============================] - ETA: 0s - loss: 0.3530 - accuracy: 0.8647\n",
      "Epoch 50: val_loss did not improve from 0.77029\n",
      "91/91 [==============================] - 182s 2s/step - loss: 0.3530 - accuracy: 0.8647 - val_loss: 1.0821 - val_accuracy: 0.6776\n"
     ]
    },
    {
     "data": {
      "image/png": "[encoded data removed]",
      "text/plain": [
       "<Figure size 2000x1000 with 1 Axes>"
      ]
     },
     "metadata": {},
     "output_type": "display_data"
    },
    {
     "data": {
      "text/plain": [
       "<keras.src.callbacks.History at 0x21758d06ed0>"
      ]
     },
     "execution_count": 10,
     "metadata": {},
     "output_type": "execute_result"
    }
   ],
   "source": [
    "steps_per_epoch = 2930 // batch_size\n",
    "validation_steps = 732 // batch_size\n",
    "model.fit(\n",
    "    train_pic,\n",
    "    steps_per_epoch=steps_per_epoch, \n",
    "    epochs=50, \n",
    "    validation_data=test_pic,\n",
    "    validation_steps=validation_steps,\n",
    "    callbacks=[tm, plotter]\n",
    ")"
   ]
  },
  {
   "cell_type": "markdown",
   "metadata": {},
   "source": [
    "### 3. Give out Prediction Results"
   ]
  },
  {
   "cell_type": "code",
   "execution_count": 11,
   "metadata": {},
   "outputs": [
    {
     "name": "stdout",
     "output_type": "stream",
     "text": [
      "WARNING:tensorflow:From d:\\Python\\anaconda3\\envs\\AML\\Lib\\site-packages\\keras\\src\\saving\\legacy\\saved_model\\load.py:107: The name tf.gfile.Exists is deprecated. Please use tf.io.gfile.exists instead.\n",
      "\n"
     ]
    },
    {
     "name": "stderr",
     "output_type": "stream",
     "text": [
      "WARNING:tensorflow:From d:\\Python\\anaconda3\\envs\\AML\\Lib\\site-packages\\keras\\src\\saving\\legacy\\saved_model\\load.py:107: The name tf.gfile.Exists is deprecated. Please use tf.io.gfile.exists instead.\n",
      "\n"
     ]
    }
   ],
   "source": [
    "from keras.models import load_model\n",
    "from math import ceil\n",
    "\n",
    "trained_model = load_model('version1')\n",
    "\n",
    "prediction_df = pd.read_csv('sample_submission.csv')\n",
    "prediction_df['pic_id'] = prediction_df['id_code'].astype(str) + '.png'"
   ]
  },
  {
   "cell_type": "code",
   "execution_count": 12,
   "metadata": {},
   "outputs": [
    {
     "name": "stdout",
     "output_type": "stream",
     "text": [
      "Found 1928 validated image filenames.\n"
     ]
    }
   ],
   "source": [
    "prediction_pic = ImageDataGenerator(rescale=1/255)\n",
    "pre_prediction = prediction_pic.flow_from_dataframe(\n",
    "    dataframe=prediction_df,\n",
    "    directory='test_images',\n",
    "    x_col='pic_id',\n",
    "    y_col=None,\n",
    "    batch_size=batch_size,\n",
    "    class_mode=None,\n",
    "    shuffle=False,\n",
    "    target_size=(image_size, image_size)\n",
    ")"
   ]
  },
  {
   "cell_type": "code",
   "execution_count": 13,
   "metadata": {},
   "outputs": [
    {
     "name": "stdout",
     "output_type": "stream",
     "text": [
      "61/61 [==============================] - 47s 772ms/step\n"
     ]
    }
   ],
   "source": [
    "test_steps = ceil(pre_prediction.n / batch_size)\n",
    "\n",
    "results = trained_model.predict(pre_prediction, steps=test_steps)\n",
    "\n",
    "max_probability = np.argmax(results, axis=1)\n",
    "prediction_df['diagnosis'] = max_probability\n",
    "\n",
    "prediction_df.drop(columns=['pic_id'], inplace=True)\n",
    "prediction_df.to_csv('submission.csv', index=False)"
   ]
  }
 ],
 "metadata": {
  "kernelspec": {
   "display_name": "base",
   "language": "python",
   "name": "python3"
  },
  "language_info": {
   "codemirror_mode": {
    "name": "ipython",
    "version": 3
   },
   "file_extension": ".py",
   "mimetype": "text/x-python",
   "name": "python",
   "nbconvert_exporter": "python",
   "pygments_lexer": "ipython3",
   "version": "3.11.4"
  },
  "orig_nbformat": 4
 },
 "nbformat": 4,
 "nbformat_minor": 2
}
